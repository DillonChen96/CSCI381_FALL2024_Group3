{
    "metadata": {
        "kernelspec": {
            "name": "SQL",
            "display_name": "SQL",
            "language": "sql"
        },
        "language_info": {
            "name": "sql",
            "version": ""
        }
    },
    "nbformat_minor": 2,
    "nbformat": 4,
    "cells": [
        {
            "cell_type": "code",
            "source": [
                "SELECT *\n",
                "INTO Sales.Orders_Tests\n",
                "FROM Sales.Orders;\n",
                ""
            ],
            "metadata": {
                "azdata_cell_guid": "19cac983-6e9e-40cb-bd91-518b159c4124",
                "language": "sql"
            },
            "outputs": [
                {
                    "output_type": "display_data",
                    "data": {
                        "text/html": "(73595 rows affected)"
                    },
                    "metadata": {}
                },
                {
                    "output_type": "display_data",
                    "data": {
                        "text/html": "Total execution time: 00:00:00.362"
                    },
                    "metadata": {}
                }
            ],
            "execution_count": 18
        },
        {
            "cell_type": "markdown",
            "source": [
                "We copy the Sales.Orders table and name it Sales.Orders\\_Test. This is going to be our first table we practice our queries."
            ],
            "metadata": {
                "azdata_cell_guid": "5f98723e-253d-42c0-ae99-2725ffe6da17"
            },
            "attachments": {}
        },
        {
            "cell_type": "code",
            "source": [
                "INSERT INTO Sales.Orders_Test \r\n",
                "(OrderID, CustomerID, SalespersonPersonID, ContactPersonID, OrderDate, ExpectedDeliveryDate, IsUndersupplyBackordered, LastEditedBy, LastEditedWhen)\r\n",
                "VALUES (5001, 1, 2, 1, GETDATE(), DATEADD(day, 7, GETDATE()), 0, 1, GETDATE());"
            ],
            "metadata": {
                "azdata_cell_guid": "3441cf07-691b-473b-9c21-56f950d42d37",
                "language": "sql",
                "tags": []
            },
            "outputs": [
                {
                    "output_type": "display_data",
                    "data": {
                        "text/html": "(1 row affected)"
                    },
                    "metadata": {}
                },
                {
                    "output_type": "display_data",
                    "data": {
                        "text/html": "Total execution time: 00:00:00.004"
                    },
                    "metadata": {}
                }
            ],
            "execution_count": 7
        },
        {
            "cell_type": "markdown",
            "source": [
                "Our first Query \n",
                "\n",
                "- **Purpose**: Adds a new record into the `Sales.Orders_Test` table.\n",
                "- **Columns Specified**: All necessary columns are listed to match the table structure, avoiding any null constraint violations.\n",
                "- **Values Provided**:\n",
                "    - `OrderID`: Given a unique ID of 5001.\n",
                "    - `CustomerID`, `SalespersonPersonID`, `ContactPersonID`: These foreign keys are set to valid values assuming these IDs exist.\n",
                "    - `OrderDate`: Set to the current date using `GETDATE()`.\n",
                "    - `ExpectedDeliveryDate`: Set to one week after the current date.\n",
                "    - `IsUndersupplyBackordered`: Indicates there is no backorder, set to 0 (false).\n",
                "    - `LastEditedBy` and `LastEditedWhen`: Tracks who and when the record was last updated, using an arbitrary ID and the current date/time."
            ],
            "metadata": {
                "language": "sql",
                "azdata_cell_guid": "e5b34755-bff2-477b-9be6-e4ef97e3f2e1"
            },
            "attachments": {}
        },
        {
            "cell_type": "code",
            "source": [
                "UPDATE Sales.Orders_Test\r\n",
                "SET ExpectedDeliveryDate = DATEADD(day, 7, ExpectedDeliveryDate)\r\n",
                "WHERE OrderID = 5001;\r\n",
                ""
            ],
            "metadata": {
                "language": "sql",
                "azdata_cell_guid": "d563e926-bf36-416c-8a5f-060c51cabb0f",
                "tags": []
            },
            "outputs": [
                {
                    "output_type": "display_data",
                    "data": {
                        "text/html": "(3 rows affected)"
                    },
                    "metadata": {}
                },
                {
                    "output_type": "display_data",
                    "data": {
                        "text/html": "Total execution time: 00:00:00.069"
                    },
                    "metadata": {}
                }
            ],
            "execution_count": 8
        },
        {
            "cell_type": "markdown",
            "source": [
                "Our second query\n",
                "\n",
                "**Explanation**:\n",
                "\n",
                "- **Purpose**: Updates the `ExpectedDeliveryDate` for a specific order.\n",
                "- **DATEADD Function**: Adds an additional 7 days to the existing `ExpectedDeliveryDate`.\n",
                "- **Condition**: Applies the update only to the order with `OrderID` of 5001."
            ],
            "metadata": {
                "language": "sql",
                "azdata_cell_guid": "4250622e-d34d-4391-8f24-ce7a3401b8c8"
            },
            "attachments": {}
        },
        {
            "cell_type": "code",
            "source": [
                "DELETE FROM Sales.Orders_Test\r\n",
                "WHERE OrderID = 5001;\r\n",
                ""
            ],
            "metadata": {
                "language": "sql",
                "azdata_cell_guid": "2168dcf0-cb33-4f11-9e6b-c4d1b8a15c67"
            },
            "outputs": [
                {
                    "output_type": "display_data",
                    "data": {
                        "text/html": "(3 rows affected)"
                    },
                    "metadata": {}
                },
                {
                    "output_type": "display_data",
                    "data": {
                        "text/html": "Total execution time: 00:00:00.026"
                    },
                    "metadata": {}
                }
            ],
            "execution_count": 9
        },
        {
            "cell_type": "markdown",
            "source": [
                "Our third query\n",
                "\n",
                "**Explanation**:\n",
                "\n",
                "- **Purpose**: Removes an order from the table.\n",
                "- **Condition**: Specifies that the order to be deleted has the `OrderID` of 5001, ensuring only this record is affected."
            ],
            "metadata": {
                "language": "sql",
                "azdata_cell_guid": "0b17fe0b-57d4-484a-b39d-301a42a475d1"
            },
            "attachments": {}
        },
        {
            "cell_type": "code",
            "source": [
                "INSERT INTO Sales.Orders_Test (CustomerID, SalespersonPersonID, ContactPersonID, OrderDate, ExpectedDeliveryDate, IsUndersupplyBackordered, LastEditedBy, LastEditedWhen)\r\n",
                "SELECT CustomerID, SalespersonPersonID, ContactPersonID, GETDATE(), DATEADD(day, 10, GETDATE()), IsUndersupplyBackordered, LastEditedBy, GETDATE()\r\n",
                "FROM Sales.Orders_Test\r\n",
                "WHERE OrderID <= 100;\r\n",
                ""
            ],
            "metadata": {
                "language": "sql",
                "azdata_cell_guid": "d246bdfd-ef9b-477f-92b6-aa2bd50dcfe3",
                "tags": []
            },
            "outputs": [
                {
                    "output_type": "error",
                    "evalue": "Msg 515, Level 16, State 2, Line 1\r\nCannot insert the value NULL into column 'OrderID', table 'WideWorldImporters.Sales.Orders_Test'; column does not allow nulls. INSERT fails.",
                    "ename": "",
                    "traceback": []
                },
                {
                    "output_type": "display_data",
                    "data": {
                        "text/html": "The statement has been terminated."
                    },
                    "metadata": {}
                },
                {
                    "output_type": "display_data",
                    "data": {
                        "text/html": "Total execution time: 00:00:00.011"
                    },
                    "metadata": {}
                }
            ],
            "execution_count": 10
        },
        {
            "cell_type": "markdown",
            "source": [
                "Our fourth query\n",
                "\n",
                "**Explanation**:\n",
                "\n",
                "- **Purpose**: Inserts new orders by duplicating existing orders with modifications.\n",
                "- **Source for Data**: Copies data from the same table for orders with `OrderID` less than or equal to 100.\n",
                "- **Modifications**: Sets the `OrderDate` to the current date and extends the `ExpectedDeliveryDate` by 10 days from now."
            ],
            "metadata": {
                "language": "sql",
                "azdata_cell_guid": "56c3bdd7-fb8c-4567-b083-8eb91d07de52"
            },
            "attachments": {}
        },
        {
            "cell_type": "code",
            "source": [
                "UPDATE Sales.Orders_Test\r\n",
                "SET SalespersonPersonID = 5\r\n",
                "WHERE OrderDate = '2014-10-01';\r\n",
                ""
            ],
            "metadata": {
                "language": "sql",
                "azdata_cell_guid": "34ea736d-cf0d-4db5-b716-9d12c6769b99"
            },
            "outputs": [
                {
                    "output_type": "display_data",
                    "data": {
                        "text/html": "(76 rows affected)"
                    },
                    "metadata": {}
                },
                {
                    "output_type": "display_data",
                    "data": {
                        "text/html": "Total execution time: 00:00:00.029"
                    },
                    "metadata": {}
                }
            ],
            "execution_count": 12
        },
        {
            "cell_type": "markdown",
            "source": [
                "Our fifth query\n",
                "\n",
                "**Explanation**:\n",
                "\n",
                "- **Purpose**: Updates the salesperson for all orders made on a specific date.\n",
                "- **Column Updated**: `SalespersonPersonID` is changed to 5 for all targeted records.\n",
                "- **Condition**: Filters the update to orders placed on October 1, 2023."
            ],
            "metadata": {
                "language": "sql",
                "azdata_cell_guid": "40832aa0-91bc-465e-8773-ce93c4ea750a"
            },
            "attachments": {}
        },
        {
            "cell_type": "code",
            "source": [
                "UPDATE Sales.Orders_Test\r\n",
                "SET IsUndersupplyBackordered = 0\r\n",
                "WHERE IsUndersupplyBackordered = 1;\r\n",
                ""
            ],
            "metadata": {
                "language": "sql",
                "azdata_cell_guid": "59146465-bad3-410b-ba2c-71a1df074f78"
            },
            "outputs": [
                {
                    "output_type": "display_data",
                    "data": {
                        "text/html": "(73594 rows affected)"
                    },
                    "metadata": {}
                },
                {
                    "output_type": "display_data",
                    "data": {
                        "text/html": "Total execution time: 00:00:00.158"
                    },
                    "metadata": {}
                }
            ],
            "execution_count": 13
        },
        {
            "cell_type": "markdown",
            "source": [
                "Our sixth query\n",
                "\n",
                "**Explanation**:\n",
                "\n",
                "- **Purpose**: Ensures no orders are marked as backordered.\n",
                "- **Column Updated**: Changes `IsUndersupplyBackordered` from true (1) to false (0).\n",
                "- **Condition**: Only affects orders previously marked as backordered."
            ],
            "metadata": {
                "language": "sql",
                "azdata_cell_guid": "5faa77b6-6e72-4009-b7e9-12dfa5c938b8"
            },
            "attachments": {}
        },
        {
            "cell_type": "code",
            "source": [
                "DELETE FROM Sales.Orders_Test\r\n",
                "WHERE OrderDate < DATEADD(year, -1, GETDATE());\r\n",
                ""
            ],
            "metadata": {
                "language": "sql",
                "azdata_cell_guid": "4bda79e3-214f-46e6-80e6-f694023d8213"
            },
            "outputs": [
                {
                    "output_type": "display_data",
                    "data": {
                        "text/html": "(73594 rows affected)"
                    },
                    "metadata": {}
                },
                {
                    "output_type": "display_data",
                    "data": {
                        "text/html": "Total execution time: 00:00:00.135"
                    },
                    "metadata": {}
                }
            ],
            "execution_count": 14
        },
        {
            "cell_type": "markdown",
            "source": [
                "Our seventh query\n",
                "\n",
                "**Explanation**:\n",
                "\n",
                "- **Purpose**: Cleans up old orders from the test table.\n",
                "- **Condition**: Uses `DATEADD` to calculate the date one year ago from today and deletes records older than that date."
            ],
            "metadata": {
                "language": "sql",
                "azdata_cell_guid": "9c678ecf-5c21-4d2e-a495-5a8294aeb7c7"
            },
            "attachments": {}
        },
        {
            "cell_type": "code",
            "source": [
                "UPDATE Sales.Orders_Test\r\n",
                "SET ExpectedDeliveryDate = DATEADD(day, 5, ExpectedDeliveryDate),\r\n",
                "    Comments = 'Delayed delivery due to increased demand.'\r\n",
                "WHERE ExpectedDeliveryDate > GETDATE();\r\n",
                ""
            ],
            "metadata": {
                "language": "sql",
                "azdata_cell_guid": "d15dd7de-54f5-4618-89b5-f23f39c311b7",
                "tags": []
            },
            "outputs": [
                {
                    "output_type": "display_data",
                    "data": {
                        "text/html": "(0 rows affected)"
                    },
                    "metadata": {}
                },
                {
                    "output_type": "display_data",
                    "data": {
                        "text/html": "Total execution time: 00:00:00.067"
                    },
                    "metadata": {}
                }
            ],
            "execution_count": 19
        },
        {
            "cell_type": "markdown",
            "source": [
                "Our eigth query \n",
                "\n",
                "**Explanation**:\n",
                "\n",
                "- **Purpose**: Adjusts delivery dates and adds a comment regarding the delay for all future deliveries.\n",
                "- **Multiple Column Updates**:\n",
                "    - Increases `ExpectedDeliveryDate` by 5 days.\n",
                "    - Adds a standardized comment to explain the reason for the delay.\n",
                "- **Condition**: Limits updates to orders with a delivery date that is still in the futur"
            ],
            "metadata": {
                "language": "sql",
                "azdata_cell_guid": "dbd7f91f-9a7e-43e2-9ab4-1971b32ffe4b"
            },
            "attachments": {}
        },
        {
            "cell_type": "code",
            "source": [
                "SELECT *\r\n",
                "INTO Sales.Customers_Test\r\n",
                "FROM Sales.Customers;\r\n",
                ""
            ],
            "metadata": {
                "language": "sql",
                "azdata_cell_guid": "f8746ddf-ce96-4608-8374-a8be9f67e185"
            },
            "outputs": [
                {
                    "output_type": "display_data",
                    "data": {
                        "text/html": "(663 rows affected)"
                    },
                    "metadata": {}
                },
                {
                    "output_type": "display_data",
                    "data": {
                        "text/html": "Total execution time: 00:00:00.021"
                    },
                    "metadata": {}
                }
            ],
            "execution_count": 20
        },
        {
            "cell_type": "markdown",
            "source": [
                "creating a copy of a second table to showcase the use of merge technique"
            ],
            "metadata": {
                "language": "sql",
                "azdata_cell_guid": "60020f14-ac10-4385-9e3f-53c66ae817cd"
            },
            "attachments": {}
        },
        {
            "cell_type": "code",
            "source": [
                "MERGE INTO Sales.Customers_Test AS target\r\n",
                "USING Sales.OldAccounts AS source\r\n",
                "ON target.CustomerID = source.CustomerID\r\n",
                "WHEN MATCHED THEN\r\n",
                "    UPDATE SET target.IsActive = 0;\r\n",
                ""
            ],
            "metadata": {
                "language": "sql",
                "azdata_cell_guid": "d75905ad-4f0c-48ed-8b0f-e30caf4a0a6d",
                "tags": []
            },
            "outputs": [
                {
                    "output_type": "error",
                    "evalue": "Msg 208, Level 16, State 1, Line 1\r\nInvalid object name 'Sales.OldAccounts'.",
                    "ename": "",
                    "traceback": []
                },
                {
                    "output_type": "display_data",
                    "data": {
                        "text/html": "Total execution time: 00:00:00.001"
                    },
                    "metadata": {}
                }
            ],
            "execution_count": 21
        },
        {
            "cell_type": "markdown",
            "source": [
                "Our 9th query\n",
                "\n",
                "**MERGE INTO**: Initiates a merge operation into the `Sales.Customers_Test` table which is aliased as `target`. This table will be modified based on the conditions that follow.  \n",
                "\n",
                "**USING**: Specifies the data source for the merge operation. `Sales.CustomerUpdates` is used as the source table, aliased as `source`. This table contains the updated data which will be compared against the target table.  \n",
                "\n",
                "**ON**: Defines the condition for matching rows between the target and source tables. The match is made where the `CustomerID` in the target table equals the `CustomerID` in the source table.  \n",
                "\n",
                "**WHEN MATCHED THEN**: Specifies the operation to perform when a match is found between a row in the target and a row in the source based on the condition set in the ON clause.  \n",
                "\n",
                "**UPDATE SET**: This command updates the fields in the target table for matched records. Here, it sets:\n",
                "\n",
                "- `PhoneNumber` to the `NewPhoneNumber` from the source.\n",
                "- `FaxNumber` to the `NewFaxNumber` from the source.\n",
                "- `DeliveryAddressLine1` to the `NewAddress` from the source.\n",
                "\n",
                "**WHEN NOT MATCHED BY TARGET THEN**: Specifies what to do if no matching rows are found in the target table for the rows in the source table.\n",
                "\n",
                "**INSERT**<span style=\"color: var(--vscode-foreground);\">: This command inserts a new row into the target table if no matching row exists. It fills the columns with values provided from the source table, ensuring that all required fields are populated according to the source's data.</span>\n",
                "\n",
                "<span style=\"color: var(--vscode-foreground);\"><br></span>\n",
                "\n",
                "<span style=\"color: var(--vscode-foreground);\"><br></span>"
            ],
            "metadata": {
                "language": "sql",
                "azdata_cell_guid": "e0aad652-ed27-4ad8-b949-759ce6db0a9a"
            },
            "attachments": {}
        },
        {
            "cell_type": "code",
            "source": [
                "MERGE INTO Sales.Customers_Test AS target\r\n",
                "USING Sales.CustomerUpdates AS source\r\n",
                "ON target.CustomerID = source.CustomerID\r\n",
                "WHEN MATCHED THEN\r\n",
                "    UPDATE SET \r\n",
                "        target.PhoneNumber = source.NewPhoneNumber,\r\n",
                "        target.FaxNumber = source.NewFaxNumber,\r\n",
                "        target.DeliveryAddressLine1 = source.NewAddress\r\n",
                "WHEN NOT MATCHED BY TARGET THEN\r\n",
                "    INSERT (CustomerID, CustomerName, PhoneNumber, FaxNumber, DeliveryAddressLine1, DeliveryMethodID, DeliveryCityID, PostalCityID, AccountOpenedDate, StandardDiscountPercentage, IsStatementSent, IsOnCreditHold, PaymentDays, LastEditedBy, ValidFrom, ValidTo)\r\n",
                "    VALUES (source.CustomerID, source.CustomerName, source.NewPhoneNumber, source.NewFaxNumber, source.NewAddress, source.DeliveryMethodID, source.DeliveryCityID, source.PostalCityID, source.AccountOpenedDate, source.StandardDiscountPercentage, source.IsStatementSent, source.IsOnCreditHold, source.PaymentDays, source.LastEditedBy, source.ValidFrom, source.ValidTo);\r\n",
                ""
            ],
            "metadata": {
                "language": "sql",
                "azdata_cell_guid": "09bff220-e013-4842-b2b2-0cd99f8c1182"
            },
            "outputs": [
                {
                    "output_type": "error",
                    "evalue": "Msg 208, Level 16, State 1, Line 1\r\nInvalid object name 'Sales.CustomerUpdates'.",
                    "ename": "",
                    "traceback": []
                },
                {
                    "output_type": "display_data",
                    "data": {
                        "text/html": "Total execution time: 00:00:00.001"
                    },
                    "metadata": {}
                }
            ],
            "execution_count": 22
        },
        {
            "cell_type": "markdown",
            "source": [
                "Our 10th query\n",
                "\n",
                " this starts a merge operation targeting the `Sales.Customers_Test` table, aliasing it as `target`.  \n",
                "\n",
                "Sets `Sales.OldAccounts` as the source table for the merge, aliasing it as `source`. This table contains identifiers of customer accounts that are considered old or inactive.  \n",
                "\n",
                "The match condition between the target and source tables is based on `CustomerID`.  \n",
                "\n",
                "Specifies the operation to execute when there's a matching row found between the target and source tables based on the `CustomerID`.  \n",
                "\n",
                "**UPDATE SET**: Updates the `IsActive` field in the target table to `0` for matched rows, marking these customer accounts as inactive."
            ],
            "metadata": {
                "language": "sql",
                "azdata_cell_guid": "05afd78f-683a-41f3-8cb4-0bb40eaa22e2"
            },
            "attachments": {}
        }
    ]
}
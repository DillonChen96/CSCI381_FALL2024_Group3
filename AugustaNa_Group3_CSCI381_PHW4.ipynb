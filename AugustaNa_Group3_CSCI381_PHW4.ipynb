{
    "metadata": {
        "kernelspec": {
            "name": "SQL",
            "display_name": "SQL",
            "language": "sql"
        },
        "language_info": {
            "name": "sql",
            "version": ""
        }
    },
    "nbformat_minor": 2,
    "nbformat": 4,
    "cells": [
        {
            "cell_type": "markdown",
            "source": [
                "Creating table example from textbook."
            ],
            "metadata": {
                "azdata_cell_guid": "a6524fe7-d25f-4f81-b3ca-6c1f2236ac97"
            },
            "attachments": {}
        },
        {
            "cell_type": "code",
            "source": [
                "USE WideWorldImporters\n",
                "SELECT *\n",
                "FROM dbo.Orders"
            ],
            "metadata": {
                "azdata_cell_guid": "732acb17-98cd-4b6b-8b28-87320f3cae15",
                "language": "sql",
                "tags": []
            },
            "outputs": [
                {
                    "output_type": "display_data",
                    "data": {
                        "text/html": "(0 rows affected)"
                    },
                    "metadata": {}
                },
                {
                    "output_type": "display_data",
                    "data": {
                        "text/html": "Total execution time: 00:00:00.017"
                    },
                    "metadata": {}
                },
                {
                    "output_type": "execute_result",
                    "metadata": {},
                    "execution_count": 121,
                    "data": {
                        "application/vnd.dataresource+json": {
                            "schema": {
                                "fields": [
                                    {
                                        "name": "orderid"
                                    },
                                    {
                                        "name": "orderdate"
                                    },
                                    {
                                        "name": "empid"
                                    },
                                    {
                                        "name": "custid"
                                    }
                                ]
                            },
                            "data": []
                        },
                        "text/html": [
                            "<table>",
                            "<tr><th>orderid</th><th>orderdate</th><th>empid</th><th>custid</th></tr>",
                            "</table>"
                        ]
                    }
                }
            ],
            "execution_count": 121
        },
        {
            "cell_type": "code",
            "source": [
                "USE WideWorldImporters\n",
                "DROP TABLE IF EXISTS dbo.Orders;\n",
                "CREATE TABLE dbo.Orders\n",
                "(\n",
                "orderid INT NOT NULL\n",
                "CONSTRAINT PK_Orders PRIMARY KEY,\n",
                "\n",
                "orderdate DATE NOT NULL\n",
                "CONSTRAINT DFT_orderdate DEFAULT(SYSDATETIME()),\n",
                "\n",
                "empid INT NOT NULL,\n",
                "custid VARCHAR(10) NOT NULL\n",
                ");"
            ],
            "metadata": {
                "azdata_cell_guid": "d20cd572-cc4e-4269-9f5f-76287c7d4173",
                "language": "sql",
                "tags": []
            },
            "outputs": [],
            "execution_count": null
        },
        {
            "cell_type": "markdown",
            "source": [
                "Proposition 1: Simple Insert into dbo.Orders."
            ],
            "metadata": {
                "azdata_cell_guid": "46151c72-2b2d-4e90-8640-56da797ca77d"
            },
            "attachments": {}
        },
        {
            "cell_type": "code",
            "source": [
                "USE WideWorldImporters\n",
                "INSERT INTO dbo.Orders(orderid, empid, custid)\n",
                "VALUES(10001, 3,'A');"
            ],
            "metadata": {
                "azdata_cell_guid": "1628c392-d35f-4f06-83a3-0fd6d5db3f44",
                "language": "sql"
            },
            "outputs": [
                {
                    "output_type": "display_data",
                    "data": {
                        "text/html": "(1 row affected)"
                    },
                    "metadata": {}
                },
                {
                    "output_type": "display_data",
                    "data": {
                        "text/html": "Total execution time: 00:00:00.038"
                    },
                    "metadata": {}
                }
            ],
            "execution_count": 118
        },
        {
            "cell_type": "markdown",
            "source": [
                "Proposition 2: simple delete orders a year from today."
            ],
            "metadata": {
                "azdata_cell_guid": "d11eb2c4-5452-4de7-ba14-25642f497dd8"
            },
            "attachments": {}
        },
        {
            "cell_type": "code",
            "source": [
                "USE WideWorldImporters\n",
                "DELETE FROM dbo.Orders\n",
                "WHERE Orderdate > DATEADD(YEAR, -1,SYSDATETIME() )"
            ],
            "metadata": {
                "azdata_cell_guid": "8e125546-9b3a-41e2-8cd5-a1afb808880f",
                "language": "sql"
            },
            "outputs": [
                {
                    "output_type": "display_data",
                    "data": {
                        "text/html": "(1 row affected)"
                    },
                    "metadata": {}
                },
                {
                    "output_type": "display_data",
                    "data": {
                        "text/html": "Total execution time: 00:00:00.016"
                    },
                    "metadata": {}
                }
            ],
            "execution_count": 120
        },
        {
            "cell_type": "markdown",
            "source": [
                "Proposition 3: Inserting customer id's into dbo.customers from those who placed an order."
            ],
            "metadata": {
                "azdata_cell_guid": "364f5700-1a54-4d1c-80fa-901f8fa26e67"
            },
            "attachments": {}
        },
        {
            "cell_type": "code",
            "source": [
                "USE WideWorldImporters\n",
                "SELECT *\n",
                "--FROM sales.Customers\n",
                "FROM dbo.Customers"
            ],
            "metadata": {
                "azdata_cell_guid": "0e7229d3-d308-45a3-b292-8e79c9edbd0d",
                "language": "sql",
                "tags": []
            },
            "outputs": [
                {
                    "output_type": "display_data",
                    "data": {
                        "text/html": "(663 rows affected)"
                    },
                    "metadata": {}
                },
                {
                    "output_type": "display_data",
                    "data": {
                        "text/html": "Total execution time: 00:00:00.042"
                    },
                    "metadata": {}
                },
                {
                    "output_type": "execute_result",
                    "metadata": {},
                    "execution_count": 126,
                    "data": {
                        "application/vnd.dataresource+json": {
                            "schema": {
                                "fields": [
                                    {
                                        "name": "custid"
                                    },
                                    {
                                        "name": "companyname"
                                    },
                                    {
                                        "name": "country"
                                    },
                                    {
                                        "name": "region"
                                    },
                                    {
                                        "name": "city"
                                    }
                                ]
                            },
                            "data": [
                                {
                                    "custid": "1",
                                    "companyname": "NULL",
                                    "country": "NULL",
                                    "region": "NULL",
                                    "city": "NULL"
                                },
                                {
                                    "custid": "2",
                                    "companyname": "NULL",
                                    "country": "NULL",
                                    "region": "NULL",
                                    "city": "NULL"
                                },
                                {
                                    "custid": "3",
                                    "companyname": "NULL",
                                    "country": "NULL",
                                    "region": "NULL",
                                    "city": "NULL"
                                },
                                {
                                    "custid": "4",
                                    "companyname": "NULL",
                                    "country": "NULL",
                                    "region": "NULL",
                                    "city": "NULL"
                                },
                                {
                                    "custid": "5",
                                    "companyname": "NULL",
                                    "country": "NULL",
                                    "region": "NULL",
                                    "city": "NULL"
                                },
                                {
                                    "custid": "6",
                                    "companyname": "NULL",
                                    "country": "NULL",
                                    "region": "NULL",
                                    "city": "NULL"
                                },
                                {
                                    "custid": "7",
                                    "companyname": "NULL",
                                    "country": "NULL",
                                    "region": "NULL",
                                    "city": "NULL"
                                },
                                {
                                    "custid": "8",
                                    "companyname": "NULL",
                                    "country": "NULL",
                                    "region": "NULL",
                                    "city": "NULL"
                                },
                                {
                                    "custid": "9",
                                    "companyname": "NULL",
                                    "country": "NULL",
                                    "region": "NULL",
                                    "city": "NULL"
                                },
                                {
                                    "custid": "10",
                                    "companyname": "NULL",
                                    "country": "NULL",
                                    "region": "NULL",
                                    "city": "NULL"
                                },
                                {
                                    "custid": "11",
                                    "companyname": "NULL",
                                    "country": "NULL",
                                    "region": "NULL",
                                    "city": "NULL"
                                },
                                {
                                    "custid": "12",
                                    "companyname": "NULL",
                                    "country": "NULL",
                                    "region": "NULL",
                                    "city": "NULL"
                                },
                                {
                                    "custid": "13",
                                    "companyname": "NULL",
                                    "country": "NULL",
                                    "region": "NULL",
                                    "city": "NULL"
                                },
                                {
                                    "custid": "14",
                                    "companyname": "NULL",
                                    "country": "NULL",
                                    "region": "NULL",
                                    "city": "NULL"
                                },
                                {
                                    "custid": "15",
                                    "companyname": "NULL",
                                    "country": "NULL",
                                    "region": "NULL",
                                    "city": "NULL"
                                },
                                {
                                    "custid": "16",
                                    "companyname": "NULL",
                                    "country": "NULL",
                                    "region": "NULL",
                                    "city": "NULL"
                                },
                                {
                                    "custid": "17",
                                    "companyname": "NULL",
                                    "country": "NULL",
                                    "region": "NULL",
                                    "city": "NULL"
                                },
                                {
                                    "custid": "18",
                                    "companyname": "NULL",
                                    "country": "NULL",
                                    "region": "NULL",
                                    "city": "NULL"
                                },
                                {
                                    "custid": "19",
                                    "companyname": "NULL",
                                    "country": "NULL",
                                    "region": "NULL",
                                    "city": "NULL"
                                },
                                {
                                    "custid": "20",
                                    "companyname": "NULL",
                                    "country": "NULL",
                                    "region": "NULL",
                                    "city": "NULL"
                                },
                                {
                                    "custid": "21",
                                    "companyname": "NULL",
                                    "country": "NULL",
                                    "region": "NULL",
                                    "city": "NULL"
                                },
                                {
                                    "custid": "22",
                                    "companyname": "NULL",
                                    "country": "NULL",
                                    "region": "NULL",
                                    "city": "NULL"
                                },
                                {
                                    "custid": "23",
                                    "companyname": "NULL",
                                    "country": "NULL",
                                    "region": "NULL",
                                    "city": "NULL"
                                },
                                {
                                    "custid": "24",
                                    "companyname": "NULL",
                                    "country": "NULL",
                                    "region": "NULL",
                                    "city": "NULL"
                                },
                                {
                                    "custid": "25",
                                    "companyname": "NULL",
                                    "country": "NULL",
                                    "region": "NULL",
                                    "city": "NULL"
                                },
                                {
                                    "custid": "26",
                                    "companyname": "NULL",
                                    "country": "NULL",
                                    "region": "NULL",
                                    "city": "NULL"
                                },
                                {
                                    "custid": "27",
                                    "companyname": "NULL",
                                    "country": "NULL",
                                    "region": "NULL",
                                    "city": "NULL"
                                },
                                {
                                    "custid": "28",
                                    "companyname": "NULL",
                                    "country": "NULL",
                                    "region": "NULL",
                                    "city": "NULL"
                                },
                                {
                                    "custid": "29",
                                    "companyname": "NULL",
                                    "country": "NULL",
                                    "region": "NULL",
                                    "city": "NULL"
                                },
                                {
                                    "custid": "30",
                                    "companyname": "NULL",
                                    "country": "NULL",
                                    "region": "NULL",
                                    "city": "NULL"
                                },
                                {
                                    "custid": "31",
                                    "companyname": "NULL",
                                    "country": "NULL",
                                    "region": "NULL",
                                    "city": "NULL"
                                },
                                {
                                    "custid": "32",
                                    "companyname": "NULL",
                                    "country": "NULL",
                                    "region": "NULL",
                                    "city": "NULL"
                                },
                                {
                                    "custid": "33",
                                    "companyname": "NULL",
                                    "country": "NULL",
                                    "region": "NULL",
                                    "city": "NULL"
                                },
                                {
                                    "custid": "34",
                                    "companyname": "NULL",
                                    "country": "NULL",
                                    "region": "NULL",
                                    "city": "NULL"
                                },
                                {
                                    "custid": "35",
                                    "companyname": "NULL",
                                    "country": "NULL",
                                    "region": "NULL",
                                    "city": "NULL"
                                },
                                {
                                    "custid": "36",
                                    "companyname": "NULL",
                                    "country": "NULL",
                                    "region": "NULL",
                                    "city": "NULL"
                                },
                                {
                                    "custid": "37",
                                    "companyname": "NULL",
                                    "country": "NULL",
                                    "region": "NULL",
                                    "city": "NULL"
                                },
                                {
                                    "custid": "38",
                                    "companyname": "NULL",
                                    "country": "NULL",
                                    "region": "NULL",
                                    "city": "NULL"
                                },
                                {
                                    "custid": "39",
                                    "companyname": "NULL",
                                    "country": "NULL",
                                    "region": "NULL",
                                    "city": "NULL"
                                },
                                {
                                    "custid": "40",
                                    "companyname": "NULL",
                                    "country": "NULL",
                                    "region": "NULL",
                                    "city": "NULL"
                                },
                                {
                                    "custid": "41",
                                    "companyname": "NULL",
                                    "country": "NULL",
                                    "region": "NULL",
                                    "city": "NULL"
                                },
                                {
                                    "custid": "42",
                                    "companyname": "NULL",
                                    "country": "NULL",
                                    "region": "NULL",
                                    "city": "NULL"
                                },
                                {
                                    "custid": "43",
                                    "companyname": "NULL",
                                    "country": "NULL",
                                    "region": "NULL",
                                    "city": "NULL"
                                },
                                {
                                    "custid": "44",
                                    "companyname": "NULL",
                                    "country": "NULL",
                                    "region": "NULL",
                                    "city": "NULL"
                                },
                                {
                                    "custid": "45",
                                    "companyname": "NULL",
                                    "country": "NULL",
                                    "region": "NULL",
                                    "city": "NULL"
                                },
                                {
                                    "custid": "46",
                                    "companyname": "NULL",
                                    "country": "NULL",
                                    "region": "NULL",
                                    "city": "NULL"
                                },
                                {
                                    "custid": "47",
                                    "companyname": "NULL",
                                    "country": "NULL",
                                    "region": "NULL",
                                    "city": "NULL"
                                },
                                {
                                    "custid": "48",
                                    "companyname": "NULL",
                                    "country": "NULL",
                                    "region": "NULL",
                                    "city": "NULL"
                                },
                                {
                                    "custid": "49",
                                    "companyname": "NULL",
                                    "country": "NULL",
                                    "region": "NULL",
                                    "city": "NULL"
                                },
                                {
                                    "custid": "50",
                                    "companyname": "NULL",
                                    "country": "NULL",
                                    "region": "NULL",
                                    "city": "NULL"
                                },
                                {
                                    "custid": "51",
                                    "companyname": "NULL",
                                    "country": "NULL",
                                    "region": "NULL",
                                    "city": "NULL"
                                },
                                {
                                    "custid": "52",
                                    "companyname": "NULL",
                                    "country": "NULL",
                                    "region": "NULL",
                                    "city": "NULL"
                                },
                                {
                                    "custid": "53",
                                    "companyname": "NULL",
                                    "country": "NULL",
                                    "region": "NULL",
                                    "city": "NULL"
                                },
                                {
                                    "custid": "54",
                                    "companyname": "NULL",
                                    "country": "NULL",
                                    "region": "NULL",
                                    "city": "NULL"
                                },
                                {
                                    "custid": "55",
                                    "companyname": "NULL",
                                    "country": "NULL",
                                    "region": "NULL",
                                    "city": "NULL"
                                },
                                {
                                    "custid": "56",
                                    "companyname": "NULL",
                                    "country": "NULL",
                                    "region": "NULL",
                                    "city": "NULL"
                                },
                                {
                                    "custid": "57",
                                    "companyname": "NULL",
                                    "country": "NULL",
                                    "region": "NULL",
                                    "city": "NULL"
                                },
                                {
                                    "custid": "58",
                                    "companyname": "NULL",
                                    "country": "NULL",
                                    "region": "NULL",
                                    "city": "NULL"
                                },
                                {
                                    "custid": "59",
                                    "companyname": "NULL",
                                    "country": "NULL",
                                    "region": "NULL",
                                    "city": "NULL"
                                },
                                {
                                    "custid": "60",
                                    "companyname": "NULL",
                                    "country": "NULL",
                                    "region": "NULL",
                                    "city": "NULL"
                                },
                                {
                                    "custid": "61",
                                    "companyname": "NULL",
                                    "country": "NULL",
                                    "region": "NULL",
                                    "city": "NULL"
                                },
                                {
                                    "custid": "62",
                                    "companyname": "NULL",
                                    "country": "NULL",
                                    "region": "NULL",
                                    "city": "NULL"
                                },
                                {
                                    "custid": "63",
                                    "companyname": "NULL",
                                    "country": "NULL",
                                    "region": "NULL",
                                    "city": "NULL"
                                },
                                {
                                    "custid": "64",
                                    "companyname": "NULL",
                                    "country": "NULL",
                                    "region": "NULL",
                                    "city": "NULL"
                                },
                                {
                                    "custid": "65",
                                    "companyname": "NULL",
                                    "country": "NULL",
                                    "region": "NULL",
                                    "city": "NULL"
                                },
                                {
                                    "custid": "66",
                                    "companyname": "NULL",
                                    "country": "NULL",
                                    "region": "NULL",
                                    "city": "NULL"
                                },
                                {
                                    "custid": "67",
                                    "companyname": "NULL",
                                    "country": "NULL",
                                    "region": "NULL",
                                    "city": "NULL"
                                },
                                {
                                    "custid": "68",
                                    "companyname": "NULL",
                                    "country": "NULL",
                                    "region": "NULL",
                                    "city": "NULL"
                                },
                                {
                                    "custid": "69",
                                    "companyname": "NULL",
                                    "country": "NULL",
                                    "region": "NULL",
                                    "city": "NULL"
                                },
                                {
                                    "custid": "70",
                                    "companyname": "NULL",
                                    "country": "NULL",
                                    "region": "NULL",
                                    "city": "NULL"
                                },
                                {
                                    "custid": "71",
                                    "companyname": "NULL",
                                    "country": "NULL",
                                    "region": "NULL",
                                    "city": "NULL"
                                },
                                {
                                    "custid": "72",
                                    "companyname": "NULL",
                                    "country": "NULL",
                                    "region": "NULL",
                                    "city": "NULL"
                                },
                                {
                                    "custid": "73",
                                    "companyname": "NULL",
                                    "country": "NULL",
                                    "region": "NULL",
                                    "city": "NULL"
                                },
                                {
                                    "custid": "74",
                                    "companyname": "NULL",
                                    "country": "NULL",
                                    "region": "NULL",
                                    "city": "NULL"
                                },
                                {
                                    "custid": "75",
                                    "companyname": "NULL",
                                    "country": "NULL",
                                    "region": "NULL",
                                    "city": "NULL"
                                },
                                {
                                    "custid": "76",
                                    "companyname": "NULL",
                                    "country": "NULL",
                                    "region": "NULL",
                                    "city": "NULL"
                                },
                                {
                                    "custid": "77",
                                    "companyname": "NULL",
                                    "country": "NULL",
                                    "region": "NULL",
                                    "city": "NULL"
                                },
                                {
                                    "custid": "78",
                                    "companyname": "NULL",
                                    "country": "NULL",
                                    "region": "NULL",
                                    "city": "NULL"
                                },
                                {
                                    "custid": "79",
                                    "companyname": "NULL",
                                    "country": "NULL",
                                    "region": "NULL",
                                    "city": "NULL"
                                },
                                {
                                    "custid": "80",
                                    "companyname": "NULL",
                                    "country": "NULL",
                                    "region": "NULL",
                                    "city": "NULL"
                                },
                                {
                                    "custid": "81",
                                    "companyname": "NULL",
                                    "country": "NULL",
                                    "region": "NULL",
                                    "city": "NULL"
                                },
                                {
                                    "custid": "82",
                                    "companyname": "NULL",
                                    "country": "NULL",
                                    "region": "NULL",
                                    "city": "NULL"
                                },
                                {
                                    "custid": "83",
                                    "companyname": "NULL",
                                    "country": "NULL",
                                    "region": "NULL",
                                    "city": "NULL"
                                },
                                {
                                    "custid": "84",
                                    "companyname": "NULL",
                                    "country": "NULL",
                                    "region": "NULL",
                                    "city": "NULL"
                                },
                                {
                                    "custid": "85",
                                    "companyname": "NULL",
                                    "country": "NULL",
                                    "region": "NULL",
                                    "city": "NULL"
                                },
                                {
                                    "custid": "86",
                                    "companyname": "NULL",
                                    "country": "NULL",
                                    "region": "NULL",
                                    "city": "NULL"
                                },
                                {
                                    "custid": "87",
                                    "companyname": "NULL",
                                    "country": "NULL",
                                    "region": "NULL",
                                    "city": "NULL"
                                },
                                {
                                    "custid": "88",
                                    "companyname": "NULL",
                                    "country": "NULL",
                                    "region": "NULL",
                                    "city": "NULL"
                                },
                                {
                                    "custid": "89",
                                    "companyname": "NULL",
                                    "country": "NULL",
                                    "region": "NULL",
                                    "city": "NULL"
                                },
                                {
                                    "custid": "90",
                                    "companyname": "NULL",
                                    "country": "NULL",
                                    "region": "NULL",
                                    "city": "NULL"
                                },
                                {
                                    "custid": "91",
                                    "companyname": "NULL",
                                    "country": "NULL",
                                    "region": "NULL",
                                    "city": "NULL"
                                },
                                {
                                    "custid": "92",
                                    "companyname": "NULL",
                                    "country": "NULL",
                                    "region": "NULL",
                                    "city": "NULL"
                                },
                                {
                                    "custid": "93",
                                    "companyname": "NULL",
                                    "country": "NULL",
                                    "region": "NULL",
                                    "city": "NULL"
                                },
                                {
                                    "custid": "94",
                                    "companyname": "NULL",
                                    "country": "NULL",
                                    "region": "NULL",
                                    "city": "NULL"
                                },
                                {
                                    "custid": "95",
                                    "companyname": "NULL",
                                    "country": "NULL",
                                    "region": "NULL",
                                    "city": "NULL"
                                },
                                {
                                    "custid": "96",
                                    "companyname": "NULL",
                                    "country": "NULL",
                                    "region": "NULL",
                                    "city": "NULL"
                                },
                                {
                                    "custid": "97",
                                    "companyname": "NULL",
                                    "country": "NULL",
                                    "region": "NULL",
                                    "city": "NULL"
                                },
                                {
                                    "custid": "98",
                                    "companyname": "NULL",
                                    "country": "NULL",
                                    "region": "NULL",
                                    "city": "NULL"
                                },
                                {
                                    "custid": "99",
                                    "companyname": "NULL",
                                    "country": "NULL",
                                    "region": "NULL",
                                    "city": "NULL"
                                },
                                {
                                    "custid": "100",
                                    "companyname": "NULL",
                                    "country": "NULL",
                                    "region": "NULL",
                                    "city": "NULL"
                                },
                                {
                                    "custid": "101",
                                    "companyname": "NULL",
                                    "country": "NULL",
                                    "region": "NULL",
                                    "city": "NULL"
                                },
                                {
                                    "custid": "102",
                                    "companyname": "NULL",
                                    "country": "NULL",
                                    "region": "NULL",
                                    "city": "NULL"
                                },
                                {
                                    "custid": "103",
                                    "companyname": "NULL",
                                    "country": "NULL",
                                    "region": "NULL",
                                    "city": "NULL"
                                },
                                {
                                    "custid": "104",
                                    "companyname": "NULL",
                                    "country": "NULL",
                                    "region": "NULL",
                                    "city": "NULL"
                                },
                                {
                                    "custid": "105",
                                    "companyname": "NULL",
                                    "country": "NULL",
                                    "region": "NULL",
                                    "city": "NULL"
                                },
                                {
                                    "custid": "106",
                                    "companyname": "NULL",
                                    "country": "NULL",
                                    "region": "NULL",
                                    "city": "NULL"
                                },
                                {
                                    "custid": "107",
                                    "companyname": "NULL",
                                    "country": "NULL",
                                    "region": "NULL",
                                    "city": "NULL"
                                },
                                {
                                    "custid": "108",
                                    "companyname": "NULL",
                                    "country": "NULL",
                                    "region": "NULL",
                                    "city": "NULL"
                                },
                                {
                                    "custid": "109",
                                    "companyname": "NULL",
                                    "country": "NULL",
                                    "region": "NULL",
                                    "city": "NULL"
                                },
                                {
                                    "custid": "110",
                                    "companyname": "NULL",
                                    "country": "NULL",
                                    "region": "NULL",
                                    "city": "NULL"
                                },
                                {
                                    "custid": "111",
                                    "companyname": "NULL",
                                    "country": "NULL",
                                    "region": "NULL",
                                    "city": "NULL"
                                },
                                {
                                    "custid": "112",
                                    "companyname": "NULL",
                                    "country": "NULL",
                                    "region": "NULL",
                                    "city": "NULL"
                                },
                                {
                                    "custid": "113",
                                    "companyname": "NULL",
                                    "country": "NULL",
                                    "region": "NULL",
                                    "city": "NULL"
                                },
                                {
                                    "custid": "114",
                                    "companyname": "NULL",
                                    "country": "NULL",
                                    "region": "NULL",
                                    "city": "NULL"
                                },
                                {
                                    "custid": "115",
                                    "companyname": "NULL",
                                    "country": "NULL",
                                    "region": "NULL",
                                    "city": "NULL"
                                },
                                {
                                    "custid": "116",
                                    "companyname": "NULL",
                                    "country": "NULL",
                                    "region": "NULL",
                                    "city": "NULL"
                                },
                                {
                                    "custid": "117",
                                    "companyname": "NULL",
                                    "country": "NULL",
                                    "region": "NULL",
                                    "city": "NULL"
                                },
                                {
                                    "custid": "118",
                                    "companyname": "NULL",
                                    "country": "NULL",
                                    "region": "NULL",
                                    "city": "NULL"
                                },
                                {
                                    "custid": "119",
                                    "companyname": "NULL",
                                    "country": "NULL",
                                    "region": "NULL",
                                    "city": "NULL"
                                },
                                {
                                    "custid": "120",
                                    "companyname": "NULL",
                                    "country": "NULL",
                                    "region": "NULL",
                                    "city": "NULL"
                                },
                                {
                                    "custid": "121",
                                    "companyname": "NULL",
                                    "country": "NULL",
                                    "region": "NULL",
                                    "city": "NULL"
                                },
                                {
                                    "custid": "122",
                                    "companyname": "NULL",
                                    "country": "NULL",
                                    "region": "NULL",
                                    "city": "NULL"
                                },
                                {
                                    "custid": "123",
                                    "companyname": "NULL",
                                    "country": "NULL",
                                    "region": "NULL",
                                    "city": "NULL"
                                },
                                {
                                    "custid": "124",
                                    "companyname": "NULL",
                                    "country": "NULL",
                                    "region": "NULL",
                                    "city": "NULL"
                                },
                                {
                                    "custid": "125",
                                    "companyname": "NULL",
                                    "country": "NULL",
                                    "region": "NULL",
                                    "city": "NULL"
                                },
                                {
                                    "custid": "126",
                                    "companyname": "NULL",
                                    "country": "NULL",
                                    "region": "NULL",
                                    "city": "NULL"
                                },
                                {
                                    "custid": "127",
                                    "companyname": "NULL",
                                    "country": "NULL",
                                    "region": "NULL",
                                    "city": "NULL"
                                },
                                {
                                    "custid": "128",
                                    "companyname": "NULL",
                                    "country": "NULL",
                                    "region": "NULL",
                                    "city": "NULL"
                                },
                                {
                                    "custid": "129",
                                    "companyname": "NULL",
                                    "country": "NULL",
                                    "region": "NULL",
                                    "city": "NULL"
                                },
                                {
                                    "custid": "130",
                                    "companyname": "NULL",
                                    "country": "NULL",
                                    "region": "NULL",
                                    "city": "NULL"
                                },
                                {
                                    "custid": "131",
                                    "companyname": "NULL",
                                    "country": "NULL",
                                    "region": "NULL",
                                    "city": "NULL"
                                },
                                {
                                    "custid": "132",
                                    "companyname": "NULL",
                                    "country": "NULL",
                                    "region": "NULL",
                                    "city": "NULL"
                                },
                                {
                                    "custid": "133",
                                    "companyname": "NULL",
                                    "country": "NULL",
                                    "region": "NULL",
                                    "city": "NULL"
                                },
                                {
                                    "custid": "134",
                                    "companyname": "NULL",
                                    "country": "NULL",
                                    "region": "NULL",
                                    "city": "NULL"
                                },
                                {
                                    "custid": "135",
                                    "companyname": "NULL",
                                    "country": "NULL",
                                    "region": "NULL",
                                    "city": "NULL"
                                },
                                {
                                    "custid": "136",
                                    "companyname": "NULL",
                                    "country": "NULL",
                                    "region": "NULL",
                                    "city": "NULL"
                                },
                                {
                                    "custid": "137",
                                    "companyname": "NULL",
                                    "country": "NULL",
                                    "region": "NULL",
                                    "city": "NULL"
                                },
                                {
                                    "custid": "138",
                                    "companyname": "NULL",
                                    "country": "NULL",
                                    "region": "NULL",
                                    "city": "NULL"
                                },
                                {
                                    "custid": "139",
                                    "companyname": "NULL",
                                    "country": "NULL",
                                    "region": "NULL",
                                    "city": "NULL"
                                },
                                {
                                    "custid": "140",
                                    "companyname": "NULL",
                                    "country": "NULL",
                                    "region": "NULL",
                                    "city": "NULL"
                                },
                                {
                                    "custid": "141",
                                    "companyname": "NULL",
                                    "country": "NULL",
                                    "region": "NULL",
                                    "city": "NULL"
                                },
                                {
                                    "custid": "142",
                                    "companyname": "NULL",
                                    "country": "NULL",
                                    "region": "NULL",
                                    "city": "NULL"
                                },
                                {
                                    "custid": "143",
                                    "companyname": "NULL",
                                    "country": "NULL",
                                    "region": "NULL",
                                    "city": "NULL"
                                },
                                {
                                    "custid": "144",
                                    "companyname": "NULL",
                                    "country": "NULL",
                                    "region": "NULL",
                                    "city": "NULL"
                                },
                                {
                                    "custid": "145",
                                    "companyname": "NULL",
                                    "country": "NULL",
                                    "region": "NULL",
                                    "city": "NULL"
                                },
                                {
                                    "custid": "146",
                                    "companyname": "NULL",
                                    "country": "NULL",
                                    "region": "NULL",
                                    "city": "NULL"
                                },
                                {
                                    "custid": "147",
                                    "companyname": "NULL",
                                    "country": "NULL",
                                    "region": "NULL",
                                    "city": "NULL"
                                },
                                {
                                    "custid": "148",
                                    "companyname": "NULL",
                                    "country": "NULL",
                                    "region": "NULL",
                                    "city": "NULL"
                                },
                                {
                                    "custid": "149",
                                    "companyname": "NULL",
                                    "country": "NULL",
                                    "region": "NULL",
                                    "city": "NULL"
                                },
                                {
                                    "custid": "150",
                                    "companyname": "NULL",
                                    "country": "NULL",
                                    "region": "NULL",
                                    "city": "NULL"
                                },
                                {
                                    "custid": "151",
                                    "companyname": "NULL",
                                    "country": "NULL",
                                    "region": "NULL",
                                    "city": "NULL"
                                },
                                {
                                    "custid": "152",
                                    "companyname": "NULL",
                                    "country": "NULL",
                                    "region": "NULL",
                                    "city": "NULL"
                                },
                                {
                                    "custid": "153",
                                    "companyname": "NULL",
                                    "country": "NULL",
                                    "region": "NULL",
                                    "city": "NULL"
                                },
                                {
                                    "custid": "154",
                                    "companyname": "NULL",
                                    "country": "NULL",
                                    "region": "NULL",
                                    "city": "NULL"
                                },
                                {
                                    "custid": "155",
                                    "companyname": "NULL",
                                    "country": "NULL",
                                    "region": "NULL",
                                    "city": "NULL"
                                },
                                {
                                    "custid": "156",
                                    "companyname": "NULL",
                                    "country": "NULL",
                                    "region": "NULL",
                                    "city": "NULL"
                                },
                                {
                                    "custid": "157",
                                    "companyname": "NULL",
                                    "country": "NULL",
                                    "region": "NULL",
                                    "city": "NULL"
                                },
                                {
                                    "custid": "158",
                                    "companyname": "NULL",
                                    "country": "NULL",
                                    "region": "NULL",
                                    "city": "NULL"
                                },
                                {
                                    "custid": "159",
                                    "companyname": "NULL",
                                    "country": "NULL",
                                    "region": "NULL",
                                    "city": "NULL"
                                },
                                {
                                    "custid": "160",
                                    "companyname": "NULL",
                                    "country": "NULL",
                                    "region": "NULL",
                                    "city": "NULL"
                                },
                                {
                                    "custid": "161",
                                    "companyname": "NULL",
                                    "country": "NULL",
                                    "region": "NULL",
                                    "city": "NULL"
                                },
                                {
                                    "custid": "162",
                                    "companyname": "NULL",
                                    "country": "NULL",
                                    "region": "NULL",
                                    "city": "NULL"
                                },
                                {
                                    "custid": "163",
                                    "companyname": "NULL",
                                    "country": "NULL",
                                    "region": "NULL",
                                    "city": "NULL"
                                },
                                {
                                    "custid": "164",
                                    "companyname": "NULL",
                                    "country": "NULL",
                                    "region": "NULL",
                                    "city": "NULL"
                                },
                                {
                                    "custid": "165",
                                    "companyname": "NULL",
                                    "country": "NULL",
                                    "region": "NULL",
                                    "city": "NULL"
                                },
                                {
                                    "custid": "166",
                                    "companyname": "NULL",
                                    "country": "NULL",
                                    "region": "NULL",
                                    "city": "NULL"
                                },
                                {
                                    "custid": "167",
                                    "companyname": "NULL",
                                    "country": "NULL",
                                    "region": "NULL",
                                    "city": "NULL"
                                },
                                {
                                    "custid": "168",
                                    "companyname": "NULL",
                                    "country": "NULL",
                                    "region": "NULL",
                                    "city": "NULL"
                                },
                                {
                                    "custid": "169",
                                    "companyname": "NULL",
                                    "country": "NULL",
                                    "region": "NULL",
                                    "city": "NULL"
                                },
                                {
                                    "custid": "170",
                                    "companyname": "NULL",
                                    "country": "NULL",
                                    "region": "NULL",
                                    "city": "NULL"
                                },
                                {
                                    "custid": "171",
                                    "companyname": "NULL",
                                    "country": "NULL",
                                    "region": "NULL",
                                    "city": "NULL"
                                },
                                {
                                    "custid": "172",
                                    "companyname": "NULL",
                                    "country": "NULL",
                                    "region": "NULL",
                                    "city": "NULL"
                                },
                                {
                                    "custid": "173",
                                    "companyname": "NULL",
                                    "country": "NULL",
                                    "region": "NULL",
                                    "city": "NULL"
                                },
                                {
                                    "custid": "174",
                                    "companyname": "NULL",
                                    "country": "NULL",
                                    "region": "NULL",
                                    "city": "NULL"
                                },
                                {
                                    "custid": "175",
                                    "companyname": "NULL",
                                    "country": "NULL",
                                    "region": "NULL",
                                    "city": "NULL"
                                },
                                {
                                    "custid": "176",
                                    "companyname": "NULL",
                                    "country": "NULL",
                                    "region": "NULL",
                                    "city": "NULL"
                                },
                                {
                                    "custid": "177",
                                    "companyname": "NULL",
                                    "country": "NULL",
                                    "region": "NULL",
                                    "city": "NULL"
                                },
                                {
                                    "custid": "178",
                                    "companyname": "NULL",
                                    "country": "NULL",
                                    "region": "NULL",
                                    "city": "NULL"
                                },
                                {
                                    "custid": "179",
                                    "companyname": "NULL",
                                    "country": "NULL",
                                    "region": "NULL",
                                    "city": "NULL"
                                },
                                {
                                    "custid": "180",
                                    "companyname": "NULL",
                                    "country": "NULL",
                                    "region": "NULL",
                                    "city": "NULL"
                                },
                                {
                                    "custid": "181",
                                    "companyname": "NULL",
                                    "country": "NULL",
                                    "region": "NULL",
                                    "city": "NULL"
                                },
                                {
                                    "custid": "182",
                                    "companyname": "NULL",
                                    "country": "NULL",
                                    "region": "NULL",
                                    "city": "NULL"
                                },
                                {
                                    "custid": "183",
                                    "companyname": "NULL",
                                    "country": "NULL",
                                    "region": "NULL",
                                    "city": "NULL"
                                },
                                {
                                    "custid": "184",
                                    "companyname": "NULL",
                                    "country": "NULL",
                                    "region": "NULL",
                                    "city": "NULL"
                                },
                                {
                                    "custid": "185",
                                    "companyname": "NULL",
                                    "country": "NULL",
                                    "region": "NULL",
                                    "city": "NULL"
                                },
                                {
                                    "custid": "186",
                                    "companyname": "NULL",
                                    "country": "NULL",
                                    "region": "NULL",
                                    "city": "NULL"
                                },
                                {
                                    "custid": "187",
                                    "companyname": "NULL",
                                    "country": "NULL",
                                    "region": "NULL",
                                    "city": "NULL"
                                },
                                {
                                    "custid": "188",
                                    "companyname": "NULL",
                                    "country": "NULL",
                                    "region": "NULL",
                                    "city": "NULL"
                                },
                                {
                                    "custid": "189",
                                    "companyname": "NULL",
                                    "country": "NULL",
                                    "region": "NULL",
                                    "city": "NULL"
                                },
                                {
                                    "custid": "190",
                                    "companyname": "NULL",
                                    "country": "NULL",
                                    "region": "NULL",
                                    "city": "NULL"
                                },
                                {
                                    "custid": "191",
                                    "companyname": "NULL",
                                    "country": "NULL",
                                    "region": "NULL",
                                    "city": "NULL"
                                },
                                {
                                    "custid": "192",
                                    "companyname": "NULL",
                                    "country": "NULL",
                                    "region": "NULL",
                                    "city": "NULL"
                                },
                                {
                                    "custid": "193",
                                    "companyname": "NULL",
                                    "country": "NULL",
                                    "region": "NULL",
                                    "city": "NULL"
                                },
                                {
                                    "custid": "194",
                                    "companyname": "NULL",
                                    "country": "NULL",
                                    "region": "NULL",
                                    "city": "NULL"
                                },
                                {
                                    "custid": "195",
                                    "companyname": "NULL",
                                    "country": "NULL",
                                    "region": "NULL",
                                    "city": "NULL"
                                },
                                {
                                    "custid": "196",
                                    "companyname": "NULL",
                                    "country": "NULL",
                                    "region": "NULL",
                                    "city": "NULL"
                                },
                                {
                                    "custid": "197",
                                    "companyname": "NULL",
                                    "country": "NULL",
                                    "region": "NULL",
                                    "city": "NULL"
                                },
                                {
                                    "custid": "198",
                                    "companyname": "NULL",
                                    "country": "NULL",
                                    "region": "NULL",
                                    "city": "NULL"
                                },
                                {
                                    "custid": "199",
                                    "companyname": "NULL",
                                    "country": "NULL",
                                    "region": "NULL",
                                    "city": "NULL"
                                },
                                {
                                    "custid": "200",
                                    "companyname": "NULL",
                                    "country": "NULL",
                                    "region": "NULL",
                                    "city": "NULL"
                                },
                                {
                                    "custid": "201",
                                    "companyname": "NULL",
                                    "country": "NULL",
                                    "region": "NULL",
                                    "city": "NULL"
                                },
                                {
                                    "custid": "401",
                                    "companyname": "NULL",
                                    "country": "NULL",
                                    "region": "NULL",
                                    "city": "NULL"
                                },
                                {
                                    "custid": "402",
                                    "companyname": "NULL",
                                    "country": "NULL",
                                    "region": "NULL",
                                    "city": "NULL"
                                },
                                {
                                    "custid": "403",
                                    "companyname": "NULL",
                                    "country": "NULL",
                                    "region": "NULL",
                                    "city": "NULL"
                                },
                                {
                                    "custid": "404",
                                    "companyname": "NULL",
                                    "country": "NULL",
                                    "region": "NULL",
                                    "city": "NULL"
                                },
                                {
                                    "custid": "405",
                                    "companyname": "NULL",
                                    "country": "NULL",
                                    "region": "NULL",
                                    "city": "NULL"
                                },
                                {
                                    "custid": "406",
                                    "companyname": "NULL",
                                    "country": "NULL",
                                    "region": "NULL",
                                    "city": "NULL"
                                },
                                {
                                    "custid": "407",
                                    "companyname": "NULL",
                                    "country": "NULL",
                                    "region": "NULL",
                                    "city": "NULL"
                                },
                                {
                                    "custid": "408",
                                    "companyname": "NULL",
                                    "country": "NULL",
                                    "region": "NULL",
                                    "city": "NULL"
                                },
                                {
                                    "custid": "409",
                                    "companyname": "NULL",
                                    "country": "NULL",
                                    "region": "NULL",
                                    "city": "NULL"
                                },
                                {
                                    "custid": "410",
                                    "companyname": "NULL",
                                    "country": "NULL",
                                    "region": "NULL",
                                    "city": "NULL"
                                },
                                {
                                    "custid": "411",
                                    "companyname": "NULL",
                                    "country": "NULL",
                                    "region": "NULL",
                                    "city": "NULL"
                                },
                                {
                                    "custid": "412",
                                    "companyname": "NULL",
                                    "country": "NULL",
                                    "region": "NULL",
                                    "city": "NULL"
                                },
                                {
                                    "custid": "413",
                                    "companyname": "NULL",
                                    "country": "NULL",
                                    "region": "NULL",
                                    "city": "NULL"
                                },
                                {
                                    "custid": "414",
                                    "companyname": "NULL",
                                    "country": "NULL",
                                    "region": "NULL",
                                    "city": "NULL"
                                },
                                {
                                    "custid": "415",
                                    "companyname": "NULL",
                                    "country": "NULL",
                                    "region": "NULL",
                                    "city": "NULL"
                                },
                                {
                                    "custid": "416",
                                    "companyname": "NULL",
                                    "country": "NULL",
                                    "region": "NULL",
                                    "city": "NULL"
                                },
                                {
                                    "custid": "417",
                                    "companyname": "NULL",
                                    "country": "NULL",
                                    "region": "NULL",
                                    "city": "NULL"
                                },
                                {
                                    "custid": "418",
                                    "companyname": "NULL",
                                    "country": "NULL",
                                    "region": "NULL",
                                    "city": "NULL"
                                },
                                {
                                    "custid": "419",
                                    "companyname": "NULL",
                                    "country": "NULL",
                                    "region": "NULL",
                                    "city": "NULL"
                                },
                                {
                                    "custid": "420",
                                    "companyname": "NULL",
                                    "country": "NULL",
                                    "region": "NULL",
                                    "city": "NULL"
                                },
                                {
                                    "custid": "421",
                                    "companyname": "NULL",
                                    "country": "NULL",
                                    "region": "NULL",
                                    "city": "NULL"
                                },
                                {
                                    "custid": "422",
                                    "companyname": "NULL",
                                    "country": "NULL",
                                    "region": "NULL",
                                    "city": "NULL"
                                },
                                {
                                    "custid": "423",
                                    "companyname": "NULL",
                                    "country": "NULL",
                                    "region": "NULL",
                                    "city": "NULL"
                                },
                                {
                                    "custid": "424",
                                    "companyname": "NULL",
                                    "country": "NULL",
                                    "region": "NULL",
                                    "city": "NULL"
                                },
                                {
                                    "custid": "425",
                                    "companyname": "NULL",
                                    "country": "NULL",
                                    "region": "NULL",
                                    "city": "NULL"
                                },
                                {
                                    "custid": "426",
                                    "companyname": "NULL",
                                    "country": "NULL",
                                    "region": "NULL",
                                    "city": "NULL"
                                },
                                {
                                    "custid": "427",
                                    "companyname": "NULL",
                                    "country": "NULL",
                                    "region": "NULL",
                                    "city": "NULL"
                                },
                                {
                                    "custid": "428",
                                    "companyname": "NULL",
                                    "country": "NULL",
                                    "region": "NULL",
                                    "city": "NULL"
                                },
                                {
                                    "custid": "429",
                                    "companyname": "NULL",
                                    "country": "NULL",
                                    "region": "NULL",
                                    "city": "NULL"
                                },
                                {
                                    "custid": "430",
                                    "companyname": "NULL",
                                    "country": "NULL",
                                    "region": "NULL",
                                    "city": "NULL"
                                },
                                {
                                    "custid": "431",
                                    "companyname": "NULL",
                                    "country": "NULL",
                                    "region": "NULL",
                                    "city": "NULL"
                                },
                                {
                                    "custid": "432",
                                    "companyname": "NULL",
                                    "country": "NULL",
                                    "region": "NULL",
                                    "city": "NULL"
                                },
                                {
                                    "custid": "433",
                                    "companyname": "NULL",
                                    "country": "NULL",
                                    "region": "NULL",
                                    "city": "NULL"
                                },
                                {
                                    "custid": "434",
                                    "companyname": "NULL",
                                    "country": "NULL",
                                    "region": "NULL",
                                    "city": "NULL"
                                },
                                {
                                    "custid": "435",
                                    "companyname": "NULL",
                                    "country": "NULL",
                                    "region": "NULL",
                                    "city": "NULL"
                                },
                                {
                                    "custid": "436",
                                    "companyname": "NULL",
                                    "country": "NULL",
                                    "region": "NULL",
                                    "city": "NULL"
                                },
                                {
                                    "custid": "437",
                                    "companyname": "NULL",
                                    "country": "NULL",
                                    "region": "NULL",
                                    "city": "NULL"
                                },
                                {
                                    "custid": "438",
                                    "companyname": "NULL",
                                    "country": "NULL",
                                    "region": "NULL",
                                    "city": "NULL"
                                },
                                {
                                    "custid": "439",
                                    "companyname": "NULL",
                                    "country": "NULL",
                                    "region": "NULL",
                                    "city": "NULL"
                                },
                                {
                                    "custid": "440",
                                    "companyname": "NULL",
                                    "country": "NULL",
                                    "region": "NULL",
                                    "city": "NULL"
                                },
                                {
                                    "custid": "441",
                                    "companyname": "NULL",
                                    "country": "NULL",
                                    "region": "NULL",
                                    "city": "NULL"
                                },
                                {
                                    "custid": "442",
                                    "companyname": "NULL",
                                    "country": "NULL",
                                    "region": "NULL",
                                    "city": "NULL"
                                },
                                {
                                    "custid": "443",
                                    "companyname": "NULL",
                                    "country": "NULL",
                                    "region": "NULL",
                                    "city": "NULL"
                                },
                                {
                                    "custid": "444",
                                    "companyname": "NULL",
                                    "country": "NULL",
                                    "region": "NULL",
                                    "city": "NULL"
                                },
                                {
                                    "custid": "445",
                                    "companyname": "NULL",
                                    "country": "NULL",
                                    "region": "NULL",
                                    "city": "NULL"
                                },
                                {
                                    "custid": "446",
                                    "companyname": "NULL",
                                    "country": "NULL",
                                    "region": "NULL",
                                    "city": "NULL"
                                },
                                {
                                    "custid": "447",
                                    "companyname": "NULL",
                                    "country": "NULL",
                                    "region": "NULL",
                                    "city": "NULL"
                                },
                                {
                                    "custid": "448",
                                    "companyname": "NULL",
                                    "country": "NULL",
                                    "region": "NULL",
                                    "city": "NULL"
                                },
                                {
                                    "custid": "449",
                                    "companyname": "NULL",
                                    "country": "NULL",
                                    "region": "NULL",
                                    "city": "NULL"
                                },
                                {
                                    "custid": "450",
                                    "companyname": "NULL",
                                    "country": "NULL",
                                    "region": "NULL",
                                    "city": "NULL"
                                },
                                {
                                    "custid": "451",
                                    "companyname": "NULL",
                                    "country": "NULL",
                                    "region": "NULL",
                                    "city": "NULL"
                                },
                                {
                                    "custid": "452",
                                    "companyname": "NULL",
                                    "country": "NULL",
                                    "region": "NULL",
                                    "city": "NULL"
                                },
                                {
                                    "custid": "453",
                                    "companyname": "NULL",
                                    "country": "NULL",
                                    "region": "NULL",
                                    "city": "NULL"
                                },
                                {
                                    "custid": "454",
                                    "companyname": "NULL",
                                    "country": "NULL",
                                    "region": "NULL",
                                    "city": "NULL"
                                },
                                {
                                    "custid": "455",
                                    "companyname": "NULL",
                                    "country": "NULL",
                                    "region": "NULL",
                                    "city": "NULL"
                                },
                                {
                                    "custid": "456",
                                    "companyname": "NULL",
                                    "country": "NULL",
                                    "region": "NULL",
                                    "city": "NULL"
                                },
                                {
                                    "custid": "457",
                                    "companyname": "NULL",
                                    "country": "NULL",
                                    "region": "NULL",
                                    "city": "NULL"
                                },
                                {
                                    "custid": "458",
                                    "companyname": "NULL",
                                    "country": "NULL",
                                    "region": "NULL",
                                    "city": "NULL"
                                },
                                {
                                    "custid": "459",
                                    "companyname": "NULL",
                                    "country": "NULL",
                                    "region": "NULL",
                                    "city": "NULL"
                                },
                                {
                                    "custid": "460",
                                    "companyname": "NULL",
                                    "country": "NULL",
                                    "region": "NULL",
                                    "city": "NULL"
                                },
                                {
                                    "custid": "461",
                                    "companyname": "NULL",
                                    "country": "NULL",
                                    "region": "NULL",
                                    "city": "NULL"
                                },
                                {
                                    "custid": "462",
                                    "companyname": "NULL",
                                    "country": "NULL",
                                    "region": "NULL",
                                    "city": "NULL"
                                },
                                {
                                    "custid": "463",
                                    "companyname": "NULL",
                                    "country": "NULL",
                                    "region": "NULL",
                                    "city": "NULL"
                                },
                                {
                                    "custid": "464",
                                    "companyname": "NULL",
                                    "country": "NULL",
                                    "region": "NULL",
                                    "city": "NULL"
                                },
                                {
                                    "custid": "465",
                                    "companyname": "NULL",
                                    "country": "NULL",
                                    "region": "NULL",
                                    "city": "NULL"
                                },
                                {
                                    "custid": "466",
                                    "companyname": "NULL",
                                    "country": "NULL",
                                    "region": "NULL",
                                    "city": "NULL"
                                },
                                {
                                    "custid": "467",
                                    "companyname": "NULL",
                                    "country": "NULL",
                                    "region": "NULL",
                                    "city": "NULL"
                                },
                                {
                                    "custid": "468",
                                    "companyname": "NULL",
                                    "country": "NULL",
                                    "region": "NULL",
                                    "city": "NULL"
                                },
                                {
                                    "custid": "469",
                                    "companyname": "NULL",
                                    "country": "NULL",
                                    "region": "NULL",
                                    "city": "NULL"
                                },
                                {
                                    "custid": "470",
                                    "companyname": "NULL",
                                    "country": "NULL",
                                    "region": "NULL",
                                    "city": "NULL"
                                },
                                {
                                    "custid": "471",
                                    "companyname": "NULL",
                                    "country": "NULL",
                                    "region": "NULL",
                                    "city": "NULL"
                                },
                                {
                                    "custid": "472",
                                    "companyname": "NULL",
                                    "country": "NULL",
                                    "region": "NULL",
                                    "city": "NULL"
                                },
                                {
                                    "custid": "473",
                                    "companyname": "NULL",
                                    "country": "NULL",
                                    "region": "NULL",
                                    "city": "NULL"
                                },
                                {
                                    "custid": "474",
                                    "companyname": "NULL",
                                    "country": "NULL",
                                    "region": "NULL",
                                    "city": "NULL"
                                },
                                {
                                    "custid": "475",
                                    "companyname": "NULL",
                                    "country": "NULL",
                                    "region": "NULL",
                                    "city": "NULL"
                                },
                                {
                                    "custid": "476",
                                    "companyname": "NULL",
                                    "country": "NULL",
                                    "region": "NULL",
                                    "city": "NULL"
                                },
                                {
                                    "custid": "477",
                                    "companyname": "NULL",
                                    "country": "NULL",
                                    "region": "NULL",
                                    "city": "NULL"
                                },
                                {
                                    "custid": "478",
                                    "companyname": "NULL",
                                    "country": "NULL",
                                    "region": "NULL",
                                    "city": "NULL"
                                },
                                {
                                    "custid": "479",
                                    "companyname": "NULL",
                                    "country": "NULL",
                                    "region": "NULL",
                                    "city": "NULL"
                                },
                                {
                                    "custid": "480",
                                    "companyname": "NULL",
                                    "country": "NULL",
                                    "region": "NULL",
                                    "city": "NULL"
                                },
                                {
                                    "custid": "481",
                                    "companyname": "NULL",
                                    "country": "NULL",
                                    "region": "NULL",
                                    "city": "NULL"
                                },
                                {
                                    "custid": "482",
                                    "companyname": "NULL",
                                    "country": "NULL",
                                    "region": "NULL",
                                    "city": "NULL"
                                },
                                {
                                    "custid": "483",
                                    "companyname": "NULL",
                                    "country": "NULL",
                                    "region": "NULL",
                                    "city": "NULL"
                                },
                                {
                                    "custid": "484",
                                    "companyname": "NULL",
                                    "country": "NULL",
                                    "region": "NULL",
                                    "city": "NULL"
                                },
                                {
                                    "custid": "485",
                                    "companyname": "NULL",
                                    "country": "NULL",
                                    "region": "NULL",
                                    "city": "NULL"
                                },
                                {
                                    "custid": "486",
                                    "companyname": "NULL",
                                    "country": "NULL",
                                    "region": "NULL",
                                    "city": "NULL"
                                },
                                {
                                    "custid": "487",
                                    "companyname": "NULL",
                                    "country": "NULL",
                                    "region": "NULL",
                                    "city": "NULL"
                                },
                                {
                                    "custid": "488",
                                    "companyname": "NULL",
                                    "country": "NULL",
                                    "region": "NULL",
                                    "city": "NULL"
                                },
                                {
                                    "custid": "489",
                                    "companyname": "NULL",
                                    "country": "NULL",
                                    "region": "NULL",
                                    "city": "NULL"
                                },
                                {
                                    "custid": "490",
                                    "companyname": "NULL",
                                    "country": "NULL",
                                    "region": "NULL",
                                    "city": "NULL"
                                },
                                {
                                    "custid": "491",
                                    "companyname": "NULL",
                                    "country": "NULL",
                                    "region": "NULL",
                                    "city": "NULL"
                                },
                                {
                                    "custid": "492",
                                    "companyname": "NULL",
                                    "country": "NULL",
                                    "region": "NULL",
                                    "city": "NULL"
                                },
                                {
                                    "custid": "493",
                                    "companyname": "NULL",
                                    "country": "NULL",
                                    "region": "NULL",
                                    "city": "NULL"
                                },
                                {
                                    "custid": "494",
                                    "companyname": "NULL",
                                    "country": "NULL",
                                    "region": "NULL",
                                    "city": "NULL"
                                },
                                {
                                    "custid": "495",
                                    "companyname": "NULL",
                                    "country": "NULL",
                                    "region": "NULL",
                                    "city": "NULL"
                                },
                                {
                                    "custid": "496",
                                    "companyname": "NULL",
                                    "country": "NULL",
                                    "region": "NULL",
                                    "city": "NULL"
                                },
                                {
                                    "custid": "497",
                                    "companyname": "NULL",
                                    "country": "NULL",
                                    "region": "NULL",
                                    "city": "NULL"
                                },
                                {
                                    "custid": "498",
                                    "companyname": "NULL",
                                    "country": "NULL",
                                    "region": "NULL",
                                    "city": "NULL"
                                },
                                {
                                    "custid": "499",
                                    "companyname": "NULL",
                                    "country": "NULL",
                                    "region": "NULL",
                                    "city": "NULL"
                                },
                                {
                                    "custid": "500",
                                    "companyname": "NULL",
                                    "country": "NULL",
                                    "region": "NULL",
                                    "city": "NULL"
                                },
                                {
                                    "custid": "501",
                                    "companyname": "NULL",
                                    "country": "NULL",
                                    "region": "NULL",
                                    "city": "NULL"
                                },
                                {
                                    "custid": "502",
                                    "companyname": "NULL",
                                    "country": "NULL",
                                    "region": "NULL",
                                    "city": "NULL"
                                },
                                {
                                    "custid": "503",
                                    "companyname": "NULL",
                                    "country": "NULL",
                                    "region": "NULL",
                                    "city": "NULL"
                                },
                                {
                                    "custid": "504",
                                    "companyname": "NULL",
                                    "country": "NULL",
                                    "region": "NULL",
                                    "city": "NULL"
                                },
                                {
                                    "custid": "505",
                                    "companyname": "NULL",
                                    "country": "NULL",
                                    "region": "NULL",
                                    "city": "NULL"
                                },
                                {
                                    "custid": "506",
                                    "companyname": "NULL",
                                    "country": "NULL",
                                    "region": "NULL",
                                    "city": "NULL"
                                },
                                {
                                    "custid": "507",
                                    "companyname": "NULL",
                                    "country": "NULL",
                                    "region": "NULL",
                                    "city": "NULL"
                                },
                                {
                                    "custid": "508",
                                    "companyname": "NULL",
                                    "country": "NULL",
                                    "region": "NULL",
                                    "city": "NULL"
                                },
                                {
                                    "custid": "509",
                                    "companyname": "NULL",
                                    "country": "NULL",
                                    "region": "NULL",
                                    "city": "NULL"
                                },
                                {
                                    "custid": "510",
                                    "companyname": "NULL",
                                    "country": "NULL",
                                    "region": "NULL",
                                    "city": "NULL"
                                },
                                {
                                    "custid": "511",
                                    "companyname": "NULL",
                                    "country": "NULL",
                                    "region": "NULL",
                                    "city": "NULL"
                                },
                                {
                                    "custid": "512",
                                    "companyname": "NULL",
                                    "country": "NULL",
                                    "region": "NULL",
                                    "city": "NULL"
                                },
                                {
                                    "custid": "513",
                                    "companyname": "NULL",
                                    "country": "NULL",
                                    "region": "NULL",
                                    "city": "NULL"
                                },
                                {
                                    "custid": "514",
                                    "companyname": "NULL",
                                    "country": "NULL",
                                    "region": "NULL",
                                    "city": "NULL"
                                },
                                {
                                    "custid": "515",
                                    "companyname": "NULL",
                                    "country": "NULL",
                                    "region": "NULL",
                                    "city": "NULL"
                                },
                                {
                                    "custid": "516",
                                    "companyname": "NULL",
                                    "country": "NULL",
                                    "region": "NULL",
                                    "city": "NULL"
                                },
                                {
                                    "custid": "517",
                                    "companyname": "NULL",
                                    "country": "NULL",
                                    "region": "NULL",
                                    "city": "NULL"
                                },
                                {
                                    "custid": "518",
                                    "companyname": "NULL",
                                    "country": "NULL",
                                    "region": "NULL",
                                    "city": "NULL"
                                },
                                {
                                    "custid": "519",
                                    "companyname": "NULL",
                                    "country": "NULL",
                                    "region": "NULL",
                                    "city": "NULL"
                                },
                                {
                                    "custid": "520",
                                    "companyname": "NULL",
                                    "country": "NULL",
                                    "region": "NULL",
                                    "city": "NULL"
                                },
                                {
                                    "custid": "521",
                                    "companyname": "NULL",
                                    "country": "NULL",
                                    "region": "NULL",
                                    "city": "NULL"
                                },
                                {
                                    "custid": "522",
                                    "companyname": "NULL",
                                    "country": "NULL",
                                    "region": "NULL",
                                    "city": "NULL"
                                },
                                {
                                    "custid": "523",
                                    "companyname": "NULL",
                                    "country": "NULL",
                                    "region": "NULL",
                                    "city": "NULL"
                                },
                                {
                                    "custid": "524",
                                    "companyname": "NULL",
                                    "country": "NULL",
                                    "region": "NULL",
                                    "city": "NULL"
                                },
                                {
                                    "custid": "525",
                                    "companyname": "NULL",
                                    "country": "NULL",
                                    "region": "NULL",
                                    "city": "NULL"
                                },
                                {
                                    "custid": "526",
                                    "companyname": "NULL",
                                    "country": "NULL",
                                    "region": "NULL",
                                    "city": "NULL"
                                },
                                {
                                    "custid": "527",
                                    "companyname": "NULL",
                                    "country": "NULL",
                                    "region": "NULL",
                                    "city": "NULL"
                                },
                                {
                                    "custid": "528",
                                    "companyname": "NULL",
                                    "country": "NULL",
                                    "region": "NULL",
                                    "city": "NULL"
                                },
                                {
                                    "custid": "529",
                                    "companyname": "NULL",
                                    "country": "NULL",
                                    "region": "NULL",
                                    "city": "NULL"
                                },
                                {
                                    "custid": "530",
                                    "companyname": "NULL",
                                    "country": "NULL",
                                    "region": "NULL",
                                    "city": "NULL"
                                },
                                {
                                    "custid": "531",
                                    "companyname": "NULL",
                                    "country": "NULL",
                                    "region": "NULL",
                                    "city": "NULL"
                                },
                                {
                                    "custid": "532",
                                    "companyname": "NULL",
                                    "country": "NULL",
                                    "region": "NULL",
                                    "city": "NULL"
                                },
                                {
                                    "custid": "533",
                                    "companyname": "NULL",
                                    "country": "NULL",
                                    "region": "NULL",
                                    "city": "NULL"
                                },
                                {
                                    "custid": "534",
                                    "companyname": "NULL",
                                    "country": "NULL",
                                    "region": "NULL",
                                    "city": "NULL"
                                },
                                {
                                    "custid": "535",
                                    "companyname": "NULL",
                                    "country": "NULL",
                                    "region": "NULL",
                                    "city": "NULL"
                                },
                                {
                                    "custid": "536",
                                    "companyname": "NULL",
                                    "country": "NULL",
                                    "region": "NULL",
                                    "city": "NULL"
                                },
                                {
                                    "custid": "537",
                                    "companyname": "NULL",
                                    "country": "NULL",
                                    "region": "NULL",
                                    "city": "NULL"
                                },
                                {
                                    "custid": "538",
                                    "companyname": "NULL",
                                    "country": "NULL",
                                    "region": "NULL",
                                    "city": "NULL"
                                },
                                {
                                    "custid": "539",
                                    "companyname": "NULL",
                                    "country": "NULL",
                                    "region": "NULL",
                                    "city": "NULL"
                                },
                                {
                                    "custid": "540",
                                    "companyname": "NULL",
                                    "country": "NULL",
                                    "region": "NULL",
                                    "city": "NULL"
                                },
                                {
                                    "custid": "541",
                                    "companyname": "NULL",
                                    "country": "NULL",
                                    "region": "NULL",
                                    "city": "NULL"
                                },
                                {
                                    "custid": "542",
                                    "companyname": "NULL",
                                    "country": "NULL",
                                    "region": "NULL",
                                    "city": "NULL"
                                },
                                {
                                    "custid": "543",
                                    "companyname": "NULL",
                                    "country": "NULL",
                                    "region": "NULL",
                                    "city": "NULL"
                                },
                                {
                                    "custid": "544",
                                    "companyname": "NULL",
                                    "country": "NULL",
                                    "region": "NULL",
                                    "city": "NULL"
                                },
                                {
                                    "custid": "545",
                                    "companyname": "NULL",
                                    "country": "NULL",
                                    "region": "NULL",
                                    "city": "NULL"
                                },
                                {
                                    "custid": "546",
                                    "companyname": "NULL",
                                    "country": "NULL",
                                    "region": "NULL",
                                    "city": "NULL"
                                },
                                {
                                    "custid": "547",
                                    "companyname": "NULL",
                                    "country": "NULL",
                                    "region": "NULL",
                                    "city": "NULL"
                                },
                                {
                                    "custid": "548",
                                    "companyname": "NULL",
                                    "country": "NULL",
                                    "region": "NULL",
                                    "city": "NULL"
                                },
                                {
                                    "custid": "549",
                                    "companyname": "NULL",
                                    "country": "NULL",
                                    "region": "NULL",
                                    "city": "NULL"
                                },
                                {
                                    "custid": "550",
                                    "companyname": "NULL",
                                    "country": "NULL",
                                    "region": "NULL",
                                    "city": "NULL"
                                },
                                {
                                    "custid": "551",
                                    "companyname": "NULL",
                                    "country": "NULL",
                                    "region": "NULL",
                                    "city": "NULL"
                                },
                                {
                                    "custid": "552",
                                    "companyname": "NULL",
                                    "country": "NULL",
                                    "region": "NULL",
                                    "city": "NULL"
                                },
                                {
                                    "custid": "553",
                                    "companyname": "NULL",
                                    "country": "NULL",
                                    "region": "NULL",
                                    "city": "NULL"
                                },
                                {
                                    "custid": "554",
                                    "companyname": "NULL",
                                    "country": "NULL",
                                    "region": "NULL",
                                    "city": "NULL"
                                },
                                {
                                    "custid": "555",
                                    "companyname": "NULL",
                                    "country": "NULL",
                                    "region": "NULL",
                                    "city": "NULL"
                                },
                                {
                                    "custid": "556",
                                    "companyname": "NULL",
                                    "country": "NULL",
                                    "region": "NULL",
                                    "city": "NULL"
                                },
                                {
                                    "custid": "557",
                                    "companyname": "NULL",
                                    "country": "NULL",
                                    "region": "NULL",
                                    "city": "NULL"
                                },
                                {
                                    "custid": "558",
                                    "companyname": "NULL",
                                    "country": "NULL",
                                    "region": "NULL",
                                    "city": "NULL"
                                },
                                {
                                    "custid": "559",
                                    "companyname": "NULL",
                                    "country": "NULL",
                                    "region": "NULL",
                                    "city": "NULL"
                                },
                                {
                                    "custid": "560",
                                    "companyname": "NULL",
                                    "country": "NULL",
                                    "region": "NULL",
                                    "city": "NULL"
                                },
                                {
                                    "custid": "561",
                                    "companyname": "NULL",
                                    "country": "NULL",
                                    "region": "NULL",
                                    "city": "NULL"
                                },
                                {
                                    "custid": "562",
                                    "companyname": "NULL",
                                    "country": "NULL",
                                    "region": "NULL",
                                    "city": "NULL"
                                },
                                {
                                    "custid": "563",
                                    "companyname": "NULL",
                                    "country": "NULL",
                                    "region": "NULL",
                                    "city": "NULL"
                                },
                                {
                                    "custid": "564",
                                    "companyname": "NULL",
                                    "country": "NULL",
                                    "region": "NULL",
                                    "city": "NULL"
                                },
                                {
                                    "custid": "565",
                                    "companyname": "NULL",
                                    "country": "NULL",
                                    "region": "NULL",
                                    "city": "NULL"
                                },
                                {
                                    "custid": "566",
                                    "companyname": "NULL",
                                    "country": "NULL",
                                    "region": "NULL",
                                    "city": "NULL"
                                },
                                {
                                    "custid": "567",
                                    "companyname": "NULL",
                                    "country": "NULL",
                                    "region": "NULL",
                                    "city": "NULL"
                                },
                                {
                                    "custid": "568",
                                    "companyname": "NULL",
                                    "country": "NULL",
                                    "region": "NULL",
                                    "city": "NULL"
                                },
                                {
                                    "custid": "569",
                                    "companyname": "NULL",
                                    "country": "NULL",
                                    "region": "NULL",
                                    "city": "NULL"
                                },
                                {
                                    "custid": "570",
                                    "companyname": "NULL",
                                    "country": "NULL",
                                    "region": "NULL",
                                    "city": "NULL"
                                },
                                {
                                    "custid": "571",
                                    "companyname": "NULL",
                                    "country": "NULL",
                                    "region": "NULL",
                                    "city": "NULL"
                                },
                                {
                                    "custid": "572",
                                    "companyname": "NULL",
                                    "country": "NULL",
                                    "region": "NULL",
                                    "city": "NULL"
                                },
                                {
                                    "custid": "573",
                                    "companyname": "NULL",
                                    "country": "NULL",
                                    "region": "NULL",
                                    "city": "NULL"
                                },
                                {
                                    "custid": "574",
                                    "companyname": "NULL",
                                    "country": "NULL",
                                    "region": "NULL",
                                    "city": "NULL"
                                },
                                {
                                    "custid": "575",
                                    "companyname": "NULL",
                                    "country": "NULL",
                                    "region": "NULL",
                                    "city": "NULL"
                                },
                                {
                                    "custid": "576",
                                    "companyname": "NULL",
                                    "country": "NULL",
                                    "region": "NULL",
                                    "city": "NULL"
                                },
                                {
                                    "custid": "577",
                                    "companyname": "NULL",
                                    "country": "NULL",
                                    "region": "NULL",
                                    "city": "NULL"
                                },
                                {
                                    "custid": "578",
                                    "companyname": "NULL",
                                    "country": "NULL",
                                    "region": "NULL",
                                    "city": "NULL"
                                },
                                {
                                    "custid": "579",
                                    "companyname": "NULL",
                                    "country": "NULL",
                                    "region": "NULL",
                                    "city": "NULL"
                                },
                                {
                                    "custid": "580",
                                    "companyname": "NULL",
                                    "country": "NULL",
                                    "region": "NULL",
                                    "city": "NULL"
                                },
                                {
                                    "custid": "581",
                                    "companyname": "NULL",
                                    "country": "NULL",
                                    "region": "NULL",
                                    "city": "NULL"
                                },
                                {
                                    "custid": "582",
                                    "companyname": "NULL",
                                    "country": "NULL",
                                    "region": "NULL",
                                    "city": "NULL"
                                },
                                {
                                    "custid": "583",
                                    "companyname": "NULL",
                                    "country": "NULL",
                                    "region": "NULL",
                                    "city": "NULL"
                                },
                                {
                                    "custid": "584",
                                    "companyname": "NULL",
                                    "country": "NULL",
                                    "region": "NULL",
                                    "city": "NULL"
                                },
                                {
                                    "custid": "585",
                                    "companyname": "NULL",
                                    "country": "NULL",
                                    "region": "NULL",
                                    "city": "NULL"
                                },
                                {
                                    "custid": "586",
                                    "companyname": "NULL",
                                    "country": "NULL",
                                    "region": "NULL",
                                    "city": "NULL"
                                },
                                {
                                    "custid": "587",
                                    "companyname": "NULL",
                                    "country": "NULL",
                                    "region": "NULL",
                                    "city": "NULL"
                                },
                                {
                                    "custid": "588",
                                    "companyname": "NULL",
                                    "country": "NULL",
                                    "region": "NULL",
                                    "city": "NULL"
                                },
                                {
                                    "custid": "589",
                                    "companyname": "NULL",
                                    "country": "NULL",
                                    "region": "NULL",
                                    "city": "NULL"
                                },
                                {
                                    "custid": "590",
                                    "companyname": "NULL",
                                    "country": "NULL",
                                    "region": "NULL",
                                    "city": "NULL"
                                },
                                {
                                    "custid": "591",
                                    "companyname": "NULL",
                                    "country": "NULL",
                                    "region": "NULL",
                                    "city": "NULL"
                                },
                                {
                                    "custid": "592",
                                    "companyname": "NULL",
                                    "country": "NULL",
                                    "region": "NULL",
                                    "city": "NULL"
                                },
                                {
                                    "custid": "593",
                                    "companyname": "NULL",
                                    "country": "NULL",
                                    "region": "NULL",
                                    "city": "NULL"
                                },
                                {
                                    "custid": "594",
                                    "companyname": "NULL",
                                    "country": "NULL",
                                    "region": "NULL",
                                    "city": "NULL"
                                },
                                {
                                    "custid": "595",
                                    "companyname": "NULL",
                                    "country": "NULL",
                                    "region": "NULL",
                                    "city": "NULL"
                                },
                                {
                                    "custid": "596",
                                    "companyname": "NULL",
                                    "country": "NULL",
                                    "region": "NULL",
                                    "city": "NULL"
                                },
                                {
                                    "custid": "597",
                                    "companyname": "NULL",
                                    "country": "NULL",
                                    "region": "NULL",
                                    "city": "NULL"
                                },
                                {
                                    "custid": "598",
                                    "companyname": "NULL",
                                    "country": "NULL",
                                    "region": "NULL",
                                    "city": "NULL"
                                },
                                {
                                    "custid": "599",
                                    "companyname": "NULL",
                                    "country": "NULL",
                                    "region": "NULL",
                                    "city": "NULL"
                                },
                                {
                                    "custid": "600",
                                    "companyname": "NULL",
                                    "country": "NULL",
                                    "region": "NULL",
                                    "city": "NULL"
                                },
                                {
                                    "custid": "601",
                                    "companyname": "NULL",
                                    "country": "NULL",
                                    "region": "NULL",
                                    "city": "NULL"
                                },
                                {
                                    "custid": "801",
                                    "companyname": "NULL",
                                    "country": "NULL",
                                    "region": "NULL",
                                    "city": "NULL"
                                },
                                {
                                    "custid": "802",
                                    "companyname": "NULL",
                                    "country": "NULL",
                                    "region": "NULL",
                                    "city": "NULL"
                                },
                                {
                                    "custid": "803",
                                    "companyname": "NULL",
                                    "country": "NULL",
                                    "region": "NULL",
                                    "city": "NULL"
                                },
                                {
                                    "custid": "804",
                                    "companyname": "NULL",
                                    "country": "NULL",
                                    "region": "NULL",
                                    "city": "NULL"
                                },
                                {
                                    "custid": "805",
                                    "companyname": "NULL",
                                    "country": "NULL",
                                    "region": "NULL",
                                    "city": "NULL"
                                },
                                {
                                    "custid": "806",
                                    "companyname": "NULL",
                                    "country": "NULL",
                                    "region": "NULL",
                                    "city": "NULL"
                                },
                                {
                                    "custid": "807",
                                    "companyname": "NULL",
                                    "country": "NULL",
                                    "region": "NULL",
                                    "city": "NULL"
                                },
                                {
                                    "custid": "808",
                                    "companyname": "NULL",
                                    "country": "NULL",
                                    "region": "NULL",
                                    "city": "NULL"
                                },
                                {
                                    "custid": "809",
                                    "companyname": "NULL",
                                    "country": "NULL",
                                    "region": "NULL",
                                    "city": "NULL"
                                },
                                {
                                    "custid": "810",
                                    "companyname": "NULL",
                                    "country": "NULL",
                                    "region": "NULL",
                                    "city": "NULL"
                                },
                                {
                                    "custid": "811",
                                    "companyname": "NULL",
                                    "country": "NULL",
                                    "region": "NULL",
                                    "city": "NULL"
                                },
                                {
                                    "custid": "812",
                                    "companyname": "NULL",
                                    "country": "NULL",
                                    "region": "NULL",
                                    "city": "NULL"
                                },
                                {
                                    "custid": "813",
                                    "companyname": "NULL",
                                    "country": "NULL",
                                    "region": "NULL",
                                    "city": "NULL"
                                },
                                {
                                    "custid": "814",
                                    "companyname": "NULL",
                                    "country": "NULL",
                                    "region": "NULL",
                                    "city": "NULL"
                                },
                                {
                                    "custid": "815",
                                    "companyname": "NULL",
                                    "country": "NULL",
                                    "region": "NULL",
                                    "city": "NULL"
                                },
                                {
                                    "custid": "816",
                                    "companyname": "NULL",
                                    "country": "NULL",
                                    "region": "NULL",
                                    "city": "NULL"
                                },
                                {
                                    "custid": "817",
                                    "companyname": "NULL",
                                    "country": "NULL",
                                    "region": "NULL",
                                    "city": "NULL"
                                },
                                {
                                    "custid": "818",
                                    "companyname": "NULL",
                                    "country": "NULL",
                                    "region": "NULL",
                                    "city": "NULL"
                                },
                                {
                                    "custid": "819",
                                    "companyname": "NULL",
                                    "country": "NULL",
                                    "region": "NULL",
                                    "city": "NULL"
                                },
                                {
                                    "custid": "820",
                                    "companyname": "NULL",
                                    "country": "NULL",
                                    "region": "NULL",
                                    "city": "NULL"
                                },
                                {
                                    "custid": "821",
                                    "companyname": "NULL",
                                    "country": "NULL",
                                    "region": "NULL",
                                    "city": "NULL"
                                },
                                {
                                    "custid": "822",
                                    "companyname": "NULL",
                                    "country": "NULL",
                                    "region": "NULL",
                                    "city": "NULL"
                                },
                                {
                                    "custid": "823",
                                    "companyname": "NULL",
                                    "country": "NULL",
                                    "region": "NULL",
                                    "city": "NULL"
                                },
                                {
                                    "custid": "824",
                                    "companyname": "NULL",
                                    "country": "NULL",
                                    "region": "NULL",
                                    "city": "NULL"
                                },
                                {
                                    "custid": "825",
                                    "companyname": "NULL",
                                    "country": "NULL",
                                    "region": "NULL",
                                    "city": "NULL"
                                },
                                {
                                    "custid": "826",
                                    "companyname": "NULL",
                                    "country": "NULL",
                                    "region": "NULL",
                                    "city": "NULL"
                                },
                                {
                                    "custid": "827",
                                    "companyname": "NULL",
                                    "country": "NULL",
                                    "region": "NULL",
                                    "city": "NULL"
                                },
                                {
                                    "custid": "828",
                                    "companyname": "NULL",
                                    "country": "NULL",
                                    "region": "NULL",
                                    "city": "NULL"
                                },
                                {
                                    "custid": "829",
                                    "companyname": "NULL",
                                    "country": "NULL",
                                    "region": "NULL",
                                    "city": "NULL"
                                },
                                {
                                    "custid": "830",
                                    "companyname": "NULL",
                                    "country": "NULL",
                                    "region": "NULL",
                                    "city": "NULL"
                                },
                                {
                                    "custid": "831",
                                    "companyname": "NULL",
                                    "country": "NULL",
                                    "region": "NULL",
                                    "city": "NULL"
                                },
                                {
                                    "custid": "832",
                                    "companyname": "NULL",
                                    "country": "NULL",
                                    "region": "NULL",
                                    "city": "NULL"
                                },
                                {
                                    "custid": "833",
                                    "companyname": "NULL",
                                    "country": "NULL",
                                    "region": "NULL",
                                    "city": "NULL"
                                },
                                {
                                    "custid": "834",
                                    "companyname": "NULL",
                                    "country": "NULL",
                                    "region": "NULL",
                                    "city": "NULL"
                                },
                                {
                                    "custid": "835",
                                    "companyname": "NULL",
                                    "country": "NULL",
                                    "region": "NULL",
                                    "city": "NULL"
                                },
                                {
                                    "custid": "836",
                                    "companyname": "NULL",
                                    "country": "NULL",
                                    "region": "NULL",
                                    "city": "NULL"
                                },
                                {
                                    "custid": "837",
                                    "companyname": "NULL",
                                    "country": "NULL",
                                    "region": "NULL",
                                    "city": "NULL"
                                },
                                {
                                    "custid": "838",
                                    "companyname": "NULL",
                                    "country": "NULL",
                                    "region": "NULL",
                                    "city": "NULL"
                                },
                                {
                                    "custid": "839",
                                    "companyname": "NULL",
                                    "country": "NULL",
                                    "region": "NULL",
                                    "city": "NULL"
                                },
                                {
                                    "custid": "840",
                                    "companyname": "NULL",
                                    "country": "NULL",
                                    "region": "NULL",
                                    "city": "NULL"
                                },
                                {
                                    "custid": "841",
                                    "companyname": "NULL",
                                    "country": "NULL",
                                    "region": "NULL",
                                    "city": "NULL"
                                },
                                {
                                    "custid": "842",
                                    "companyname": "NULL",
                                    "country": "NULL",
                                    "region": "NULL",
                                    "city": "NULL"
                                },
                                {
                                    "custid": "843",
                                    "companyname": "NULL",
                                    "country": "NULL",
                                    "region": "NULL",
                                    "city": "NULL"
                                },
                                {
                                    "custid": "844",
                                    "companyname": "NULL",
                                    "country": "NULL",
                                    "region": "NULL",
                                    "city": "NULL"
                                },
                                {
                                    "custid": "845",
                                    "companyname": "NULL",
                                    "country": "NULL",
                                    "region": "NULL",
                                    "city": "NULL"
                                },
                                {
                                    "custid": "846",
                                    "companyname": "NULL",
                                    "country": "NULL",
                                    "region": "NULL",
                                    "city": "NULL"
                                },
                                {
                                    "custid": "847",
                                    "companyname": "NULL",
                                    "country": "NULL",
                                    "region": "NULL",
                                    "city": "NULL"
                                },
                                {
                                    "custid": "848",
                                    "companyname": "NULL",
                                    "country": "NULL",
                                    "region": "NULL",
                                    "city": "NULL"
                                },
                                {
                                    "custid": "849",
                                    "companyname": "NULL",
                                    "country": "NULL",
                                    "region": "NULL",
                                    "city": "NULL"
                                },
                                {
                                    "custid": "850",
                                    "companyname": "NULL",
                                    "country": "NULL",
                                    "region": "NULL",
                                    "city": "NULL"
                                },
                                {
                                    "custid": "851",
                                    "companyname": "NULL",
                                    "country": "NULL",
                                    "region": "NULL",
                                    "city": "NULL"
                                },
                                {
                                    "custid": "852",
                                    "companyname": "NULL",
                                    "country": "NULL",
                                    "region": "NULL",
                                    "city": "NULL"
                                },
                                {
                                    "custid": "853",
                                    "companyname": "NULL",
                                    "country": "NULL",
                                    "region": "NULL",
                                    "city": "NULL"
                                },
                                {
                                    "custid": "854",
                                    "companyname": "NULL",
                                    "country": "NULL",
                                    "region": "NULL",
                                    "city": "NULL"
                                },
                                {
                                    "custid": "855",
                                    "companyname": "NULL",
                                    "country": "NULL",
                                    "region": "NULL",
                                    "city": "NULL"
                                },
                                {
                                    "custid": "856",
                                    "companyname": "NULL",
                                    "country": "NULL",
                                    "region": "NULL",
                                    "city": "NULL"
                                },
                                {
                                    "custid": "857",
                                    "companyname": "NULL",
                                    "country": "NULL",
                                    "region": "NULL",
                                    "city": "NULL"
                                },
                                {
                                    "custid": "858",
                                    "companyname": "NULL",
                                    "country": "NULL",
                                    "region": "NULL",
                                    "city": "NULL"
                                },
                                {
                                    "custid": "859",
                                    "companyname": "NULL",
                                    "country": "NULL",
                                    "region": "NULL",
                                    "city": "NULL"
                                },
                                {
                                    "custid": "860",
                                    "companyname": "NULL",
                                    "country": "NULL",
                                    "region": "NULL",
                                    "city": "NULL"
                                },
                                {
                                    "custid": "861",
                                    "companyname": "NULL",
                                    "country": "NULL",
                                    "region": "NULL",
                                    "city": "NULL"
                                },
                                {
                                    "custid": "862",
                                    "companyname": "NULL",
                                    "country": "NULL",
                                    "region": "NULL",
                                    "city": "NULL"
                                },
                                {
                                    "custid": "863",
                                    "companyname": "NULL",
                                    "country": "NULL",
                                    "region": "NULL",
                                    "city": "NULL"
                                },
                                {
                                    "custid": "864",
                                    "companyname": "NULL",
                                    "country": "NULL",
                                    "region": "NULL",
                                    "city": "NULL"
                                },
                                {
                                    "custid": "865",
                                    "companyname": "NULL",
                                    "country": "NULL",
                                    "region": "NULL",
                                    "city": "NULL"
                                },
                                {
                                    "custid": "866",
                                    "companyname": "NULL",
                                    "country": "NULL",
                                    "region": "NULL",
                                    "city": "NULL"
                                },
                                {
                                    "custid": "867",
                                    "companyname": "NULL",
                                    "country": "NULL",
                                    "region": "NULL",
                                    "city": "NULL"
                                },
                                {
                                    "custid": "868",
                                    "companyname": "NULL",
                                    "country": "NULL",
                                    "region": "NULL",
                                    "city": "NULL"
                                },
                                {
                                    "custid": "869",
                                    "companyname": "NULL",
                                    "country": "NULL",
                                    "region": "NULL",
                                    "city": "NULL"
                                },
                                {
                                    "custid": "870",
                                    "companyname": "NULL",
                                    "country": "NULL",
                                    "region": "NULL",
                                    "city": "NULL"
                                },
                                {
                                    "custid": "871",
                                    "companyname": "NULL",
                                    "country": "NULL",
                                    "region": "NULL",
                                    "city": "NULL"
                                },
                                {
                                    "custid": "872",
                                    "companyname": "NULL",
                                    "country": "NULL",
                                    "region": "NULL",
                                    "city": "NULL"
                                },
                                {
                                    "custid": "873",
                                    "companyname": "NULL",
                                    "country": "NULL",
                                    "region": "NULL",
                                    "city": "NULL"
                                },
                                {
                                    "custid": "874",
                                    "companyname": "NULL",
                                    "country": "NULL",
                                    "region": "NULL",
                                    "city": "NULL"
                                },
                                {
                                    "custid": "875",
                                    "companyname": "NULL",
                                    "country": "NULL",
                                    "region": "NULL",
                                    "city": "NULL"
                                },
                                {
                                    "custid": "876",
                                    "companyname": "NULL",
                                    "country": "NULL",
                                    "region": "NULL",
                                    "city": "NULL"
                                },
                                {
                                    "custid": "877",
                                    "companyname": "NULL",
                                    "country": "NULL",
                                    "region": "NULL",
                                    "city": "NULL"
                                },
                                {
                                    "custid": "878",
                                    "companyname": "NULL",
                                    "country": "NULL",
                                    "region": "NULL",
                                    "city": "NULL"
                                },
                                {
                                    "custid": "879",
                                    "companyname": "NULL",
                                    "country": "NULL",
                                    "region": "NULL",
                                    "city": "NULL"
                                },
                                {
                                    "custid": "880",
                                    "companyname": "NULL",
                                    "country": "NULL",
                                    "region": "NULL",
                                    "city": "NULL"
                                },
                                {
                                    "custid": "881",
                                    "companyname": "NULL",
                                    "country": "NULL",
                                    "region": "NULL",
                                    "city": "NULL"
                                },
                                {
                                    "custid": "882",
                                    "companyname": "NULL",
                                    "country": "NULL",
                                    "region": "NULL",
                                    "city": "NULL"
                                },
                                {
                                    "custid": "883",
                                    "companyname": "NULL",
                                    "country": "NULL",
                                    "region": "NULL",
                                    "city": "NULL"
                                },
                                {
                                    "custid": "884",
                                    "companyname": "NULL",
                                    "country": "NULL",
                                    "region": "NULL",
                                    "city": "NULL"
                                },
                                {
                                    "custid": "885",
                                    "companyname": "NULL",
                                    "country": "NULL",
                                    "region": "NULL",
                                    "city": "NULL"
                                },
                                {
                                    "custid": "886",
                                    "companyname": "NULL",
                                    "country": "NULL",
                                    "region": "NULL",
                                    "city": "NULL"
                                },
                                {
                                    "custid": "887",
                                    "companyname": "NULL",
                                    "country": "NULL",
                                    "region": "NULL",
                                    "city": "NULL"
                                },
                                {
                                    "custid": "888",
                                    "companyname": "NULL",
                                    "country": "NULL",
                                    "region": "NULL",
                                    "city": "NULL"
                                },
                                {
                                    "custid": "889",
                                    "companyname": "NULL",
                                    "country": "NULL",
                                    "region": "NULL",
                                    "city": "NULL"
                                },
                                {
                                    "custid": "890",
                                    "companyname": "NULL",
                                    "country": "NULL",
                                    "region": "NULL",
                                    "city": "NULL"
                                },
                                {
                                    "custid": "891",
                                    "companyname": "NULL",
                                    "country": "NULL",
                                    "region": "NULL",
                                    "city": "NULL"
                                },
                                {
                                    "custid": "892",
                                    "companyname": "NULL",
                                    "country": "NULL",
                                    "region": "NULL",
                                    "city": "NULL"
                                },
                                {
                                    "custid": "893",
                                    "companyname": "NULL",
                                    "country": "NULL",
                                    "region": "NULL",
                                    "city": "NULL"
                                },
                                {
                                    "custid": "894",
                                    "companyname": "NULL",
                                    "country": "NULL",
                                    "region": "NULL",
                                    "city": "NULL"
                                },
                                {
                                    "custid": "895",
                                    "companyname": "NULL",
                                    "country": "NULL",
                                    "region": "NULL",
                                    "city": "NULL"
                                },
                                {
                                    "custid": "896",
                                    "companyname": "NULL",
                                    "country": "NULL",
                                    "region": "NULL",
                                    "city": "NULL"
                                },
                                {
                                    "custid": "897",
                                    "companyname": "NULL",
                                    "country": "NULL",
                                    "region": "NULL",
                                    "city": "NULL"
                                },
                                {
                                    "custid": "898",
                                    "companyname": "NULL",
                                    "country": "NULL",
                                    "region": "NULL",
                                    "city": "NULL"
                                },
                                {
                                    "custid": "899",
                                    "companyname": "NULL",
                                    "country": "NULL",
                                    "region": "NULL",
                                    "city": "NULL"
                                },
                                {
                                    "custid": "900",
                                    "companyname": "NULL",
                                    "country": "NULL",
                                    "region": "NULL",
                                    "city": "NULL"
                                },
                                {
                                    "custid": "901",
                                    "companyname": "NULL",
                                    "country": "NULL",
                                    "region": "NULL",
                                    "city": "NULL"
                                },
                                {
                                    "custid": "902",
                                    "companyname": "NULL",
                                    "country": "NULL",
                                    "region": "NULL",
                                    "city": "NULL"
                                },
                                {
                                    "custid": "903",
                                    "companyname": "NULL",
                                    "country": "NULL",
                                    "region": "NULL",
                                    "city": "NULL"
                                },
                                {
                                    "custid": "904",
                                    "companyname": "NULL",
                                    "country": "NULL",
                                    "region": "NULL",
                                    "city": "NULL"
                                },
                                {
                                    "custid": "905",
                                    "companyname": "NULL",
                                    "country": "NULL",
                                    "region": "NULL",
                                    "city": "NULL"
                                },
                                {
                                    "custid": "906",
                                    "companyname": "NULL",
                                    "country": "NULL",
                                    "region": "NULL",
                                    "city": "NULL"
                                },
                                {
                                    "custid": "907",
                                    "companyname": "NULL",
                                    "country": "NULL",
                                    "region": "NULL",
                                    "city": "NULL"
                                },
                                {
                                    "custid": "908",
                                    "companyname": "NULL",
                                    "country": "NULL",
                                    "region": "NULL",
                                    "city": "NULL"
                                },
                                {
                                    "custid": "909",
                                    "companyname": "NULL",
                                    "country": "NULL",
                                    "region": "NULL",
                                    "city": "NULL"
                                },
                                {
                                    "custid": "910",
                                    "companyname": "NULL",
                                    "country": "NULL",
                                    "region": "NULL",
                                    "city": "NULL"
                                },
                                {
                                    "custid": "911",
                                    "companyname": "NULL",
                                    "country": "NULL",
                                    "region": "NULL",
                                    "city": "NULL"
                                },
                                {
                                    "custid": "912",
                                    "companyname": "NULL",
                                    "country": "NULL",
                                    "region": "NULL",
                                    "city": "NULL"
                                },
                                {
                                    "custid": "913",
                                    "companyname": "NULL",
                                    "country": "NULL",
                                    "region": "NULL",
                                    "city": "NULL"
                                },
                                {
                                    "custid": "914",
                                    "companyname": "NULL",
                                    "country": "NULL",
                                    "region": "NULL",
                                    "city": "NULL"
                                },
                                {
                                    "custid": "915",
                                    "companyname": "NULL",
                                    "country": "NULL",
                                    "region": "NULL",
                                    "city": "NULL"
                                },
                                {
                                    "custid": "916",
                                    "companyname": "NULL",
                                    "country": "NULL",
                                    "region": "NULL",
                                    "city": "NULL"
                                },
                                {
                                    "custid": "917",
                                    "companyname": "NULL",
                                    "country": "NULL",
                                    "region": "NULL",
                                    "city": "NULL"
                                },
                                {
                                    "custid": "918",
                                    "companyname": "NULL",
                                    "country": "NULL",
                                    "region": "NULL",
                                    "city": "NULL"
                                },
                                {
                                    "custid": "919",
                                    "companyname": "NULL",
                                    "country": "NULL",
                                    "region": "NULL",
                                    "city": "NULL"
                                },
                                {
                                    "custid": "920",
                                    "companyname": "NULL",
                                    "country": "NULL",
                                    "region": "NULL",
                                    "city": "NULL"
                                },
                                {
                                    "custid": "921",
                                    "companyname": "NULL",
                                    "country": "NULL",
                                    "region": "NULL",
                                    "city": "NULL"
                                },
                                {
                                    "custid": "922",
                                    "companyname": "NULL",
                                    "country": "NULL",
                                    "region": "NULL",
                                    "city": "NULL"
                                },
                                {
                                    "custid": "923",
                                    "companyname": "NULL",
                                    "country": "NULL",
                                    "region": "NULL",
                                    "city": "NULL"
                                },
                                {
                                    "custid": "924",
                                    "companyname": "NULL",
                                    "country": "NULL",
                                    "region": "NULL",
                                    "city": "NULL"
                                },
                                {
                                    "custid": "925",
                                    "companyname": "NULL",
                                    "country": "NULL",
                                    "region": "NULL",
                                    "city": "NULL"
                                },
                                {
                                    "custid": "926",
                                    "companyname": "NULL",
                                    "country": "NULL",
                                    "region": "NULL",
                                    "city": "NULL"
                                },
                                {
                                    "custid": "927",
                                    "companyname": "NULL",
                                    "country": "NULL",
                                    "region": "NULL",
                                    "city": "NULL"
                                },
                                {
                                    "custid": "928",
                                    "companyname": "NULL",
                                    "country": "NULL",
                                    "region": "NULL",
                                    "city": "NULL"
                                },
                                {
                                    "custid": "929",
                                    "companyname": "NULL",
                                    "country": "NULL",
                                    "region": "NULL",
                                    "city": "NULL"
                                },
                                {
                                    "custid": "930",
                                    "companyname": "NULL",
                                    "country": "NULL",
                                    "region": "NULL",
                                    "city": "NULL"
                                },
                                {
                                    "custid": "931",
                                    "companyname": "NULL",
                                    "country": "NULL",
                                    "region": "NULL",
                                    "city": "NULL"
                                },
                                {
                                    "custid": "932",
                                    "companyname": "NULL",
                                    "country": "NULL",
                                    "region": "NULL",
                                    "city": "NULL"
                                },
                                {
                                    "custid": "933",
                                    "companyname": "NULL",
                                    "country": "NULL",
                                    "region": "NULL",
                                    "city": "NULL"
                                },
                                {
                                    "custid": "934",
                                    "companyname": "NULL",
                                    "country": "NULL",
                                    "region": "NULL",
                                    "city": "NULL"
                                },
                                {
                                    "custid": "935",
                                    "companyname": "NULL",
                                    "country": "NULL",
                                    "region": "NULL",
                                    "city": "NULL"
                                },
                                {
                                    "custid": "936",
                                    "companyname": "NULL",
                                    "country": "NULL",
                                    "region": "NULL",
                                    "city": "NULL"
                                },
                                {
                                    "custid": "937",
                                    "companyname": "NULL",
                                    "country": "NULL",
                                    "region": "NULL",
                                    "city": "NULL"
                                },
                                {
                                    "custid": "938",
                                    "companyname": "NULL",
                                    "country": "NULL",
                                    "region": "NULL",
                                    "city": "NULL"
                                },
                                {
                                    "custid": "939",
                                    "companyname": "NULL",
                                    "country": "NULL",
                                    "region": "NULL",
                                    "city": "NULL"
                                },
                                {
                                    "custid": "940",
                                    "companyname": "NULL",
                                    "country": "NULL",
                                    "region": "NULL",
                                    "city": "NULL"
                                },
                                {
                                    "custid": "941",
                                    "companyname": "NULL",
                                    "country": "NULL",
                                    "region": "NULL",
                                    "city": "NULL"
                                },
                                {
                                    "custid": "942",
                                    "companyname": "NULL",
                                    "country": "NULL",
                                    "region": "NULL",
                                    "city": "NULL"
                                },
                                {
                                    "custid": "943",
                                    "companyname": "NULL",
                                    "country": "NULL",
                                    "region": "NULL",
                                    "city": "NULL"
                                },
                                {
                                    "custid": "944",
                                    "companyname": "NULL",
                                    "country": "NULL",
                                    "region": "NULL",
                                    "city": "NULL"
                                },
                                {
                                    "custid": "945",
                                    "companyname": "NULL",
                                    "country": "NULL",
                                    "region": "NULL",
                                    "city": "NULL"
                                },
                                {
                                    "custid": "946",
                                    "companyname": "NULL",
                                    "country": "NULL",
                                    "region": "NULL",
                                    "city": "NULL"
                                },
                                {
                                    "custid": "947",
                                    "companyname": "NULL",
                                    "country": "NULL",
                                    "region": "NULL",
                                    "city": "NULL"
                                },
                                {
                                    "custid": "948",
                                    "companyname": "NULL",
                                    "country": "NULL",
                                    "region": "NULL",
                                    "city": "NULL"
                                },
                                {
                                    "custid": "949",
                                    "companyname": "NULL",
                                    "country": "NULL",
                                    "region": "NULL",
                                    "city": "NULL"
                                },
                                {
                                    "custid": "950",
                                    "companyname": "NULL",
                                    "country": "NULL",
                                    "region": "NULL",
                                    "city": "NULL"
                                },
                                {
                                    "custid": "951",
                                    "companyname": "NULL",
                                    "country": "NULL",
                                    "region": "NULL",
                                    "city": "NULL"
                                },
                                {
                                    "custid": "952",
                                    "companyname": "NULL",
                                    "country": "NULL",
                                    "region": "NULL",
                                    "city": "NULL"
                                },
                                {
                                    "custid": "953",
                                    "companyname": "NULL",
                                    "country": "NULL",
                                    "region": "NULL",
                                    "city": "NULL"
                                },
                                {
                                    "custid": "954",
                                    "companyname": "NULL",
                                    "country": "NULL",
                                    "region": "NULL",
                                    "city": "NULL"
                                },
                                {
                                    "custid": "955",
                                    "companyname": "NULL",
                                    "country": "NULL",
                                    "region": "NULL",
                                    "city": "NULL"
                                },
                                {
                                    "custid": "956",
                                    "companyname": "NULL",
                                    "country": "NULL",
                                    "region": "NULL",
                                    "city": "NULL"
                                },
                                {
                                    "custid": "957",
                                    "companyname": "NULL",
                                    "country": "NULL",
                                    "region": "NULL",
                                    "city": "NULL"
                                },
                                {
                                    "custid": "958",
                                    "companyname": "NULL",
                                    "country": "NULL",
                                    "region": "NULL",
                                    "city": "NULL"
                                },
                                {
                                    "custid": "959",
                                    "companyname": "NULL",
                                    "country": "NULL",
                                    "region": "NULL",
                                    "city": "NULL"
                                },
                                {
                                    "custid": "960",
                                    "companyname": "NULL",
                                    "country": "NULL",
                                    "region": "NULL",
                                    "city": "NULL"
                                },
                                {
                                    "custid": "961",
                                    "companyname": "NULL",
                                    "country": "NULL",
                                    "region": "NULL",
                                    "city": "NULL"
                                },
                                {
                                    "custid": "962",
                                    "companyname": "NULL",
                                    "country": "NULL",
                                    "region": "NULL",
                                    "city": "NULL"
                                },
                                {
                                    "custid": "963",
                                    "companyname": "NULL",
                                    "country": "NULL",
                                    "region": "NULL",
                                    "city": "NULL"
                                },
                                {
                                    "custid": "964",
                                    "companyname": "NULL",
                                    "country": "NULL",
                                    "region": "NULL",
                                    "city": "NULL"
                                },
                                {
                                    "custid": "965",
                                    "companyname": "NULL",
                                    "country": "NULL",
                                    "region": "NULL",
                                    "city": "NULL"
                                },
                                {
                                    "custid": "966",
                                    "companyname": "NULL",
                                    "country": "NULL",
                                    "region": "NULL",
                                    "city": "NULL"
                                },
                                {
                                    "custid": "967",
                                    "companyname": "NULL",
                                    "country": "NULL",
                                    "region": "NULL",
                                    "city": "NULL"
                                },
                                {
                                    "custid": "968",
                                    "companyname": "NULL",
                                    "country": "NULL",
                                    "region": "NULL",
                                    "city": "NULL"
                                },
                                {
                                    "custid": "969",
                                    "companyname": "NULL",
                                    "country": "NULL",
                                    "region": "NULL",
                                    "city": "NULL"
                                },
                                {
                                    "custid": "970",
                                    "companyname": "NULL",
                                    "country": "NULL",
                                    "region": "NULL",
                                    "city": "NULL"
                                },
                                {
                                    "custid": "971",
                                    "companyname": "NULL",
                                    "country": "NULL",
                                    "region": "NULL",
                                    "city": "NULL"
                                },
                                {
                                    "custid": "972",
                                    "companyname": "NULL",
                                    "country": "NULL",
                                    "region": "NULL",
                                    "city": "NULL"
                                },
                                {
                                    "custid": "973",
                                    "companyname": "NULL",
                                    "country": "NULL",
                                    "region": "NULL",
                                    "city": "NULL"
                                },
                                {
                                    "custid": "974",
                                    "companyname": "NULL",
                                    "country": "NULL",
                                    "region": "NULL",
                                    "city": "NULL"
                                },
                                {
                                    "custid": "975",
                                    "companyname": "NULL",
                                    "country": "NULL",
                                    "region": "NULL",
                                    "city": "NULL"
                                },
                                {
                                    "custid": "976",
                                    "companyname": "NULL",
                                    "country": "NULL",
                                    "region": "NULL",
                                    "city": "NULL"
                                },
                                {
                                    "custid": "977",
                                    "companyname": "NULL",
                                    "country": "NULL",
                                    "region": "NULL",
                                    "city": "NULL"
                                },
                                {
                                    "custid": "978",
                                    "companyname": "NULL",
                                    "country": "NULL",
                                    "region": "NULL",
                                    "city": "NULL"
                                },
                                {
                                    "custid": "979",
                                    "companyname": "NULL",
                                    "country": "NULL",
                                    "region": "NULL",
                                    "city": "NULL"
                                },
                                {
                                    "custid": "980",
                                    "companyname": "NULL",
                                    "country": "NULL",
                                    "region": "NULL",
                                    "city": "NULL"
                                },
                                {
                                    "custid": "981",
                                    "companyname": "NULL",
                                    "country": "NULL",
                                    "region": "NULL",
                                    "city": "NULL"
                                },
                                {
                                    "custid": "982",
                                    "companyname": "NULL",
                                    "country": "NULL",
                                    "region": "NULL",
                                    "city": "NULL"
                                },
                                {
                                    "custid": "983",
                                    "companyname": "NULL",
                                    "country": "NULL",
                                    "region": "NULL",
                                    "city": "NULL"
                                },
                                {
                                    "custid": "984",
                                    "companyname": "NULL",
                                    "country": "NULL",
                                    "region": "NULL",
                                    "city": "NULL"
                                },
                                {
                                    "custid": "985",
                                    "companyname": "NULL",
                                    "country": "NULL",
                                    "region": "NULL",
                                    "city": "NULL"
                                },
                                {
                                    "custid": "986",
                                    "companyname": "NULL",
                                    "country": "NULL",
                                    "region": "NULL",
                                    "city": "NULL"
                                },
                                {
                                    "custid": "987",
                                    "companyname": "NULL",
                                    "country": "NULL",
                                    "region": "NULL",
                                    "city": "NULL"
                                },
                                {
                                    "custid": "988",
                                    "companyname": "NULL",
                                    "country": "NULL",
                                    "region": "NULL",
                                    "city": "NULL"
                                },
                                {
                                    "custid": "989",
                                    "companyname": "NULL",
                                    "country": "NULL",
                                    "region": "NULL",
                                    "city": "NULL"
                                },
                                {
                                    "custid": "990",
                                    "companyname": "NULL",
                                    "country": "NULL",
                                    "region": "NULL",
                                    "city": "NULL"
                                },
                                {
                                    "custid": "991",
                                    "companyname": "NULL",
                                    "country": "NULL",
                                    "region": "NULL",
                                    "city": "NULL"
                                },
                                {
                                    "custid": "992",
                                    "companyname": "NULL",
                                    "country": "NULL",
                                    "region": "NULL",
                                    "city": "NULL"
                                },
                                {
                                    "custid": "993",
                                    "companyname": "NULL",
                                    "country": "NULL",
                                    "region": "NULL",
                                    "city": "NULL"
                                },
                                {
                                    "custid": "994",
                                    "companyname": "NULL",
                                    "country": "NULL",
                                    "region": "NULL",
                                    "city": "NULL"
                                },
                                {
                                    "custid": "995",
                                    "companyname": "NULL",
                                    "country": "NULL",
                                    "region": "NULL",
                                    "city": "NULL"
                                },
                                {
                                    "custid": "996",
                                    "companyname": "NULL",
                                    "country": "NULL",
                                    "region": "NULL",
                                    "city": "NULL"
                                },
                                {
                                    "custid": "997",
                                    "companyname": "NULL",
                                    "country": "NULL",
                                    "region": "NULL",
                                    "city": "NULL"
                                },
                                {
                                    "custid": "998",
                                    "companyname": "NULL",
                                    "country": "NULL",
                                    "region": "NULL",
                                    "city": "NULL"
                                },
                                {
                                    "custid": "999",
                                    "companyname": "NULL",
                                    "country": "NULL",
                                    "region": "NULL",
                                    "city": "NULL"
                                },
                                {
                                    "custid": "1000",
                                    "companyname": "NULL",
                                    "country": "NULL",
                                    "region": "NULL",
                                    "city": "NULL"
                                },
                                {
                                    "custid": "1001",
                                    "companyname": "NULL",
                                    "country": "NULL",
                                    "region": "NULL",
                                    "city": "NULL"
                                },
                                {
                                    "custid": "1002",
                                    "companyname": "NULL",
                                    "country": "NULL",
                                    "region": "NULL",
                                    "city": "NULL"
                                },
                                {
                                    "custid": "1003",
                                    "companyname": "NULL",
                                    "country": "NULL",
                                    "region": "NULL",
                                    "city": "NULL"
                                },
                                {
                                    "custid": "1004",
                                    "companyname": "NULL",
                                    "country": "NULL",
                                    "region": "NULL",
                                    "city": "NULL"
                                },
                                {
                                    "custid": "1005",
                                    "companyname": "NULL",
                                    "country": "NULL",
                                    "region": "NULL",
                                    "city": "NULL"
                                },
                                {
                                    "custid": "1006",
                                    "companyname": "NULL",
                                    "country": "NULL",
                                    "region": "NULL",
                                    "city": "NULL"
                                },
                                {
                                    "custid": "1007",
                                    "companyname": "NULL",
                                    "country": "NULL",
                                    "region": "NULL",
                                    "city": "NULL"
                                },
                                {
                                    "custid": "1008",
                                    "companyname": "NULL",
                                    "country": "NULL",
                                    "region": "NULL",
                                    "city": "NULL"
                                },
                                {
                                    "custid": "1009",
                                    "companyname": "NULL",
                                    "country": "NULL",
                                    "region": "NULL",
                                    "city": "NULL"
                                },
                                {
                                    "custid": "1010",
                                    "companyname": "NULL",
                                    "country": "NULL",
                                    "region": "NULL",
                                    "city": "NULL"
                                },
                                {
                                    "custid": "1011",
                                    "companyname": "NULL",
                                    "country": "NULL",
                                    "region": "NULL",
                                    "city": "NULL"
                                },
                                {
                                    "custid": "1012",
                                    "companyname": "NULL",
                                    "country": "NULL",
                                    "region": "NULL",
                                    "city": "NULL"
                                },
                                {
                                    "custid": "1013",
                                    "companyname": "NULL",
                                    "country": "NULL",
                                    "region": "NULL",
                                    "city": "NULL"
                                },
                                {
                                    "custid": "1014",
                                    "companyname": "NULL",
                                    "country": "NULL",
                                    "region": "NULL",
                                    "city": "NULL"
                                },
                                {
                                    "custid": "1015",
                                    "companyname": "NULL",
                                    "country": "NULL",
                                    "region": "NULL",
                                    "city": "NULL"
                                },
                                {
                                    "custid": "1016",
                                    "companyname": "NULL",
                                    "country": "NULL",
                                    "region": "NULL",
                                    "city": "NULL"
                                },
                                {
                                    "custid": "1017",
                                    "companyname": "NULL",
                                    "country": "NULL",
                                    "region": "NULL",
                                    "city": "NULL"
                                },
                                {
                                    "custid": "1018",
                                    "companyname": "NULL",
                                    "country": "NULL",
                                    "region": "NULL",
                                    "city": "NULL"
                                },
                                {
                                    "custid": "1019",
                                    "companyname": "NULL",
                                    "country": "NULL",
                                    "region": "NULL",
                                    "city": "NULL"
                                },
                                {
                                    "custid": "1020",
                                    "companyname": "NULL",
                                    "country": "NULL",
                                    "region": "NULL",
                                    "city": "NULL"
                                },
                                {
                                    "custid": "1021",
                                    "companyname": "NULL",
                                    "country": "NULL",
                                    "region": "NULL",
                                    "city": "NULL"
                                },
                                {
                                    "custid": "1022",
                                    "companyname": "NULL",
                                    "country": "NULL",
                                    "region": "NULL",
                                    "city": "NULL"
                                },
                                {
                                    "custid": "1023",
                                    "companyname": "NULL",
                                    "country": "NULL",
                                    "region": "NULL",
                                    "city": "NULL"
                                },
                                {
                                    "custid": "1024",
                                    "companyname": "NULL",
                                    "country": "NULL",
                                    "region": "NULL",
                                    "city": "NULL"
                                },
                                {
                                    "custid": "1025",
                                    "companyname": "NULL",
                                    "country": "NULL",
                                    "region": "NULL",
                                    "city": "NULL"
                                },
                                {
                                    "custid": "1026",
                                    "companyname": "NULL",
                                    "country": "NULL",
                                    "region": "NULL",
                                    "city": "NULL"
                                },
                                {
                                    "custid": "1027",
                                    "companyname": "NULL",
                                    "country": "NULL",
                                    "region": "NULL",
                                    "city": "NULL"
                                },
                                {
                                    "custid": "1028",
                                    "companyname": "NULL",
                                    "country": "NULL",
                                    "region": "NULL",
                                    "city": "NULL"
                                },
                                {
                                    "custid": "1029",
                                    "companyname": "NULL",
                                    "country": "NULL",
                                    "region": "NULL",
                                    "city": "NULL"
                                },
                                {
                                    "custid": "1030",
                                    "companyname": "NULL",
                                    "country": "NULL",
                                    "region": "NULL",
                                    "city": "NULL"
                                },
                                {
                                    "custid": "1031",
                                    "companyname": "NULL",
                                    "country": "NULL",
                                    "region": "NULL",
                                    "city": "NULL"
                                },
                                {
                                    "custid": "1032",
                                    "companyname": "NULL",
                                    "country": "NULL",
                                    "region": "NULL",
                                    "city": "NULL"
                                },
                                {
                                    "custid": "1033",
                                    "companyname": "NULL",
                                    "country": "NULL",
                                    "region": "NULL",
                                    "city": "NULL"
                                },
                                {
                                    "custid": "1034",
                                    "companyname": "NULL",
                                    "country": "NULL",
                                    "region": "NULL",
                                    "city": "NULL"
                                },
                                {
                                    "custid": "1035",
                                    "companyname": "NULL",
                                    "country": "NULL",
                                    "region": "NULL",
                                    "city": "NULL"
                                },
                                {
                                    "custid": "1036",
                                    "companyname": "NULL",
                                    "country": "NULL",
                                    "region": "NULL",
                                    "city": "NULL"
                                },
                                {
                                    "custid": "1037",
                                    "companyname": "NULL",
                                    "country": "NULL",
                                    "region": "NULL",
                                    "city": "NULL"
                                },
                                {
                                    "custid": "1038",
                                    "companyname": "NULL",
                                    "country": "NULL",
                                    "region": "NULL",
                                    "city": "NULL"
                                },
                                {
                                    "custid": "1039",
                                    "companyname": "NULL",
                                    "country": "NULL",
                                    "region": "NULL",
                                    "city": "NULL"
                                },
                                {
                                    "custid": "1040",
                                    "companyname": "NULL",
                                    "country": "NULL",
                                    "region": "NULL",
                                    "city": "NULL"
                                },
                                {
                                    "custid": "1041",
                                    "companyname": "NULL",
                                    "country": "NULL",
                                    "region": "NULL",
                                    "city": "NULL"
                                },
                                {
                                    "custid": "1042",
                                    "companyname": "NULL",
                                    "country": "NULL",
                                    "region": "NULL",
                                    "city": "NULL"
                                },
                                {
                                    "custid": "1043",
                                    "companyname": "NULL",
                                    "country": "NULL",
                                    "region": "NULL",
                                    "city": "NULL"
                                },
                                {
                                    "custid": "1044",
                                    "companyname": "NULL",
                                    "country": "NULL",
                                    "region": "NULL",
                                    "city": "NULL"
                                },
                                {
                                    "custid": "1045",
                                    "companyname": "NULL",
                                    "country": "NULL",
                                    "region": "NULL",
                                    "city": "NULL"
                                },
                                {
                                    "custid": "1046",
                                    "companyname": "NULL",
                                    "country": "NULL",
                                    "region": "NULL",
                                    "city": "NULL"
                                },
                                {
                                    "custid": "1047",
                                    "companyname": "NULL",
                                    "country": "NULL",
                                    "region": "NULL",
                                    "city": "NULL"
                                },
                                {
                                    "custid": "1048",
                                    "companyname": "NULL",
                                    "country": "NULL",
                                    "region": "NULL",
                                    "city": "NULL"
                                },
                                {
                                    "custid": "1049",
                                    "companyname": "NULL",
                                    "country": "NULL",
                                    "region": "NULL",
                                    "city": "NULL"
                                },
                                {
                                    "custid": "1050",
                                    "companyname": "NULL",
                                    "country": "NULL",
                                    "region": "NULL",
                                    "city": "NULL"
                                },
                                {
                                    "custid": "1051",
                                    "companyname": "NULL",
                                    "country": "NULL",
                                    "region": "NULL",
                                    "city": "NULL"
                                },
                                {
                                    "custid": "1052",
                                    "companyname": "NULL",
                                    "country": "NULL",
                                    "region": "NULL",
                                    "city": "NULL"
                                },
                                {
                                    "custid": "1053",
                                    "companyname": "NULL",
                                    "country": "NULL",
                                    "region": "NULL",
                                    "city": "NULL"
                                },
                                {
                                    "custid": "1054",
                                    "companyname": "NULL",
                                    "country": "NULL",
                                    "region": "NULL",
                                    "city": "NULL"
                                },
                                {
                                    "custid": "1055",
                                    "companyname": "NULL",
                                    "country": "NULL",
                                    "region": "NULL",
                                    "city": "NULL"
                                },
                                {
                                    "custid": "1056",
                                    "companyname": "NULL",
                                    "country": "NULL",
                                    "region": "NULL",
                                    "city": "NULL"
                                },
                                {
                                    "custid": "1057",
                                    "companyname": "NULL",
                                    "country": "NULL",
                                    "region": "NULL",
                                    "city": "NULL"
                                },
                                {
                                    "custid": "1058",
                                    "companyname": "NULL",
                                    "country": "NULL",
                                    "region": "NULL",
                                    "city": "NULL"
                                },
                                {
                                    "custid": "1059",
                                    "companyname": "NULL",
                                    "country": "NULL",
                                    "region": "NULL",
                                    "city": "NULL"
                                },
                                {
                                    "custid": "1060",
                                    "companyname": "NULL",
                                    "country": "NULL",
                                    "region": "NULL",
                                    "city": "NULL"
                                },
                                {
                                    "custid": "1061",
                                    "companyname": "NULL",
                                    "country": "NULL",
                                    "region": "NULL",
                                    "city": "NULL"
                                }
                            ]
                        },
                        "text/html": [
                            "<table>",
                            "<tr><th>custid</th><th>companyname</th><th>country</th><th>region</th><th>city</th></tr>",
                            "<tr><td>1</td><td>NULL</td><td>NULL</td><td>NULL</td><td>NULL</td></tr>",
                            "<tr><td>2</td><td>NULL</td><td>NULL</td><td>NULL</td><td>NULL</td></tr>",
                            "<tr><td>3</td><td>NULL</td><td>NULL</td><td>NULL</td><td>NULL</td></tr>",
                            "<tr><td>4</td><td>NULL</td><td>NULL</td><td>NULL</td><td>NULL</td></tr>",
                            "<tr><td>5</td><td>NULL</td><td>NULL</td><td>NULL</td><td>NULL</td></tr>",
                            "<tr><td>6</td><td>NULL</td><td>NULL</td><td>NULL</td><td>NULL</td></tr>",
                            "<tr><td>7</td><td>NULL</td><td>NULL</td><td>NULL</td><td>NULL</td></tr>",
                            "<tr><td>8</td><td>NULL</td><td>NULL</td><td>NULL</td><td>NULL</td></tr>",
                            "<tr><td>9</td><td>NULL</td><td>NULL</td><td>NULL</td><td>NULL</td></tr>",
                            "<tr><td>10</td><td>NULL</td><td>NULL</td><td>NULL</td><td>NULL</td></tr>",
                            "<tr><td>11</td><td>NULL</td><td>NULL</td><td>NULL</td><td>NULL</td></tr>",
                            "<tr><td>12</td><td>NULL</td><td>NULL</td><td>NULL</td><td>NULL</td></tr>",
                            "<tr><td>13</td><td>NULL</td><td>NULL</td><td>NULL</td><td>NULL</td></tr>",
                            "<tr><td>14</td><td>NULL</td><td>NULL</td><td>NULL</td><td>NULL</td></tr>",
                            "<tr><td>15</td><td>NULL</td><td>NULL</td><td>NULL</td><td>NULL</td></tr>",
                            "<tr><td>16</td><td>NULL</td><td>NULL</td><td>NULL</td><td>NULL</td></tr>",
                            "<tr><td>17</td><td>NULL</td><td>NULL</td><td>NULL</td><td>NULL</td></tr>",
                            "<tr><td>18</td><td>NULL</td><td>NULL</td><td>NULL</td><td>NULL</td></tr>",
                            "<tr><td>19</td><td>NULL</td><td>NULL</td><td>NULL</td><td>NULL</td></tr>",
                            "<tr><td>20</td><td>NULL</td><td>NULL</td><td>NULL</td><td>NULL</td></tr>",
                            "<tr><td>21</td><td>NULL</td><td>NULL</td><td>NULL</td><td>NULL</td></tr>",
                            "<tr><td>22</td><td>NULL</td><td>NULL</td><td>NULL</td><td>NULL</td></tr>",
                            "<tr><td>23</td><td>NULL</td><td>NULL</td><td>NULL</td><td>NULL</td></tr>",
                            "<tr><td>24</td><td>NULL</td><td>NULL</td><td>NULL</td><td>NULL</td></tr>",
                            "<tr><td>25</td><td>NULL</td><td>NULL</td><td>NULL</td><td>NULL</td></tr>",
                            "<tr><td>26</td><td>NULL</td><td>NULL</td><td>NULL</td><td>NULL</td></tr>",
                            "<tr><td>27</td><td>NULL</td><td>NULL</td><td>NULL</td><td>NULL</td></tr>",
                            "<tr><td>28</td><td>NULL</td><td>NULL</td><td>NULL</td><td>NULL</td></tr>",
                            "<tr><td>29</td><td>NULL</td><td>NULL</td><td>NULL</td><td>NULL</td></tr>",
                            "<tr><td>30</td><td>NULL</td><td>NULL</td><td>NULL</td><td>NULL</td></tr>",
                            "<tr><td>31</td><td>NULL</td><td>NULL</td><td>NULL</td><td>NULL</td></tr>",
                            "<tr><td>32</td><td>NULL</td><td>NULL</td><td>NULL</td><td>NULL</td></tr>",
                            "<tr><td>33</td><td>NULL</td><td>NULL</td><td>NULL</td><td>NULL</td></tr>",
                            "<tr><td>34</td><td>NULL</td><td>NULL</td><td>NULL</td><td>NULL</td></tr>",
                            "<tr><td>35</td><td>NULL</td><td>NULL</td><td>NULL</td><td>NULL</td></tr>",
                            "<tr><td>36</td><td>NULL</td><td>NULL</td><td>NULL</td><td>NULL</td></tr>",
                            "<tr><td>37</td><td>NULL</td><td>NULL</td><td>NULL</td><td>NULL</td></tr>",
                            "<tr><td>38</td><td>NULL</td><td>NULL</td><td>NULL</td><td>NULL</td></tr>",
                            "<tr><td>39</td><td>NULL</td><td>NULL</td><td>NULL</td><td>NULL</td></tr>",
                            "<tr><td>40</td><td>NULL</td><td>NULL</td><td>NULL</td><td>NULL</td></tr>",
                            "<tr><td>41</td><td>NULL</td><td>NULL</td><td>NULL</td><td>NULL</td></tr>",
                            "<tr><td>42</td><td>NULL</td><td>NULL</td><td>NULL</td><td>NULL</td></tr>",
                            "<tr><td>43</td><td>NULL</td><td>NULL</td><td>NULL</td><td>NULL</td></tr>",
                            "<tr><td>44</td><td>NULL</td><td>NULL</td><td>NULL</td><td>NULL</td></tr>",
                            "<tr><td>45</td><td>NULL</td><td>NULL</td><td>NULL</td><td>NULL</td></tr>",
                            "<tr><td>46</td><td>NULL</td><td>NULL</td><td>NULL</td><td>NULL</td></tr>",
                            "<tr><td>47</td><td>NULL</td><td>NULL</td><td>NULL</td><td>NULL</td></tr>",
                            "<tr><td>48</td><td>NULL</td><td>NULL</td><td>NULL</td><td>NULL</td></tr>",
                            "<tr><td>49</td><td>NULL</td><td>NULL</td><td>NULL</td><td>NULL</td></tr>",
                            "<tr><td>50</td><td>NULL</td><td>NULL</td><td>NULL</td><td>NULL</td></tr>",
                            "<tr><td>51</td><td>NULL</td><td>NULL</td><td>NULL</td><td>NULL</td></tr>",
                            "<tr><td>52</td><td>NULL</td><td>NULL</td><td>NULL</td><td>NULL</td></tr>",
                            "<tr><td>53</td><td>NULL</td><td>NULL</td><td>NULL</td><td>NULL</td></tr>",
                            "<tr><td>54</td><td>NULL</td><td>NULL</td><td>NULL</td><td>NULL</td></tr>",
                            "<tr><td>55</td><td>NULL</td><td>NULL</td><td>NULL</td><td>NULL</td></tr>",
                            "<tr><td>56</td><td>NULL</td><td>NULL</td><td>NULL</td><td>NULL</td></tr>",
                            "<tr><td>57</td><td>NULL</td><td>NULL</td><td>NULL</td><td>NULL</td></tr>",
                            "<tr><td>58</td><td>NULL</td><td>NULL</td><td>NULL</td><td>NULL</td></tr>",
                            "<tr><td>59</td><td>NULL</td><td>NULL</td><td>NULL</td><td>NULL</td></tr>",
                            "<tr><td>60</td><td>NULL</td><td>NULL</td><td>NULL</td><td>NULL</td></tr>",
                            "<tr><td>61</td><td>NULL</td><td>NULL</td><td>NULL</td><td>NULL</td></tr>",
                            "<tr><td>62</td><td>NULL</td><td>NULL</td><td>NULL</td><td>NULL</td></tr>",
                            "<tr><td>63</td><td>NULL</td><td>NULL</td><td>NULL</td><td>NULL</td></tr>",
                            "<tr><td>64</td><td>NULL</td><td>NULL</td><td>NULL</td><td>NULL</td></tr>",
                            "<tr><td>65</td><td>NULL</td><td>NULL</td><td>NULL</td><td>NULL</td></tr>",
                            "<tr><td>66</td><td>NULL</td><td>NULL</td><td>NULL</td><td>NULL</td></tr>",
                            "<tr><td>67</td><td>NULL</td><td>NULL</td><td>NULL</td><td>NULL</td></tr>",
                            "<tr><td>68</td><td>NULL</td><td>NULL</td><td>NULL</td><td>NULL</td></tr>",
                            "<tr><td>69</td><td>NULL</td><td>NULL</td><td>NULL</td><td>NULL</td></tr>",
                            "<tr><td>70</td><td>NULL</td><td>NULL</td><td>NULL</td><td>NULL</td></tr>",
                            "<tr><td>71</td><td>NULL</td><td>NULL</td><td>NULL</td><td>NULL</td></tr>",
                            "<tr><td>72</td><td>NULL</td><td>NULL</td><td>NULL</td><td>NULL</td></tr>",
                            "<tr><td>73</td><td>NULL</td><td>NULL</td><td>NULL</td><td>NULL</td></tr>",
                            "<tr><td>74</td><td>NULL</td><td>NULL</td><td>NULL</td><td>NULL</td></tr>",
                            "<tr><td>75</td><td>NULL</td><td>NULL</td><td>NULL</td><td>NULL</td></tr>",
                            "<tr><td>76</td><td>NULL</td><td>NULL</td><td>NULL</td><td>NULL</td></tr>",
                            "<tr><td>77</td><td>NULL</td><td>NULL</td><td>NULL</td><td>NULL</td></tr>",
                            "<tr><td>78</td><td>NULL</td><td>NULL</td><td>NULL</td><td>NULL</td></tr>",
                            "<tr><td>79</td><td>NULL</td><td>NULL</td><td>NULL</td><td>NULL</td></tr>",
                            "<tr><td>80</td><td>NULL</td><td>NULL</td><td>NULL</td><td>NULL</td></tr>",
                            "<tr><td>81</td><td>NULL</td><td>NULL</td><td>NULL</td><td>NULL</td></tr>",
                            "<tr><td>82</td><td>NULL</td><td>NULL</td><td>NULL</td><td>NULL</td></tr>",
                            "<tr><td>83</td><td>NULL</td><td>NULL</td><td>NULL</td><td>NULL</td></tr>",
                            "<tr><td>84</td><td>NULL</td><td>NULL</td><td>NULL</td><td>NULL</td></tr>",
                            "<tr><td>85</td><td>NULL</td><td>NULL</td><td>NULL</td><td>NULL</td></tr>",
                            "<tr><td>86</td><td>NULL</td><td>NULL</td><td>NULL</td><td>NULL</td></tr>",
                            "<tr><td>87</td><td>NULL</td><td>NULL</td><td>NULL</td><td>NULL</td></tr>",
                            "<tr><td>88</td><td>NULL</td><td>NULL</td><td>NULL</td><td>NULL</td></tr>",
                            "<tr><td>89</td><td>NULL</td><td>NULL</td><td>NULL</td><td>NULL</td></tr>",
                            "<tr><td>90</td><td>NULL</td><td>NULL</td><td>NULL</td><td>NULL</td></tr>",
                            "<tr><td>91</td><td>NULL</td><td>NULL</td><td>NULL</td><td>NULL</td></tr>",
                            "<tr><td>92</td><td>NULL</td><td>NULL</td><td>NULL</td><td>NULL</td></tr>",
                            "<tr><td>93</td><td>NULL</td><td>NULL</td><td>NULL</td><td>NULL</td></tr>",
                            "<tr><td>94</td><td>NULL</td><td>NULL</td><td>NULL</td><td>NULL</td></tr>",
                            "<tr><td>95</td><td>NULL</td><td>NULL</td><td>NULL</td><td>NULL</td></tr>",
                            "<tr><td>96</td><td>NULL</td><td>NULL</td><td>NULL</td><td>NULL</td></tr>",
                            "<tr><td>97</td><td>NULL</td><td>NULL</td><td>NULL</td><td>NULL</td></tr>",
                            "<tr><td>98</td><td>NULL</td><td>NULL</td><td>NULL</td><td>NULL</td></tr>",
                            "<tr><td>99</td><td>NULL</td><td>NULL</td><td>NULL</td><td>NULL</td></tr>",
                            "<tr><td>100</td><td>NULL</td><td>NULL</td><td>NULL</td><td>NULL</td></tr>",
                            "<tr><td>101</td><td>NULL</td><td>NULL</td><td>NULL</td><td>NULL</td></tr>",
                            "<tr><td>102</td><td>NULL</td><td>NULL</td><td>NULL</td><td>NULL</td></tr>",
                            "<tr><td>103</td><td>NULL</td><td>NULL</td><td>NULL</td><td>NULL</td></tr>",
                            "<tr><td>104</td><td>NULL</td><td>NULL</td><td>NULL</td><td>NULL</td></tr>",
                            "<tr><td>105</td><td>NULL</td><td>NULL</td><td>NULL</td><td>NULL</td></tr>",
                            "<tr><td>106</td><td>NULL</td><td>NULL</td><td>NULL</td><td>NULL</td></tr>",
                            "<tr><td>107</td><td>NULL</td><td>NULL</td><td>NULL</td><td>NULL</td></tr>",
                            "<tr><td>108</td><td>NULL</td><td>NULL</td><td>NULL</td><td>NULL</td></tr>",
                            "<tr><td>109</td><td>NULL</td><td>NULL</td><td>NULL</td><td>NULL</td></tr>",
                            "<tr><td>110</td><td>NULL</td><td>NULL</td><td>NULL</td><td>NULL</td></tr>",
                            "<tr><td>111</td><td>NULL</td><td>NULL</td><td>NULL</td><td>NULL</td></tr>",
                            "<tr><td>112</td><td>NULL</td><td>NULL</td><td>NULL</td><td>NULL</td></tr>",
                            "<tr><td>113</td><td>NULL</td><td>NULL</td><td>NULL</td><td>NULL</td></tr>",
                            "<tr><td>114</td><td>NULL</td><td>NULL</td><td>NULL</td><td>NULL</td></tr>",
                            "<tr><td>115</td><td>NULL</td><td>NULL</td><td>NULL</td><td>NULL</td></tr>",
                            "<tr><td>116</td><td>NULL</td><td>NULL</td><td>NULL</td><td>NULL</td></tr>",
                            "<tr><td>117</td><td>NULL</td><td>NULL</td><td>NULL</td><td>NULL</td></tr>",
                            "<tr><td>118</td><td>NULL</td><td>NULL</td><td>NULL</td><td>NULL</td></tr>",
                            "<tr><td>119</td><td>NULL</td><td>NULL</td><td>NULL</td><td>NULL</td></tr>",
                            "<tr><td>120</td><td>NULL</td><td>NULL</td><td>NULL</td><td>NULL</td></tr>",
                            "<tr><td>121</td><td>NULL</td><td>NULL</td><td>NULL</td><td>NULL</td></tr>",
                            "<tr><td>122</td><td>NULL</td><td>NULL</td><td>NULL</td><td>NULL</td></tr>",
                            "<tr><td>123</td><td>NULL</td><td>NULL</td><td>NULL</td><td>NULL</td></tr>",
                            "<tr><td>124</td><td>NULL</td><td>NULL</td><td>NULL</td><td>NULL</td></tr>",
                            "<tr><td>125</td><td>NULL</td><td>NULL</td><td>NULL</td><td>NULL</td></tr>",
                            "<tr><td>126</td><td>NULL</td><td>NULL</td><td>NULL</td><td>NULL</td></tr>",
                            "<tr><td>127</td><td>NULL</td><td>NULL</td><td>NULL</td><td>NULL</td></tr>",
                            "<tr><td>128</td><td>NULL</td><td>NULL</td><td>NULL</td><td>NULL</td></tr>",
                            "<tr><td>129</td><td>NULL</td><td>NULL</td><td>NULL</td><td>NULL</td></tr>",
                            "<tr><td>130</td><td>NULL</td><td>NULL</td><td>NULL</td><td>NULL</td></tr>",
                            "<tr><td>131</td><td>NULL</td><td>NULL</td><td>NULL</td><td>NULL</td></tr>",
                            "<tr><td>132</td><td>NULL</td><td>NULL</td><td>NULL</td><td>NULL</td></tr>",
                            "<tr><td>133</td><td>NULL</td><td>NULL</td><td>NULL</td><td>NULL</td></tr>",
                            "<tr><td>134</td><td>NULL</td><td>NULL</td><td>NULL</td><td>NULL</td></tr>",
                            "<tr><td>135</td><td>NULL</td><td>NULL</td><td>NULL</td><td>NULL</td></tr>",
                            "<tr><td>136</td><td>NULL</td><td>NULL</td><td>NULL</td><td>NULL</td></tr>",
                            "<tr><td>137</td><td>NULL</td><td>NULL</td><td>NULL</td><td>NULL</td></tr>",
                            "<tr><td>138</td><td>NULL</td><td>NULL</td><td>NULL</td><td>NULL</td></tr>",
                            "<tr><td>139</td><td>NULL</td><td>NULL</td><td>NULL</td><td>NULL</td></tr>",
                            "<tr><td>140</td><td>NULL</td><td>NULL</td><td>NULL</td><td>NULL</td></tr>",
                            "<tr><td>141</td><td>NULL</td><td>NULL</td><td>NULL</td><td>NULL</td></tr>",
                            "<tr><td>142</td><td>NULL</td><td>NULL</td><td>NULL</td><td>NULL</td></tr>",
                            "<tr><td>143</td><td>NULL</td><td>NULL</td><td>NULL</td><td>NULL</td></tr>",
                            "<tr><td>144</td><td>NULL</td><td>NULL</td><td>NULL</td><td>NULL</td></tr>",
                            "<tr><td>145</td><td>NULL</td><td>NULL</td><td>NULL</td><td>NULL</td></tr>",
                            "<tr><td>146</td><td>NULL</td><td>NULL</td><td>NULL</td><td>NULL</td></tr>",
                            "<tr><td>147</td><td>NULL</td><td>NULL</td><td>NULL</td><td>NULL</td></tr>",
                            "<tr><td>148</td><td>NULL</td><td>NULL</td><td>NULL</td><td>NULL</td></tr>",
                            "<tr><td>149</td><td>NULL</td><td>NULL</td><td>NULL</td><td>NULL</td></tr>",
                            "<tr><td>150</td><td>NULL</td><td>NULL</td><td>NULL</td><td>NULL</td></tr>",
                            "<tr><td>151</td><td>NULL</td><td>NULL</td><td>NULL</td><td>NULL</td></tr>",
                            "<tr><td>152</td><td>NULL</td><td>NULL</td><td>NULL</td><td>NULL</td></tr>",
                            "<tr><td>153</td><td>NULL</td><td>NULL</td><td>NULL</td><td>NULL</td></tr>",
                            "<tr><td>154</td><td>NULL</td><td>NULL</td><td>NULL</td><td>NULL</td></tr>",
                            "<tr><td>155</td><td>NULL</td><td>NULL</td><td>NULL</td><td>NULL</td></tr>",
                            "<tr><td>156</td><td>NULL</td><td>NULL</td><td>NULL</td><td>NULL</td></tr>",
                            "<tr><td>157</td><td>NULL</td><td>NULL</td><td>NULL</td><td>NULL</td></tr>",
                            "<tr><td>158</td><td>NULL</td><td>NULL</td><td>NULL</td><td>NULL</td></tr>",
                            "<tr><td>159</td><td>NULL</td><td>NULL</td><td>NULL</td><td>NULL</td></tr>",
                            "<tr><td>160</td><td>NULL</td><td>NULL</td><td>NULL</td><td>NULL</td></tr>",
                            "<tr><td>161</td><td>NULL</td><td>NULL</td><td>NULL</td><td>NULL</td></tr>",
                            "<tr><td>162</td><td>NULL</td><td>NULL</td><td>NULL</td><td>NULL</td></tr>",
                            "<tr><td>163</td><td>NULL</td><td>NULL</td><td>NULL</td><td>NULL</td></tr>",
                            "<tr><td>164</td><td>NULL</td><td>NULL</td><td>NULL</td><td>NULL</td></tr>",
                            "<tr><td>165</td><td>NULL</td><td>NULL</td><td>NULL</td><td>NULL</td></tr>",
                            "<tr><td>166</td><td>NULL</td><td>NULL</td><td>NULL</td><td>NULL</td></tr>",
                            "<tr><td>167</td><td>NULL</td><td>NULL</td><td>NULL</td><td>NULL</td></tr>",
                            "<tr><td>168</td><td>NULL</td><td>NULL</td><td>NULL</td><td>NULL</td></tr>",
                            "<tr><td>169</td><td>NULL</td><td>NULL</td><td>NULL</td><td>NULL</td></tr>",
                            "<tr><td>170</td><td>NULL</td><td>NULL</td><td>NULL</td><td>NULL</td></tr>",
                            "<tr><td>171</td><td>NULL</td><td>NULL</td><td>NULL</td><td>NULL</td></tr>",
                            "<tr><td>172</td><td>NULL</td><td>NULL</td><td>NULL</td><td>NULL</td></tr>",
                            "<tr><td>173</td><td>NULL</td><td>NULL</td><td>NULL</td><td>NULL</td></tr>",
                            "<tr><td>174</td><td>NULL</td><td>NULL</td><td>NULL</td><td>NULL</td></tr>",
                            "<tr><td>175</td><td>NULL</td><td>NULL</td><td>NULL</td><td>NULL</td></tr>",
                            "<tr><td>176</td><td>NULL</td><td>NULL</td><td>NULL</td><td>NULL</td></tr>",
                            "<tr><td>177</td><td>NULL</td><td>NULL</td><td>NULL</td><td>NULL</td></tr>",
                            "<tr><td>178</td><td>NULL</td><td>NULL</td><td>NULL</td><td>NULL</td></tr>",
                            "<tr><td>179</td><td>NULL</td><td>NULL</td><td>NULL</td><td>NULL</td></tr>",
                            "<tr><td>180</td><td>NULL</td><td>NULL</td><td>NULL</td><td>NULL</td></tr>",
                            "<tr><td>181</td><td>NULL</td><td>NULL</td><td>NULL</td><td>NULL</td></tr>",
                            "<tr><td>182</td><td>NULL</td><td>NULL</td><td>NULL</td><td>NULL</td></tr>",
                            "<tr><td>183</td><td>NULL</td><td>NULL</td><td>NULL</td><td>NULL</td></tr>",
                            "<tr><td>184</td><td>NULL</td><td>NULL</td><td>NULL</td><td>NULL</td></tr>",
                            "<tr><td>185</td><td>NULL</td><td>NULL</td><td>NULL</td><td>NULL</td></tr>",
                            "<tr><td>186</td><td>NULL</td><td>NULL</td><td>NULL</td><td>NULL</td></tr>",
                            "<tr><td>187</td><td>NULL</td><td>NULL</td><td>NULL</td><td>NULL</td></tr>",
                            "<tr><td>188</td><td>NULL</td><td>NULL</td><td>NULL</td><td>NULL</td></tr>",
                            "<tr><td>189</td><td>NULL</td><td>NULL</td><td>NULL</td><td>NULL</td></tr>",
                            "<tr><td>190</td><td>NULL</td><td>NULL</td><td>NULL</td><td>NULL</td></tr>",
                            "<tr><td>191</td><td>NULL</td><td>NULL</td><td>NULL</td><td>NULL</td></tr>",
                            "<tr><td>192</td><td>NULL</td><td>NULL</td><td>NULL</td><td>NULL</td></tr>",
                            "<tr><td>193</td><td>NULL</td><td>NULL</td><td>NULL</td><td>NULL</td></tr>",
                            "<tr><td>194</td><td>NULL</td><td>NULL</td><td>NULL</td><td>NULL</td></tr>",
                            "<tr><td>195</td><td>NULL</td><td>NULL</td><td>NULL</td><td>NULL</td></tr>",
                            "<tr><td>196</td><td>NULL</td><td>NULL</td><td>NULL</td><td>NULL</td></tr>",
                            "<tr><td>197</td><td>NULL</td><td>NULL</td><td>NULL</td><td>NULL</td></tr>",
                            "<tr><td>198</td><td>NULL</td><td>NULL</td><td>NULL</td><td>NULL</td></tr>",
                            "<tr><td>199</td><td>NULL</td><td>NULL</td><td>NULL</td><td>NULL</td></tr>",
                            "<tr><td>200</td><td>NULL</td><td>NULL</td><td>NULL</td><td>NULL</td></tr>",
                            "<tr><td>201</td><td>NULL</td><td>NULL</td><td>NULL</td><td>NULL</td></tr>",
                            "<tr><td>401</td><td>NULL</td><td>NULL</td><td>NULL</td><td>NULL</td></tr>",
                            "<tr><td>402</td><td>NULL</td><td>NULL</td><td>NULL</td><td>NULL</td></tr>",
                            "<tr><td>403</td><td>NULL</td><td>NULL</td><td>NULL</td><td>NULL</td></tr>",
                            "<tr><td>404</td><td>NULL</td><td>NULL</td><td>NULL</td><td>NULL</td></tr>",
                            "<tr><td>405</td><td>NULL</td><td>NULL</td><td>NULL</td><td>NULL</td></tr>",
                            "<tr><td>406</td><td>NULL</td><td>NULL</td><td>NULL</td><td>NULL</td></tr>",
                            "<tr><td>407</td><td>NULL</td><td>NULL</td><td>NULL</td><td>NULL</td></tr>",
                            "<tr><td>408</td><td>NULL</td><td>NULL</td><td>NULL</td><td>NULL</td></tr>",
                            "<tr><td>409</td><td>NULL</td><td>NULL</td><td>NULL</td><td>NULL</td></tr>",
                            "<tr><td>410</td><td>NULL</td><td>NULL</td><td>NULL</td><td>NULL</td></tr>",
                            "<tr><td>411</td><td>NULL</td><td>NULL</td><td>NULL</td><td>NULL</td></tr>",
                            "<tr><td>412</td><td>NULL</td><td>NULL</td><td>NULL</td><td>NULL</td></tr>",
                            "<tr><td>413</td><td>NULL</td><td>NULL</td><td>NULL</td><td>NULL</td></tr>",
                            "<tr><td>414</td><td>NULL</td><td>NULL</td><td>NULL</td><td>NULL</td></tr>",
                            "<tr><td>415</td><td>NULL</td><td>NULL</td><td>NULL</td><td>NULL</td></tr>",
                            "<tr><td>416</td><td>NULL</td><td>NULL</td><td>NULL</td><td>NULL</td></tr>",
                            "<tr><td>417</td><td>NULL</td><td>NULL</td><td>NULL</td><td>NULL</td></tr>",
                            "<tr><td>418</td><td>NULL</td><td>NULL</td><td>NULL</td><td>NULL</td></tr>",
                            "<tr><td>419</td><td>NULL</td><td>NULL</td><td>NULL</td><td>NULL</td></tr>",
                            "<tr><td>420</td><td>NULL</td><td>NULL</td><td>NULL</td><td>NULL</td></tr>",
                            "<tr><td>421</td><td>NULL</td><td>NULL</td><td>NULL</td><td>NULL</td></tr>",
                            "<tr><td>422</td><td>NULL</td><td>NULL</td><td>NULL</td><td>NULL</td></tr>",
                            "<tr><td>423</td><td>NULL</td><td>NULL</td><td>NULL</td><td>NULL</td></tr>",
                            "<tr><td>424</td><td>NULL</td><td>NULL</td><td>NULL</td><td>NULL</td></tr>",
                            "<tr><td>425</td><td>NULL</td><td>NULL</td><td>NULL</td><td>NULL</td></tr>",
                            "<tr><td>426</td><td>NULL</td><td>NULL</td><td>NULL</td><td>NULL</td></tr>",
                            "<tr><td>427</td><td>NULL</td><td>NULL</td><td>NULL</td><td>NULL</td></tr>",
                            "<tr><td>428</td><td>NULL</td><td>NULL</td><td>NULL</td><td>NULL</td></tr>",
                            "<tr><td>429</td><td>NULL</td><td>NULL</td><td>NULL</td><td>NULL</td></tr>",
                            "<tr><td>430</td><td>NULL</td><td>NULL</td><td>NULL</td><td>NULL</td></tr>",
                            "<tr><td>431</td><td>NULL</td><td>NULL</td><td>NULL</td><td>NULL</td></tr>",
                            "<tr><td>432</td><td>NULL</td><td>NULL</td><td>NULL</td><td>NULL</td></tr>",
                            "<tr><td>433</td><td>NULL</td><td>NULL</td><td>NULL</td><td>NULL</td></tr>",
                            "<tr><td>434</td><td>NULL</td><td>NULL</td><td>NULL</td><td>NULL</td></tr>",
                            "<tr><td>435</td><td>NULL</td><td>NULL</td><td>NULL</td><td>NULL</td></tr>",
                            "<tr><td>436</td><td>NULL</td><td>NULL</td><td>NULL</td><td>NULL</td></tr>",
                            "<tr><td>437</td><td>NULL</td><td>NULL</td><td>NULL</td><td>NULL</td></tr>",
                            "<tr><td>438</td><td>NULL</td><td>NULL</td><td>NULL</td><td>NULL</td></tr>",
                            "<tr><td>439</td><td>NULL</td><td>NULL</td><td>NULL</td><td>NULL</td></tr>",
                            "<tr><td>440</td><td>NULL</td><td>NULL</td><td>NULL</td><td>NULL</td></tr>",
                            "<tr><td>441</td><td>NULL</td><td>NULL</td><td>NULL</td><td>NULL</td></tr>",
                            "<tr><td>442</td><td>NULL</td><td>NULL</td><td>NULL</td><td>NULL</td></tr>",
                            "<tr><td>443</td><td>NULL</td><td>NULL</td><td>NULL</td><td>NULL</td></tr>",
                            "<tr><td>444</td><td>NULL</td><td>NULL</td><td>NULL</td><td>NULL</td></tr>",
                            "<tr><td>445</td><td>NULL</td><td>NULL</td><td>NULL</td><td>NULL</td></tr>",
                            "<tr><td>446</td><td>NULL</td><td>NULL</td><td>NULL</td><td>NULL</td></tr>",
                            "<tr><td>447</td><td>NULL</td><td>NULL</td><td>NULL</td><td>NULL</td></tr>",
                            "<tr><td>448</td><td>NULL</td><td>NULL</td><td>NULL</td><td>NULL</td></tr>",
                            "<tr><td>449</td><td>NULL</td><td>NULL</td><td>NULL</td><td>NULL</td></tr>",
                            "<tr><td>450</td><td>NULL</td><td>NULL</td><td>NULL</td><td>NULL</td></tr>",
                            "<tr><td>451</td><td>NULL</td><td>NULL</td><td>NULL</td><td>NULL</td></tr>",
                            "<tr><td>452</td><td>NULL</td><td>NULL</td><td>NULL</td><td>NULL</td></tr>",
                            "<tr><td>453</td><td>NULL</td><td>NULL</td><td>NULL</td><td>NULL</td></tr>",
                            "<tr><td>454</td><td>NULL</td><td>NULL</td><td>NULL</td><td>NULL</td></tr>",
                            "<tr><td>455</td><td>NULL</td><td>NULL</td><td>NULL</td><td>NULL</td></tr>",
                            "<tr><td>456</td><td>NULL</td><td>NULL</td><td>NULL</td><td>NULL</td></tr>",
                            "<tr><td>457</td><td>NULL</td><td>NULL</td><td>NULL</td><td>NULL</td></tr>",
                            "<tr><td>458</td><td>NULL</td><td>NULL</td><td>NULL</td><td>NULL</td></tr>",
                            "<tr><td>459</td><td>NULL</td><td>NULL</td><td>NULL</td><td>NULL</td></tr>",
                            "<tr><td>460</td><td>NULL</td><td>NULL</td><td>NULL</td><td>NULL</td></tr>",
                            "<tr><td>461</td><td>NULL</td><td>NULL</td><td>NULL</td><td>NULL</td></tr>",
                            "<tr><td>462</td><td>NULL</td><td>NULL</td><td>NULL</td><td>NULL</td></tr>",
                            "<tr><td>463</td><td>NULL</td><td>NULL</td><td>NULL</td><td>NULL</td></tr>",
                            "<tr><td>464</td><td>NULL</td><td>NULL</td><td>NULL</td><td>NULL</td></tr>",
                            "<tr><td>465</td><td>NULL</td><td>NULL</td><td>NULL</td><td>NULL</td></tr>",
                            "<tr><td>466</td><td>NULL</td><td>NULL</td><td>NULL</td><td>NULL</td></tr>",
                            "<tr><td>467</td><td>NULL</td><td>NULL</td><td>NULL</td><td>NULL</td></tr>",
                            "<tr><td>468</td><td>NULL</td><td>NULL</td><td>NULL</td><td>NULL</td></tr>",
                            "<tr><td>469</td><td>NULL</td><td>NULL</td><td>NULL</td><td>NULL</td></tr>",
                            "<tr><td>470</td><td>NULL</td><td>NULL</td><td>NULL</td><td>NULL</td></tr>",
                            "<tr><td>471</td><td>NULL</td><td>NULL</td><td>NULL</td><td>NULL</td></tr>",
                            "<tr><td>472</td><td>NULL</td><td>NULL</td><td>NULL</td><td>NULL</td></tr>",
                            "<tr><td>473</td><td>NULL</td><td>NULL</td><td>NULL</td><td>NULL</td></tr>",
                            "<tr><td>474</td><td>NULL</td><td>NULL</td><td>NULL</td><td>NULL</td></tr>",
                            "<tr><td>475</td><td>NULL</td><td>NULL</td><td>NULL</td><td>NULL</td></tr>",
                            "<tr><td>476</td><td>NULL</td><td>NULL</td><td>NULL</td><td>NULL</td></tr>",
                            "<tr><td>477</td><td>NULL</td><td>NULL</td><td>NULL</td><td>NULL</td></tr>",
                            "<tr><td>478</td><td>NULL</td><td>NULL</td><td>NULL</td><td>NULL</td></tr>",
                            "<tr><td>479</td><td>NULL</td><td>NULL</td><td>NULL</td><td>NULL</td></tr>",
                            "<tr><td>480</td><td>NULL</td><td>NULL</td><td>NULL</td><td>NULL</td></tr>",
                            "<tr><td>481</td><td>NULL</td><td>NULL</td><td>NULL</td><td>NULL</td></tr>",
                            "<tr><td>482</td><td>NULL</td><td>NULL</td><td>NULL</td><td>NULL</td></tr>",
                            "<tr><td>483</td><td>NULL</td><td>NULL</td><td>NULL</td><td>NULL</td></tr>",
                            "<tr><td>484</td><td>NULL</td><td>NULL</td><td>NULL</td><td>NULL</td></tr>",
                            "<tr><td>485</td><td>NULL</td><td>NULL</td><td>NULL</td><td>NULL</td></tr>",
                            "<tr><td>486</td><td>NULL</td><td>NULL</td><td>NULL</td><td>NULL</td></tr>",
                            "<tr><td>487</td><td>NULL</td><td>NULL</td><td>NULL</td><td>NULL</td></tr>",
                            "<tr><td>488</td><td>NULL</td><td>NULL</td><td>NULL</td><td>NULL</td></tr>",
                            "<tr><td>489</td><td>NULL</td><td>NULL</td><td>NULL</td><td>NULL</td></tr>",
                            "<tr><td>490</td><td>NULL</td><td>NULL</td><td>NULL</td><td>NULL</td></tr>",
                            "<tr><td>491</td><td>NULL</td><td>NULL</td><td>NULL</td><td>NULL</td></tr>",
                            "<tr><td>492</td><td>NULL</td><td>NULL</td><td>NULL</td><td>NULL</td></tr>",
                            "<tr><td>493</td><td>NULL</td><td>NULL</td><td>NULL</td><td>NULL</td></tr>",
                            "<tr><td>494</td><td>NULL</td><td>NULL</td><td>NULL</td><td>NULL</td></tr>",
                            "<tr><td>495</td><td>NULL</td><td>NULL</td><td>NULL</td><td>NULL</td></tr>",
                            "<tr><td>496</td><td>NULL</td><td>NULL</td><td>NULL</td><td>NULL</td></tr>",
                            "<tr><td>497</td><td>NULL</td><td>NULL</td><td>NULL</td><td>NULL</td></tr>",
                            "<tr><td>498</td><td>NULL</td><td>NULL</td><td>NULL</td><td>NULL</td></tr>",
                            "<tr><td>499</td><td>NULL</td><td>NULL</td><td>NULL</td><td>NULL</td></tr>",
                            "<tr><td>500</td><td>NULL</td><td>NULL</td><td>NULL</td><td>NULL</td></tr>",
                            "<tr><td>501</td><td>NULL</td><td>NULL</td><td>NULL</td><td>NULL</td></tr>",
                            "<tr><td>502</td><td>NULL</td><td>NULL</td><td>NULL</td><td>NULL</td></tr>",
                            "<tr><td>503</td><td>NULL</td><td>NULL</td><td>NULL</td><td>NULL</td></tr>",
                            "<tr><td>504</td><td>NULL</td><td>NULL</td><td>NULL</td><td>NULL</td></tr>",
                            "<tr><td>505</td><td>NULL</td><td>NULL</td><td>NULL</td><td>NULL</td></tr>",
                            "<tr><td>506</td><td>NULL</td><td>NULL</td><td>NULL</td><td>NULL</td></tr>",
                            "<tr><td>507</td><td>NULL</td><td>NULL</td><td>NULL</td><td>NULL</td></tr>",
                            "<tr><td>508</td><td>NULL</td><td>NULL</td><td>NULL</td><td>NULL</td></tr>",
                            "<tr><td>509</td><td>NULL</td><td>NULL</td><td>NULL</td><td>NULL</td></tr>",
                            "<tr><td>510</td><td>NULL</td><td>NULL</td><td>NULL</td><td>NULL</td></tr>",
                            "<tr><td>511</td><td>NULL</td><td>NULL</td><td>NULL</td><td>NULL</td></tr>",
                            "<tr><td>512</td><td>NULL</td><td>NULL</td><td>NULL</td><td>NULL</td></tr>",
                            "<tr><td>513</td><td>NULL</td><td>NULL</td><td>NULL</td><td>NULL</td></tr>",
                            "<tr><td>514</td><td>NULL</td><td>NULL</td><td>NULL</td><td>NULL</td></tr>",
                            "<tr><td>515</td><td>NULL</td><td>NULL</td><td>NULL</td><td>NULL</td></tr>",
                            "<tr><td>516</td><td>NULL</td><td>NULL</td><td>NULL</td><td>NULL</td></tr>",
                            "<tr><td>517</td><td>NULL</td><td>NULL</td><td>NULL</td><td>NULL</td></tr>",
                            "<tr><td>518</td><td>NULL</td><td>NULL</td><td>NULL</td><td>NULL</td></tr>",
                            "<tr><td>519</td><td>NULL</td><td>NULL</td><td>NULL</td><td>NULL</td></tr>",
                            "<tr><td>520</td><td>NULL</td><td>NULL</td><td>NULL</td><td>NULL</td></tr>",
                            "<tr><td>521</td><td>NULL</td><td>NULL</td><td>NULL</td><td>NULL</td></tr>",
                            "<tr><td>522</td><td>NULL</td><td>NULL</td><td>NULL</td><td>NULL</td></tr>",
                            "<tr><td>523</td><td>NULL</td><td>NULL</td><td>NULL</td><td>NULL</td></tr>",
                            "<tr><td>524</td><td>NULL</td><td>NULL</td><td>NULL</td><td>NULL</td></tr>",
                            "<tr><td>525</td><td>NULL</td><td>NULL</td><td>NULL</td><td>NULL</td></tr>",
                            "<tr><td>526</td><td>NULL</td><td>NULL</td><td>NULL</td><td>NULL</td></tr>",
                            "<tr><td>527</td><td>NULL</td><td>NULL</td><td>NULL</td><td>NULL</td></tr>",
                            "<tr><td>528</td><td>NULL</td><td>NULL</td><td>NULL</td><td>NULL</td></tr>",
                            "<tr><td>529</td><td>NULL</td><td>NULL</td><td>NULL</td><td>NULL</td></tr>",
                            "<tr><td>530</td><td>NULL</td><td>NULL</td><td>NULL</td><td>NULL</td></tr>",
                            "<tr><td>531</td><td>NULL</td><td>NULL</td><td>NULL</td><td>NULL</td></tr>",
                            "<tr><td>532</td><td>NULL</td><td>NULL</td><td>NULL</td><td>NULL</td></tr>",
                            "<tr><td>533</td><td>NULL</td><td>NULL</td><td>NULL</td><td>NULL</td></tr>",
                            "<tr><td>534</td><td>NULL</td><td>NULL</td><td>NULL</td><td>NULL</td></tr>",
                            "<tr><td>535</td><td>NULL</td><td>NULL</td><td>NULL</td><td>NULL</td></tr>",
                            "<tr><td>536</td><td>NULL</td><td>NULL</td><td>NULL</td><td>NULL</td></tr>",
                            "<tr><td>537</td><td>NULL</td><td>NULL</td><td>NULL</td><td>NULL</td></tr>",
                            "<tr><td>538</td><td>NULL</td><td>NULL</td><td>NULL</td><td>NULL</td></tr>",
                            "<tr><td>539</td><td>NULL</td><td>NULL</td><td>NULL</td><td>NULL</td></tr>",
                            "<tr><td>540</td><td>NULL</td><td>NULL</td><td>NULL</td><td>NULL</td></tr>",
                            "<tr><td>541</td><td>NULL</td><td>NULL</td><td>NULL</td><td>NULL</td></tr>",
                            "<tr><td>542</td><td>NULL</td><td>NULL</td><td>NULL</td><td>NULL</td></tr>",
                            "<tr><td>543</td><td>NULL</td><td>NULL</td><td>NULL</td><td>NULL</td></tr>",
                            "<tr><td>544</td><td>NULL</td><td>NULL</td><td>NULL</td><td>NULL</td></tr>",
                            "<tr><td>545</td><td>NULL</td><td>NULL</td><td>NULL</td><td>NULL</td></tr>",
                            "<tr><td>546</td><td>NULL</td><td>NULL</td><td>NULL</td><td>NULL</td></tr>",
                            "<tr><td>547</td><td>NULL</td><td>NULL</td><td>NULL</td><td>NULL</td></tr>",
                            "<tr><td>548</td><td>NULL</td><td>NULL</td><td>NULL</td><td>NULL</td></tr>",
                            "<tr><td>549</td><td>NULL</td><td>NULL</td><td>NULL</td><td>NULL</td></tr>",
                            "<tr><td>550</td><td>NULL</td><td>NULL</td><td>NULL</td><td>NULL</td></tr>",
                            "<tr><td>551</td><td>NULL</td><td>NULL</td><td>NULL</td><td>NULL</td></tr>",
                            "<tr><td>552</td><td>NULL</td><td>NULL</td><td>NULL</td><td>NULL</td></tr>",
                            "<tr><td>553</td><td>NULL</td><td>NULL</td><td>NULL</td><td>NULL</td></tr>",
                            "<tr><td>554</td><td>NULL</td><td>NULL</td><td>NULL</td><td>NULL</td></tr>",
                            "<tr><td>555</td><td>NULL</td><td>NULL</td><td>NULL</td><td>NULL</td></tr>",
                            "<tr><td>556</td><td>NULL</td><td>NULL</td><td>NULL</td><td>NULL</td></tr>",
                            "<tr><td>557</td><td>NULL</td><td>NULL</td><td>NULL</td><td>NULL</td></tr>",
                            "<tr><td>558</td><td>NULL</td><td>NULL</td><td>NULL</td><td>NULL</td></tr>",
                            "<tr><td>559</td><td>NULL</td><td>NULL</td><td>NULL</td><td>NULL</td></tr>",
                            "<tr><td>560</td><td>NULL</td><td>NULL</td><td>NULL</td><td>NULL</td></tr>",
                            "<tr><td>561</td><td>NULL</td><td>NULL</td><td>NULL</td><td>NULL</td></tr>",
                            "<tr><td>562</td><td>NULL</td><td>NULL</td><td>NULL</td><td>NULL</td></tr>",
                            "<tr><td>563</td><td>NULL</td><td>NULL</td><td>NULL</td><td>NULL</td></tr>",
                            "<tr><td>564</td><td>NULL</td><td>NULL</td><td>NULL</td><td>NULL</td></tr>",
                            "<tr><td>565</td><td>NULL</td><td>NULL</td><td>NULL</td><td>NULL</td></tr>",
                            "<tr><td>566</td><td>NULL</td><td>NULL</td><td>NULL</td><td>NULL</td></tr>",
                            "<tr><td>567</td><td>NULL</td><td>NULL</td><td>NULL</td><td>NULL</td></tr>",
                            "<tr><td>568</td><td>NULL</td><td>NULL</td><td>NULL</td><td>NULL</td></tr>",
                            "<tr><td>569</td><td>NULL</td><td>NULL</td><td>NULL</td><td>NULL</td></tr>",
                            "<tr><td>570</td><td>NULL</td><td>NULL</td><td>NULL</td><td>NULL</td></tr>",
                            "<tr><td>571</td><td>NULL</td><td>NULL</td><td>NULL</td><td>NULL</td></tr>",
                            "<tr><td>572</td><td>NULL</td><td>NULL</td><td>NULL</td><td>NULL</td></tr>",
                            "<tr><td>573</td><td>NULL</td><td>NULL</td><td>NULL</td><td>NULL</td></tr>",
                            "<tr><td>574</td><td>NULL</td><td>NULL</td><td>NULL</td><td>NULL</td></tr>",
                            "<tr><td>575</td><td>NULL</td><td>NULL</td><td>NULL</td><td>NULL</td></tr>",
                            "<tr><td>576</td><td>NULL</td><td>NULL</td><td>NULL</td><td>NULL</td></tr>",
                            "<tr><td>577</td><td>NULL</td><td>NULL</td><td>NULL</td><td>NULL</td></tr>",
                            "<tr><td>578</td><td>NULL</td><td>NULL</td><td>NULL</td><td>NULL</td></tr>",
                            "<tr><td>579</td><td>NULL</td><td>NULL</td><td>NULL</td><td>NULL</td></tr>",
                            "<tr><td>580</td><td>NULL</td><td>NULL</td><td>NULL</td><td>NULL</td></tr>",
                            "<tr><td>581</td><td>NULL</td><td>NULL</td><td>NULL</td><td>NULL</td></tr>",
                            "<tr><td>582</td><td>NULL</td><td>NULL</td><td>NULL</td><td>NULL</td></tr>",
                            "<tr><td>583</td><td>NULL</td><td>NULL</td><td>NULL</td><td>NULL</td></tr>",
                            "<tr><td>584</td><td>NULL</td><td>NULL</td><td>NULL</td><td>NULL</td></tr>",
                            "<tr><td>585</td><td>NULL</td><td>NULL</td><td>NULL</td><td>NULL</td></tr>",
                            "<tr><td>586</td><td>NULL</td><td>NULL</td><td>NULL</td><td>NULL</td></tr>",
                            "<tr><td>587</td><td>NULL</td><td>NULL</td><td>NULL</td><td>NULL</td></tr>",
                            "<tr><td>588</td><td>NULL</td><td>NULL</td><td>NULL</td><td>NULL</td></tr>",
                            "<tr><td>589</td><td>NULL</td><td>NULL</td><td>NULL</td><td>NULL</td></tr>",
                            "<tr><td>590</td><td>NULL</td><td>NULL</td><td>NULL</td><td>NULL</td></tr>",
                            "<tr><td>591</td><td>NULL</td><td>NULL</td><td>NULL</td><td>NULL</td></tr>",
                            "<tr><td>592</td><td>NULL</td><td>NULL</td><td>NULL</td><td>NULL</td></tr>",
                            "<tr><td>593</td><td>NULL</td><td>NULL</td><td>NULL</td><td>NULL</td></tr>",
                            "<tr><td>594</td><td>NULL</td><td>NULL</td><td>NULL</td><td>NULL</td></tr>",
                            "<tr><td>595</td><td>NULL</td><td>NULL</td><td>NULL</td><td>NULL</td></tr>",
                            "<tr><td>596</td><td>NULL</td><td>NULL</td><td>NULL</td><td>NULL</td></tr>",
                            "<tr><td>597</td><td>NULL</td><td>NULL</td><td>NULL</td><td>NULL</td></tr>",
                            "<tr><td>598</td><td>NULL</td><td>NULL</td><td>NULL</td><td>NULL</td></tr>",
                            "<tr><td>599</td><td>NULL</td><td>NULL</td><td>NULL</td><td>NULL</td></tr>",
                            "<tr><td>600</td><td>NULL</td><td>NULL</td><td>NULL</td><td>NULL</td></tr>",
                            "<tr><td>601</td><td>NULL</td><td>NULL</td><td>NULL</td><td>NULL</td></tr>",
                            "<tr><td>801</td><td>NULL</td><td>NULL</td><td>NULL</td><td>NULL</td></tr>",
                            "<tr><td>802</td><td>NULL</td><td>NULL</td><td>NULL</td><td>NULL</td></tr>",
                            "<tr><td>803</td><td>NULL</td><td>NULL</td><td>NULL</td><td>NULL</td></tr>",
                            "<tr><td>804</td><td>NULL</td><td>NULL</td><td>NULL</td><td>NULL</td></tr>",
                            "<tr><td>805</td><td>NULL</td><td>NULL</td><td>NULL</td><td>NULL</td></tr>",
                            "<tr><td>806</td><td>NULL</td><td>NULL</td><td>NULL</td><td>NULL</td></tr>",
                            "<tr><td>807</td><td>NULL</td><td>NULL</td><td>NULL</td><td>NULL</td></tr>",
                            "<tr><td>808</td><td>NULL</td><td>NULL</td><td>NULL</td><td>NULL</td></tr>",
                            "<tr><td>809</td><td>NULL</td><td>NULL</td><td>NULL</td><td>NULL</td></tr>",
                            "<tr><td>810</td><td>NULL</td><td>NULL</td><td>NULL</td><td>NULL</td></tr>",
                            "<tr><td>811</td><td>NULL</td><td>NULL</td><td>NULL</td><td>NULL</td></tr>",
                            "<tr><td>812</td><td>NULL</td><td>NULL</td><td>NULL</td><td>NULL</td></tr>",
                            "<tr><td>813</td><td>NULL</td><td>NULL</td><td>NULL</td><td>NULL</td></tr>",
                            "<tr><td>814</td><td>NULL</td><td>NULL</td><td>NULL</td><td>NULL</td></tr>",
                            "<tr><td>815</td><td>NULL</td><td>NULL</td><td>NULL</td><td>NULL</td></tr>",
                            "<tr><td>816</td><td>NULL</td><td>NULL</td><td>NULL</td><td>NULL</td></tr>",
                            "<tr><td>817</td><td>NULL</td><td>NULL</td><td>NULL</td><td>NULL</td></tr>",
                            "<tr><td>818</td><td>NULL</td><td>NULL</td><td>NULL</td><td>NULL</td></tr>",
                            "<tr><td>819</td><td>NULL</td><td>NULL</td><td>NULL</td><td>NULL</td></tr>",
                            "<tr><td>820</td><td>NULL</td><td>NULL</td><td>NULL</td><td>NULL</td></tr>",
                            "<tr><td>821</td><td>NULL</td><td>NULL</td><td>NULL</td><td>NULL</td></tr>",
                            "<tr><td>822</td><td>NULL</td><td>NULL</td><td>NULL</td><td>NULL</td></tr>",
                            "<tr><td>823</td><td>NULL</td><td>NULL</td><td>NULL</td><td>NULL</td></tr>",
                            "<tr><td>824</td><td>NULL</td><td>NULL</td><td>NULL</td><td>NULL</td></tr>",
                            "<tr><td>825</td><td>NULL</td><td>NULL</td><td>NULL</td><td>NULL</td></tr>",
                            "<tr><td>826</td><td>NULL</td><td>NULL</td><td>NULL</td><td>NULL</td></tr>",
                            "<tr><td>827</td><td>NULL</td><td>NULL</td><td>NULL</td><td>NULL</td></tr>",
                            "<tr><td>828</td><td>NULL</td><td>NULL</td><td>NULL</td><td>NULL</td></tr>",
                            "<tr><td>829</td><td>NULL</td><td>NULL</td><td>NULL</td><td>NULL</td></tr>",
                            "<tr><td>830</td><td>NULL</td><td>NULL</td><td>NULL</td><td>NULL</td></tr>",
                            "<tr><td>831</td><td>NULL</td><td>NULL</td><td>NULL</td><td>NULL</td></tr>",
                            "<tr><td>832</td><td>NULL</td><td>NULL</td><td>NULL</td><td>NULL</td></tr>",
                            "<tr><td>833</td><td>NULL</td><td>NULL</td><td>NULL</td><td>NULL</td></tr>",
                            "<tr><td>834</td><td>NULL</td><td>NULL</td><td>NULL</td><td>NULL</td></tr>",
                            "<tr><td>835</td><td>NULL</td><td>NULL</td><td>NULL</td><td>NULL</td></tr>",
                            "<tr><td>836</td><td>NULL</td><td>NULL</td><td>NULL</td><td>NULL</td></tr>",
                            "<tr><td>837</td><td>NULL</td><td>NULL</td><td>NULL</td><td>NULL</td></tr>",
                            "<tr><td>838</td><td>NULL</td><td>NULL</td><td>NULL</td><td>NULL</td></tr>",
                            "<tr><td>839</td><td>NULL</td><td>NULL</td><td>NULL</td><td>NULL</td></tr>",
                            "<tr><td>840</td><td>NULL</td><td>NULL</td><td>NULL</td><td>NULL</td></tr>",
                            "<tr><td>841</td><td>NULL</td><td>NULL</td><td>NULL</td><td>NULL</td></tr>",
                            "<tr><td>842</td><td>NULL</td><td>NULL</td><td>NULL</td><td>NULL</td></tr>",
                            "<tr><td>843</td><td>NULL</td><td>NULL</td><td>NULL</td><td>NULL</td></tr>",
                            "<tr><td>844</td><td>NULL</td><td>NULL</td><td>NULL</td><td>NULL</td></tr>",
                            "<tr><td>845</td><td>NULL</td><td>NULL</td><td>NULL</td><td>NULL</td></tr>",
                            "<tr><td>846</td><td>NULL</td><td>NULL</td><td>NULL</td><td>NULL</td></tr>",
                            "<tr><td>847</td><td>NULL</td><td>NULL</td><td>NULL</td><td>NULL</td></tr>",
                            "<tr><td>848</td><td>NULL</td><td>NULL</td><td>NULL</td><td>NULL</td></tr>",
                            "<tr><td>849</td><td>NULL</td><td>NULL</td><td>NULL</td><td>NULL</td></tr>",
                            "<tr><td>850</td><td>NULL</td><td>NULL</td><td>NULL</td><td>NULL</td></tr>",
                            "<tr><td>851</td><td>NULL</td><td>NULL</td><td>NULL</td><td>NULL</td></tr>",
                            "<tr><td>852</td><td>NULL</td><td>NULL</td><td>NULL</td><td>NULL</td></tr>",
                            "<tr><td>853</td><td>NULL</td><td>NULL</td><td>NULL</td><td>NULL</td></tr>",
                            "<tr><td>854</td><td>NULL</td><td>NULL</td><td>NULL</td><td>NULL</td></tr>",
                            "<tr><td>855</td><td>NULL</td><td>NULL</td><td>NULL</td><td>NULL</td></tr>",
                            "<tr><td>856</td><td>NULL</td><td>NULL</td><td>NULL</td><td>NULL</td></tr>",
                            "<tr><td>857</td><td>NULL</td><td>NULL</td><td>NULL</td><td>NULL</td></tr>",
                            "<tr><td>858</td><td>NULL</td><td>NULL</td><td>NULL</td><td>NULL</td></tr>",
                            "<tr><td>859</td><td>NULL</td><td>NULL</td><td>NULL</td><td>NULL</td></tr>",
                            "<tr><td>860</td><td>NULL</td><td>NULL</td><td>NULL</td><td>NULL</td></tr>",
                            "<tr><td>861</td><td>NULL</td><td>NULL</td><td>NULL</td><td>NULL</td></tr>",
                            "<tr><td>862</td><td>NULL</td><td>NULL</td><td>NULL</td><td>NULL</td></tr>",
                            "<tr><td>863</td><td>NULL</td><td>NULL</td><td>NULL</td><td>NULL</td></tr>",
                            "<tr><td>864</td><td>NULL</td><td>NULL</td><td>NULL</td><td>NULL</td></tr>",
                            "<tr><td>865</td><td>NULL</td><td>NULL</td><td>NULL</td><td>NULL</td></tr>",
                            "<tr><td>866</td><td>NULL</td><td>NULL</td><td>NULL</td><td>NULL</td></tr>",
                            "<tr><td>867</td><td>NULL</td><td>NULL</td><td>NULL</td><td>NULL</td></tr>",
                            "<tr><td>868</td><td>NULL</td><td>NULL</td><td>NULL</td><td>NULL</td></tr>",
                            "<tr><td>869</td><td>NULL</td><td>NULL</td><td>NULL</td><td>NULL</td></tr>",
                            "<tr><td>870</td><td>NULL</td><td>NULL</td><td>NULL</td><td>NULL</td></tr>",
                            "<tr><td>871</td><td>NULL</td><td>NULL</td><td>NULL</td><td>NULL</td></tr>",
                            "<tr><td>872</td><td>NULL</td><td>NULL</td><td>NULL</td><td>NULL</td></tr>",
                            "<tr><td>873</td><td>NULL</td><td>NULL</td><td>NULL</td><td>NULL</td></tr>",
                            "<tr><td>874</td><td>NULL</td><td>NULL</td><td>NULL</td><td>NULL</td></tr>",
                            "<tr><td>875</td><td>NULL</td><td>NULL</td><td>NULL</td><td>NULL</td></tr>",
                            "<tr><td>876</td><td>NULL</td><td>NULL</td><td>NULL</td><td>NULL</td></tr>",
                            "<tr><td>877</td><td>NULL</td><td>NULL</td><td>NULL</td><td>NULL</td></tr>",
                            "<tr><td>878</td><td>NULL</td><td>NULL</td><td>NULL</td><td>NULL</td></tr>",
                            "<tr><td>879</td><td>NULL</td><td>NULL</td><td>NULL</td><td>NULL</td></tr>",
                            "<tr><td>880</td><td>NULL</td><td>NULL</td><td>NULL</td><td>NULL</td></tr>",
                            "<tr><td>881</td><td>NULL</td><td>NULL</td><td>NULL</td><td>NULL</td></tr>",
                            "<tr><td>882</td><td>NULL</td><td>NULL</td><td>NULL</td><td>NULL</td></tr>",
                            "<tr><td>883</td><td>NULL</td><td>NULL</td><td>NULL</td><td>NULL</td></tr>",
                            "<tr><td>884</td><td>NULL</td><td>NULL</td><td>NULL</td><td>NULL</td></tr>",
                            "<tr><td>885</td><td>NULL</td><td>NULL</td><td>NULL</td><td>NULL</td></tr>",
                            "<tr><td>886</td><td>NULL</td><td>NULL</td><td>NULL</td><td>NULL</td></tr>",
                            "<tr><td>887</td><td>NULL</td><td>NULL</td><td>NULL</td><td>NULL</td></tr>",
                            "<tr><td>888</td><td>NULL</td><td>NULL</td><td>NULL</td><td>NULL</td></tr>",
                            "<tr><td>889</td><td>NULL</td><td>NULL</td><td>NULL</td><td>NULL</td></tr>",
                            "<tr><td>890</td><td>NULL</td><td>NULL</td><td>NULL</td><td>NULL</td></tr>",
                            "<tr><td>891</td><td>NULL</td><td>NULL</td><td>NULL</td><td>NULL</td></tr>",
                            "<tr><td>892</td><td>NULL</td><td>NULL</td><td>NULL</td><td>NULL</td></tr>",
                            "<tr><td>893</td><td>NULL</td><td>NULL</td><td>NULL</td><td>NULL</td></tr>",
                            "<tr><td>894</td><td>NULL</td><td>NULL</td><td>NULL</td><td>NULL</td></tr>",
                            "<tr><td>895</td><td>NULL</td><td>NULL</td><td>NULL</td><td>NULL</td></tr>",
                            "<tr><td>896</td><td>NULL</td><td>NULL</td><td>NULL</td><td>NULL</td></tr>",
                            "<tr><td>897</td><td>NULL</td><td>NULL</td><td>NULL</td><td>NULL</td></tr>",
                            "<tr><td>898</td><td>NULL</td><td>NULL</td><td>NULL</td><td>NULL</td></tr>",
                            "<tr><td>899</td><td>NULL</td><td>NULL</td><td>NULL</td><td>NULL</td></tr>",
                            "<tr><td>900</td><td>NULL</td><td>NULL</td><td>NULL</td><td>NULL</td></tr>",
                            "<tr><td>901</td><td>NULL</td><td>NULL</td><td>NULL</td><td>NULL</td></tr>",
                            "<tr><td>902</td><td>NULL</td><td>NULL</td><td>NULL</td><td>NULL</td></tr>",
                            "<tr><td>903</td><td>NULL</td><td>NULL</td><td>NULL</td><td>NULL</td></tr>",
                            "<tr><td>904</td><td>NULL</td><td>NULL</td><td>NULL</td><td>NULL</td></tr>",
                            "<tr><td>905</td><td>NULL</td><td>NULL</td><td>NULL</td><td>NULL</td></tr>",
                            "<tr><td>906</td><td>NULL</td><td>NULL</td><td>NULL</td><td>NULL</td></tr>",
                            "<tr><td>907</td><td>NULL</td><td>NULL</td><td>NULL</td><td>NULL</td></tr>",
                            "<tr><td>908</td><td>NULL</td><td>NULL</td><td>NULL</td><td>NULL</td></tr>",
                            "<tr><td>909</td><td>NULL</td><td>NULL</td><td>NULL</td><td>NULL</td></tr>",
                            "<tr><td>910</td><td>NULL</td><td>NULL</td><td>NULL</td><td>NULL</td></tr>",
                            "<tr><td>911</td><td>NULL</td><td>NULL</td><td>NULL</td><td>NULL</td></tr>",
                            "<tr><td>912</td><td>NULL</td><td>NULL</td><td>NULL</td><td>NULL</td></tr>",
                            "<tr><td>913</td><td>NULL</td><td>NULL</td><td>NULL</td><td>NULL</td></tr>",
                            "<tr><td>914</td><td>NULL</td><td>NULL</td><td>NULL</td><td>NULL</td></tr>",
                            "<tr><td>915</td><td>NULL</td><td>NULL</td><td>NULL</td><td>NULL</td></tr>",
                            "<tr><td>916</td><td>NULL</td><td>NULL</td><td>NULL</td><td>NULL</td></tr>",
                            "<tr><td>917</td><td>NULL</td><td>NULL</td><td>NULL</td><td>NULL</td></tr>",
                            "<tr><td>918</td><td>NULL</td><td>NULL</td><td>NULL</td><td>NULL</td></tr>",
                            "<tr><td>919</td><td>NULL</td><td>NULL</td><td>NULL</td><td>NULL</td></tr>",
                            "<tr><td>920</td><td>NULL</td><td>NULL</td><td>NULL</td><td>NULL</td></tr>",
                            "<tr><td>921</td><td>NULL</td><td>NULL</td><td>NULL</td><td>NULL</td></tr>",
                            "<tr><td>922</td><td>NULL</td><td>NULL</td><td>NULL</td><td>NULL</td></tr>",
                            "<tr><td>923</td><td>NULL</td><td>NULL</td><td>NULL</td><td>NULL</td></tr>",
                            "<tr><td>924</td><td>NULL</td><td>NULL</td><td>NULL</td><td>NULL</td></tr>",
                            "<tr><td>925</td><td>NULL</td><td>NULL</td><td>NULL</td><td>NULL</td></tr>",
                            "<tr><td>926</td><td>NULL</td><td>NULL</td><td>NULL</td><td>NULL</td></tr>",
                            "<tr><td>927</td><td>NULL</td><td>NULL</td><td>NULL</td><td>NULL</td></tr>",
                            "<tr><td>928</td><td>NULL</td><td>NULL</td><td>NULL</td><td>NULL</td></tr>",
                            "<tr><td>929</td><td>NULL</td><td>NULL</td><td>NULL</td><td>NULL</td></tr>",
                            "<tr><td>930</td><td>NULL</td><td>NULL</td><td>NULL</td><td>NULL</td></tr>",
                            "<tr><td>931</td><td>NULL</td><td>NULL</td><td>NULL</td><td>NULL</td></tr>",
                            "<tr><td>932</td><td>NULL</td><td>NULL</td><td>NULL</td><td>NULL</td></tr>",
                            "<tr><td>933</td><td>NULL</td><td>NULL</td><td>NULL</td><td>NULL</td></tr>",
                            "<tr><td>934</td><td>NULL</td><td>NULL</td><td>NULL</td><td>NULL</td></tr>",
                            "<tr><td>935</td><td>NULL</td><td>NULL</td><td>NULL</td><td>NULL</td></tr>",
                            "<tr><td>936</td><td>NULL</td><td>NULL</td><td>NULL</td><td>NULL</td></tr>",
                            "<tr><td>937</td><td>NULL</td><td>NULL</td><td>NULL</td><td>NULL</td></tr>",
                            "<tr><td>938</td><td>NULL</td><td>NULL</td><td>NULL</td><td>NULL</td></tr>",
                            "<tr><td>939</td><td>NULL</td><td>NULL</td><td>NULL</td><td>NULL</td></tr>",
                            "<tr><td>940</td><td>NULL</td><td>NULL</td><td>NULL</td><td>NULL</td></tr>",
                            "<tr><td>941</td><td>NULL</td><td>NULL</td><td>NULL</td><td>NULL</td></tr>",
                            "<tr><td>942</td><td>NULL</td><td>NULL</td><td>NULL</td><td>NULL</td></tr>",
                            "<tr><td>943</td><td>NULL</td><td>NULL</td><td>NULL</td><td>NULL</td></tr>",
                            "<tr><td>944</td><td>NULL</td><td>NULL</td><td>NULL</td><td>NULL</td></tr>",
                            "<tr><td>945</td><td>NULL</td><td>NULL</td><td>NULL</td><td>NULL</td></tr>",
                            "<tr><td>946</td><td>NULL</td><td>NULL</td><td>NULL</td><td>NULL</td></tr>",
                            "<tr><td>947</td><td>NULL</td><td>NULL</td><td>NULL</td><td>NULL</td></tr>",
                            "<tr><td>948</td><td>NULL</td><td>NULL</td><td>NULL</td><td>NULL</td></tr>",
                            "<tr><td>949</td><td>NULL</td><td>NULL</td><td>NULL</td><td>NULL</td></tr>",
                            "<tr><td>950</td><td>NULL</td><td>NULL</td><td>NULL</td><td>NULL</td></tr>",
                            "<tr><td>951</td><td>NULL</td><td>NULL</td><td>NULL</td><td>NULL</td></tr>",
                            "<tr><td>952</td><td>NULL</td><td>NULL</td><td>NULL</td><td>NULL</td></tr>",
                            "<tr><td>953</td><td>NULL</td><td>NULL</td><td>NULL</td><td>NULL</td></tr>",
                            "<tr><td>954</td><td>NULL</td><td>NULL</td><td>NULL</td><td>NULL</td></tr>",
                            "<tr><td>955</td><td>NULL</td><td>NULL</td><td>NULL</td><td>NULL</td></tr>",
                            "<tr><td>956</td><td>NULL</td><td>NULL</td><td>NULL</td><td>NULL</td></tr>",
                            "<tr><td>957</td><td>NULL</td><td>NULL</td><td>NULL</td><td>NULL</td></tr>",
                            "<tr><td>958</td><td>NULL</td><td>NULL</td><td>NULL</td><td>NULL</td></tr>",
                            "<tr><td>959</td><td>NULL</td><td>NULL</td><td>NULL</td><td>NULL</td></tr>",
                            "<tr><td>960</td><td>NULL</td><td>NULL</td><td>NULL</td><td>NULL</td></tr>",
                            "<tr><td>961</td><td>NULL</td><td>NULL</td><td>NULL</td><td>NULL</td></tr>",
                            "<tr><td>962</td><td>NULL</td><td>NULL</td><td>NULL</td><td>NULL</td></tr>",
                            "<tr><td>963</td><td>NULL</td><td>NULL</td><td>NULL</td><td>NULL</td></tr>",
                            "<tr><td>964</td><td>NULL</td><td>NULL</td><td>NULL</td><td>NULL</td></tr>",
                            "<tr><td>965</td><td>NULL</td><td>NULL</td><td>NULL</td><td>NULL</td></tr>",
                            "<tr><td>966</td><td>NULL</td><td>NULL</td><td>NULL</td><td>NULL</td></tr>",
                            "<tr><td>967</td><td>NULL</td><td>NULL</td><td>NULL</td><td>NULL</td></tr>",
                            "<tr><td>968</td><td>NULL</td><td>NULL</td><td>NULL</td><td>NULL</td></tr>",
                            "<tr><td>969</td><td>NULL</td><td>NULL</td><td>NULL</td><td>NULL</td></tr>",
                            "<tr><td>970</td><td>NULL</td><td>NULL</td><td>NULL</td><td>NULL</td></tr>",
                            "<tr><td>971</td><td>NULL</td><td>NULL</td><td>NULL</td><td>NULL</td></tr>",
                            "<tr><td>972</td><td>NULL</td><td>NULL</td><td>NULL</td><td>NULL</td></tr>",
                            "<tr><td>973</td><td>NULL</td><td>NULL</td><td>NULL</td><td>NULL</td></tr>",
                            "<tr><td>974</td><td>NULL</td><td>NULL</td><td>NULL</td><td>NULL</td></tr>",
                            "<tr><td>975</td><td>NULL</td><td>NULL</td><td>NULL</td><td>NULL</td></tr>",
                            "<tr><td>976</td><td>NULL</td><td>NULL</td><td>NULL</td><td>NULL</td></tr>",
                            "<tr><td>977</td><td>NULL</td><td>NULL</td><td>NULL</td><td>NULL</td></tr>",
                            "<tr><td>978</td><td>NULL</td><td>NULL</td><td>NULL</td><td>NULL</td></tr>",
                            "<tr><td>979</td><td>NULL</td><td>NULL</td><td>NULL</td><td>NULL</td></tr>",
                            "<tr><td>980</td><td>NULL</td><td>NULL</td><td>NULL</td><td>NULL</td></tr>",
                            "<tr><td>981</td><td>NULL</td><td>NULL</td><td>NULL</td><td>NULL</td></tr>",
                            "<tr><td>982</td><td>NULL</td><td>NULL</td><td>NULL</td><td>NULL</td></tr>",
                            "<tr><td>983</td><td>NULL</td><td>NULL</td><td>NULL</td><td>NULL</td></tr>",
                            "<tr><td>984</td><td>NULL</td><td>NULL</td><td>NULL</td><td>NULL</td></tr>",
                            "<tr><td>985</td><td>NULL</td><td>NULL</td><td>NULL</td><td>NULL</td></tr>",
                            "<tr><td>986</td><td>NULL</td><td>NULL</td><td>NULL</td><td>NULL</td></tr>",
                            "<tr><td>987</td><td>NULL</td><td>NULL</td><td>NULL</td><td>NULL</td></tr>",
                            "<tr><td>988</td><td>NULL</td><td>NULL</td><td>NULL</td><td>NULL</td></tr>",
                            "<tr><td>989</td><td>NULL</td><td>NULL</td><td>NULL</td><td>NULL</td></tr>",
                            "<tr><td>990</td><td>NULL</td><td>NULL</td><td>NULL</td><td>NULL</td></tr>",
                            "<tr><td>991</td><td>NULL</td><td>NULL</td><td>NULL</td><td>NULL</td></tr>",
                            "<tr><td>992</td><td>NULL</td><td>NULL</td><td>NULL</td><td>NULL</td></tr>",
                            "<tr><td>993</td><td>NULL</td><td>NULL</td><td>NULL</td><td>NULL</td></tr>",
                            "<tr><td>994</td><td>NULL</td><td>NULL</td><td>NULL</td><td>NULL</td></tr>",
                            "<tr><td>995</td><td>NULL</td><td>NULL</td><td>NULL</td><td>NULL</td></tr>",
                            "<tr><td>996</td><td>NULL</td><td>NULL</td><td>NULL</td><td>NULL</td></tr>",
                            "<tr><td>997</td><td>NULL</td><td>NULL</td><td>NULL</td><td>NULL</td></tr>",
                            "<tr><td>998</td><td>NULL</td><td>NULL</td><td>NULL</td><td>NULL</td></tr>",
                            "<tr><td>999</td><td>NULL</td><td>NULL</td><td>NULL</td><td>NULL</td></tr>",
                            "<tr><td>1000</td><td>NULL</td><td>NULL</td><td>NULL</td><td>NULL</td></tr>",
                            "<tr><td>1001</td><td>NULL</td><td>NULL</td><td>NULL</td><td>NULL</td></tr>",
                            "<tr><td>1002</td><td>NULL</td><td>NULL</td><td>NULL</td><td>NULL</td></tr>",
                            "<tr><td>1003</td><td>NULL</td><td>NULL</td><td>NULL</td><td>NULL</td></tr>",
                            "<tr><td>1004</td><td>NULL</td><td>NULL</td><td>NULL</td><td>NULL</td></tr>",
                            "<tr><td>1005</td><td>NULL</td><td>NULL</td><td>NULL</td><td>NULL</td></tr>",
                            "<tr><td>1006</td><td>NULL</td><td>NULL</td><td>NULL</td><td>NULL</td></tr>",
                            "<tr><td>1007</td><td>NULL</td><td>NULL</td><td>NULL</td><td>NULL</td></tr>",
                            "<tr><td>1008</td><td>NULL</td><td>NULL</td><td>NULL</td><td>NULL</td></tr>",
                            "<tr><td>1009</td><td>NULL</td><td>NULL</td><td>NULL</td><td>NULL</td></tr>",
                            "<tr><td>1010</td><td>NULL</td><td>NULL</td><td>NULL</td><td>NULL</td></tr>",
                            "<tr><td>1011</td><td>NULL</td><td>NULL</td><td>NULL</td><td>NULL</td></tr>",
                            "<tr><td>1012</td><td>NULL</td><td>NULL</td><td>NULL</td><td>NULL</td></tr>",
                            "<tr><td>1013</td><td>NULL</td><td>NULL</td><td>NULL</td><td>NULL</td></tr>",
                            "<tr><td>1014</td><td>NULL</td><td>NULL</td><td>NULL</td><td>NULL</td></tr>",
                            "<tr><td>1015</td><td>NULL</td><td>NULL</td><td>NULL</td><td>NULL</td></tr>",
                            "<tr><td>1016</td><td>NULL</td><td>NULL</td><td>NULL</td><td>NULL</td></tr>",
                            "<tr><td>1017</td><td>NULL</td><td>NULL</td><td>NULL</td><td>NULL</td></tr>",
                            "<tr><td>1018</td><td>NULL</td><td>NULL</td><td>NULL</td><td>NULL</td></tr>",
                            "<tr><td>1019</td><td>NULL</td><td>NULL</td><td>NULL</td><td>NULL</td></tr>",
                            "<tr><td>1020</td><td>NULL</td><td>NULL</td><td>NULL</td><td>NULL</td></tr>",
                            "<tr><td>1021</td><td>NULL</td><td>NULL</td><td>NULL</td><td>NULL</td></tr>",
                            "<tr><td>1022</td><td>NULL</td><td>NULL</td><td>NULL</td><td>NULL</td></tr>",
                            "<tr><td>1023</td><td>NULL</td><td>NULL</td><td>NULL</td><td>NULL</td></tr>",
                            "<tr><td>1024</td><td>NULL</td><td>NULL</td><td>NULL</td><td>NULL</td></tr>",
                            "<tr><td>1025</td><td>NULL</td><td>NULL</td><td>NULL</td><td>NULL</td></tr>",
                            "<tr><td>1026</td><td>NULL</td><td>NULL</td><td>NULL</td><td>NULL</td></tr>",
                            "<tr><td>1027</td><td>NULL</td><td>NULL</td><td>NULL</td><td>NULL</td></tr>",
                            "<tr><td>1028</td><td>NULL</td><td>NULL</td><td>NULL</td><td>NULL</td></tr>",
                            "<tr><td>1029</td><td>NULL</td><td>NULL</td><td>NULL</td><td>NULL</td></tr>",
                            "<tr><td>1030</td><td>NULL</td><td>NULL</td><td>NULL</td><td>NULL</td></tr>",
                            "<tr><td>1031</td><td>NULL</td><td>NULL</td><td>NULL</td><td>NULL</td></tr>",
                            "<tr><td>1032</td><td>NULL</td><td>NULL</td><td>NULL</td><td>NULL</td></tr>",
                            "<tr><td>1033</td><td>NULL</td><td>NULL</td><td>NULL</td><td>NULL</td></tr>",
                            "<tr><td>1034</td><td>NULL</td><td>NULL</td><td>NULL</td><td>NULL</td></tr>",
                            "<tr><td>1035</td><td>NULL</td><td>NULL</td><td>NULL</td><td>NULL</td></tr>",
                            "<tr><td>1036</td><td>NULL</td><td>NULL</td><td>NULL</td><td>NULL</td></tr>",
                            "<tr><td>1037</td><td>NULL</td><td>NULL</td><td>NULL</td><td>NULL</td></tr>",
                            "<tr><td>1038</td><td>NULL</td><td>NULL</td><td>NULL</td><td>NULL</td></tr>",
                            "<tr><td>1039</td><td>NULL</td><td>NULL</td><td>NULL</td><td>NULL</td></tr>",
                            "<tr><td>1040</td><td>NULL</td><td>NULL</td><td>NULL</td><td>NULL</td></tr>",
                            "<tr><td>1041</td><td>NULL</td><td>NULL</td><td>NULL</td><td>NULL</td></tr>",
                            "<tr><td>1042</td><td>NULL</td><td>NULL</td><td>NULL</td><td>NULL</td></tr>",
                            "<tr><td>1043</td><td>NULL</td><td>NULL</td><td>NULL</td><td>NULL</td></tr>",
                            "<tr><td>1044</td><td>NULL</td><td>NULL</td><td>NULL</td><td>NULL</td></tr>",
                            "<tr><td>1045</td><td>NULL</td><td>NULL</td><td>NULL</td><td>NULL</td></tr>",
                            "<tr><td>1046</td><td>NULL</td><td>NULL</td><td>NULL</td><td>NULL</td></tr>",
                            "<tr><td>1047</td><td>NULL</td><td>NULL</td><td>NULL</td><td>NULL</td></tr>",
                            "<tr><td>1048</td><td>NULL</td><td>NULL</td><td>NULL</td><td>NULL</td></tr>",
                            "<tr><td>1049</td><td>NULL</td><td>NULL</td><td>NULL</td><td>NULL</td></tr>",
                            "<tr><td>1050</td><td>NULL</td><td>NULL</td><td>NULL</td><td>NULL</td></tr>",
                            "<tr><td>1051</td><td>NULL</td><td>NULL</td><td>NULL</td><td>NULL</td></tr>",
                            "<tr><td>1052</td><td>NULL</td><td>NULL</td><td>NULL</td><td>NULL</td></tr>",
                            "<tr><td>1053</td><td>NULL</td><td>NULL</td><td>NULL</td><td>NULL</td></tr>",
                            "<tr><td>1054</td><td>NULL</td><td>NULL</td><td>NULL</td><td>NULL</td></tr>",
                            "<tr><td>1055</td><td>NULL</td><td>NULL</td><td>NULL</td><td>NULL</td></tr>",
                            "<tr><td>1056</td><td>NULL</td><td>NULL</td><td>NULL</td><td>NULL</td></tr>",
                            "<tr><td>1057</td><td>NULL</td><td>NULL</td><td>NULL</td><td>NULL</td></tr>",
                            "<tr><td>1058</td><td>NULL</td><td>NULL</td><td>NULL</td><td>NULL</td></tr>",
                            "<tr><td>1059</td><td>NULL</td><td>NULL</td><td>NULL</td><td>NULL</td></tr>",
                            "<tr><td>1060</td><td>NULL</td><td>NULL</td><td>NULL</td><td>NULL</td></tr>",
                            "<tr><td>1061</td><td>NULL</td><td>NULL</td><td>NULL</td><td>NULL</td></tr>",
                            "</table>"
                        ]
                    }
                }
            ],
            "execution_count": 126
        },
        {
            "cell_type": "code",
            "source": [
                "USE WideWorldImporters\n",
                "DROP TABLE IF EXISTS dbo.Customers;\n",
                "CREATE TABLE dbo.Customers\n",
                "(\n",
                "custid INT NOT NULL PRIMARY KEY,\n",
                "companyname NVARCHAR(40) NULL,\n",
                "country NVARCHAR(15) NULL,\n",
                "region NVARCHAR(15) NULL,\n",
                "city NVARCHAR(15) NULL\n",
                ");"
            ],
            "metadata": {
                "azdata_cell_guid": "9b5e79ab-d563-4721-bbf4-ac3539d0eaaf",
                "language": "sql"
            },
            "outputs": [
                {
                    "output_type": "display_data",
                    "data": {
                        "text/html": "Commands completed successfully."
                    },
                    "metadata": {}
                },
                {
                    "output_type": "display_data",
                    "data": {
                        "text/html": "Total execution time: 00:00:00.037"
                    },
                    "metadata": {}
                }
            ],
            "execution_count": 124
        },
        {
            "cell_type": "code",
            "source": [
                "TRUNCATE TABLE dbo.Customers;"
            ],
            "metadata": {
                "azdata_cell_guid": "dbea575a-0028-44f0-b94b-9fa07b761e04",
                "language": "sql"
            },
            "outputs": [
                {
                    "output_type": "display_data",
                    "data": {
                        "text/html": "Commands completed successfully."
                    },
                    "metadata": {}
                },
                {
                    "output_type": "display_data",
                    "data": {
                        "text/html": "Total execution time: 00:00:00.030"
                    },
                    "metadata": {}
                }
            ],
            "execution_count": 122
        },
        {
            "cell_type": "code",
            "source": [
                "USE WideWorldImporters\n",
                "\n",
                "INSERT INTO dbo.Customers(custid)\n",
                "SELECT CustomerID\n",
                "FROM Sales.Customers AS C\n",
                "WHERE EXISTS\n",
                "(SELECT * FROM Sales.Orders AS O\n",
                "WHERE O.CustomerID = C.CustomerID);\n",
                "\n",
                ""
            ],
            "metadata": {
                "azdata_cell_guid": "a3833495-0fd8-4c17-8b55-028f14973feb",
                "language": "sql",
                "tags": []
            },
            "outputs": [
                {
                    "output_type": "display_data",
                    "data": {
                        "text/html": "(663 rows affected)"
                    },
                    "metadata": {}
                },
                {
                    "output_type": "display_data",
                    "data": {
                        "text/html": "Total execution time: 00:00:00.091"
                    },
                    "metadata": {}
                }
            ],
            "execution_count": 125
        },
        {
            "cell_type": "markdown",
            "source": [
                "Proposition 4: Simple Insert into warehouse.colors"
            ],
            "metadata": {
                "azdata_cell_guid": "ca39263c-e48b-4bca-b7ef-d3d6626065ea"
            },
            "attachments": {}
        },
        {
            "cell_type": "code",
            "source": [
                "USE WideWorldImporters\n",
                "SELECT *\n",
                "FROM warehouse.Colors"
            ],
            "metadata": {
                "azdata_cell_guid": "5277d7f3-e615-4e8a-9323-b510ecac0d8f",
                "language": "sql",
                "tags": []
            },
            "outputs": [
                {
                    "output_type": "display_data",
                    "data": {
                        "text/html": "(36 rows affected)"
                    },
                    "metadata": {}
                },
                {
                    "output_type": "display_data",
                    "data": {
                        "text/html": "Total execution time: 00:00:00.037"
                    },
                    "metadata": {}
                },
                {
                    "output_type": "execute_result",
                    "metadata": {},
                    "execution_count": 142,
                    "data": {
                        "application/vnd.dataresource+json": {
                            "schema": {
                                "fields": [
                                    {
                                        "name": "ColorID"
                                    },
                                    {
                                        "name": "ColorName"
                                    },
                                    {
                                        "name": "LastEditedBy"
                                    },
                                    {
                                        "name": "ValidFrom"
                                    },
                                    {
                                        "name": "ValidTo"
                                    }
                                ]
                            },
                            "data": [
                                {
                                    "ColorID": "1",
                                    "ColorName": "Azure",
                                    "LastEditedBy": "1",
                                    "ValidFrom": "2024-10-29 03:16:32.3760346",
                                    "ValidTo": "9999-12-31 23:59:59.9999999"
                                },
                                {
                                    "ColorID": "2",
                                    "ColorName": "Beige",
                                    "LastEditedBy": "1",
                                    "ValidFrom": "2013-01-01 00:00:00.0000000",
                                    "ValidTo": "9999-12-31 23:59:59.9999999"
                                },
                                {
                                    "ColorID": "3",
                                    "ColorName": "Black",
                                    "LastEditedBy": "1",
                                    "ValidFrom": "2013-01-01 00:00:00.0000000",
                                    "ValidTo": "9999-12-31 23:59:59.9999999"
                                },
                                {
                                    "ColorID": "4",
                                    "ColorName": "Blue",
                                    "LastEditedBy": "1",
                                    "ValidFrom": "2013-01-01 00:00:00.0000000",
                                    "ValidTo": "9999-12-31 23:59:59.9999999"
                                },
                                {
                                    "ColorID": "5",
                                    "ColorName": "Charcoal",
                                    "LastEditedBy": "1",
                                    "ValidFrom": "2013-01-01 00:00:00.0000000",
                                    "ValidTo": "9999-12-31 23:59:59.9999999"
                                },
                                {
                                    "ColorID": "6",
                                    "ColorName": "Chartreuse",
                                    "LastEditedBy": "1",
                                    "ValidFrom": "2013-01-01 00:00:00.0000000",
                                    "ValidTo": "9999-12-31 23:59:59.9999999"
                                },
                                {
                                    "ColorID": "7",
                                    "ColorName": "Cyan",
                                    "LastEditedBy": "1",
                                    "ValidFrom": "2013-01-01 00:00:00.0000000",
                                    "ValidTo": "9999-12-31 23:59:59.9999999"
                                },
                                {
                                    "ColorID": "8",
                                    "ColorName": "Dark Brown",
                                    "LastEditedBy": "1",
                                    "ValidFrom": "2013-01-01 00:00:00.0000000",
                                    "ValidTo": "9999-12-31 23:59:59.9999999"
                                },
                                {
                                    "ColorID": "9",
                                    "ColorName": "Dark Green",
                                    "LastEditedBy": "1",
                                    "ValidFrom": "2013-01-01 00:00:00.0000000",
                                    "ValidTo": "9999-12-31 23:59:59.9999999"
                                },
                                {
                                    "ColorID": "10",
                                    "ColorName": "Fuchsia",
                                    "LastEditedBy": "1",
                                    "ValidFrom": "2013-01-01 00:00:00.0000000",
                                    "ValidTo": "9999-12-31 23:59:59.9999999"
                                },
                                {
                                    "ColorID": "11",
                                    "ColorName": "Gold",
                                    "LastEditedBy": "1",
                                    "ValidFrom": "2013-01-01 00:00:00.0000000",
                                    "ValidTo": "9999-12-31 23:59:59.9999999"
                                },
                                {
                                    "ColorID": "12",
                                    "ColorName": "Steel Gray",
                                    "LastEditedBy": "9",
                                    "ValidFrom": "2016-01-01 16:00:00.0000000",
                                    "ValidTo": "9999-12-31 23:59:59.9999999"
                                },
                                {
                                    "ColorID": "13",
                                    "ColorName": "Hot Pink",
                                    "LastEditedBy": "1",
                                    "ValidFrom": "2013-01-01 00:00:00.0000000",
                                    "ValidTo": "9999-12-31 23:59:59.9999999"
                                },
                                {
                                    "ColorID": "14",
                                    "ColorName": "Indigo",
                                    "LastEditedBy": "1",
                                    "ValidFrom": "2013-01-01 00:00:00.0000000",
                                    "ValidTo": "9999-12-31 23:59:59.9999999"
                                },
                                {
                                    "ColorID": "15",
                                    "ColorName": "Ivory",
                                    "LastEditedBy": "1",
                                    "ValidFrom": "2013-01-01 00:00:00.0000000",
                                    "ValidTo": "9999-12-31 23:59:59.9999999"
                                },
                                {
                                    "ColorID": "16",
                                    "ColorName": "Khaki",
                                    "LastEditedBy": "1",
                                    "ValidFrom": "2013-01-01 00:00:00.0000000",
                                    "ValidTo": "9999-12-31 23:59:59.9999999"
                                },
                                {
                                    "ColorID": "17",
                                    "ColorName": "Lavender",
                                    "LastEditedBy": "1",
                                    "ValidFrom": "2013-01-01 00:00:00.0000000",
                                    "ValidTo": "9999-12-31 23:59:59.9999999"
                                },
                                {
                                    "ColorID": "18",
                                    "ColorName": "Light Brown",
                                    "LastEditedBy": "1",
                                    "ValidFrom": "2013-01-01 00:00:00.0000000",
                                    "ValidTo": "9999-12-31 23:59:59.9999999"
                                },
                                {
                                    "ColorID": "19",
                                    "ColorName": "Light Green",
                                    "LastEditedBy": "1",
                                    "ValidFrom": "2013-01-01 00:00:00.0000000",
                                    "ValidTo": "9999-12-31 23:59:59.9999999"
                                },
                                {
                                    "ColorID": "20",
                                    "ColorName": "Maroon",
                                    "LastEditedBy": "1",
                                    "ValidFrom": "2013-01-01 00:00:00.0000000",
                                    "ValidTo": "9999-12-31 23:59:59.9999999"
                                },
                                {
                                    "ColorID": "21",
                                    "ColorName": "Mauve",
                                    "LastEditedBy": "1",
                                    "ValidFrom": "2013-01-01 00:00:00.0000000",
                                    "ValidTo": "9999-12-31 23:59:59.9999999"
                                },
                                {
                                    "ColorID": "22",
                                    "ColorName": "Navy Blue",
                                    "LastEditedBy": "1",
                                    "ValidFrom": "2013-01-01 00:00:00.0000000",
                                    "ValidTo": "9999-12-31 23:59:59.9999999"
                                },
                                {
                                    "ColorID": "23",
                                    "ColorName": "Olive",
                                    "LastEditedBy": "1",
                                    "ValidFrom": "2013-01-01 00:00:00.0000000",
                                    "ValidTo": "9999-12-31 23:59:59.9999999"
                                },
                                {
                                    "ColorID": "24",
                                    "ColorName": "Orange",
                                    "LastEditedBy": "1",
                                    "ValidFrom": "2013-01-01 00:00:00.0000000",
                                    "ValidTo": "9999-12-31 23:59:59.9999999"
                                },
                                {
                                    "ColorID": "25",
                                    "ColorName": "Plum",
                                    "LastEditedBy": "1",
                                    "ValidFrom": "2013-01-01 00:00:00.0000000",
                                    "ValidTo": "9999-12-31 23:59:59.9999999"
                                },
                                {
                                    "ColorID": "26",
                                    "ColorName": "Puce",
                                    "LastEditedBy": "1",
                                    "ValidFrom": "2013-01-01 00:00:00.0000000",
                                    "ValidTo": "9999-12-31 23:59:59.9999999"
                                },
                                {
                                    "ColorID": "27",
                                    "ColorName": "Purple",
                                    "LastEditedBy": "1",
                                    "ValidFrom": "2013-01-01 00:00:00.0000000",
                                    "ValidTo": "9999-12-31 23:59:59.9999999"
                                },
                                {
                                    "ColorID": "28",
                                    "ColorName": "Red",
                                    "LastEditedBy": "1",
                                    "ValidFrom": "2013-01-01 00:00:00.0000000",
                                    "ValidTo": "9999-12-31 23:59:59.9999999"
                                },
                                {
                                    "ColorID": "29",
                                    "ColorName": "Royal Blue",
                                    "LastEditedBy": "1",
                                    "ValidFrom": "2013-01-01 00:00:00.0000000",
                                    "ValidTo": "9999-12-31 23:59:59.9999999"
                                },
                                {
                                    "ColorID": "30",
                                    "ColorName": "Salmon",
                                    "LastEditedBy": "1",
                                    "ValidFrom": "2013-01-01 00:00:00.0000000",
                                    "ValidTo": "9999-12-31 23:59:59.9999999"
                                },
                                {
                                    "ColorID": "31",
                                    "ColorName": "Silver",
                                    "LastEditedBy": "1",
                                    "ValidFrom": "2013-01-01 00:00:00.0000000",
                                    "ValidTo": "9999-12-31 23:59:59.9999999"
                                },
                                {
                                    "ColorID": "32",
                                    "ColorName": "Tan",
                                    "LastEditedBy": "1",
                                    "ValidFrom": "2013-01-01 00:00:00.0000000",
                                    "ValidTo": "9999-12-31 23:59:59.9999999"
                                },
                                {
                                    "ColorID": "33",
                                    "ColorName": "Teal",
                                    "LastEditedBy": "1",
                                    "ValidFrom": "2013-01-01 00:00:00.0000000",
                                    "ValidTo": "9999-12-31 23:59:59.9999999"
                                },
                                {
                                    "ColorID": "34",
                                    "ColorName": "Wheat",
                                    "LastEditedBy": "1",
                                    "ValidFrom": "2013-01-01 00:00:00.0000000",
                                    "ValidTo": "9999-12-31 23:59:59.9999999"
                                },
                                {
                                    "ColorID": "35",
                                    "ColorName": "White",
                                    "LastEditedBy": "1",
                                    "ValidFrom": "2013-01-01 00:00:00.0000000",
                                    "ValidTo": "9999-12-31 23:59:59.9999999"
                                },
                                {
                                    "ColorID": "36",
                                    "ColorName": "Yellow",
                                    "LastEditedBy": "1",
                                    "ValidFrom": "2013-01-01 00:00:00.0000000",
                                    "ValidTo": "9999-12-31 23:59:59.9999999"
                                }
                            ]
                        },
                        "text/html": [
                            "<table>",
                            "<tr><th>ColorID</th><th>ColorName</th><th>LastEditedBy</th><th>ValidFrom</th><th>ValidTo</th></tr>",
                            "<tr><td>1</td><td>Azure</td><td>1</td><td>2024-10-29 03:16:32.3760346</td><td>9999-12-31 23:59:59.9999999</td></tr>",
                            "<tr><td>2</td><td>Beige</td><td>1</td><td>2013-01-01 00:00:00.0000000</td><td>9999-12-31 23:59:59.9999999</td></tr>",
                            "<tr><td>3</td><td>Black</td><td>1</td><td>2013-01-01 00:00:00.0000000</td><td>9999-12-31 23:59:59.9999999</td></tr>",
                            "<tr><td>4</td><td>Blue</td><td>1</td><td>2013-01-01 00:00:00.0000000</td><td>9999-12-31 23:59:59.9999999</td></tr>",
                            "<tr><td>5</td><td>Charcoal</td><td>1</td><td>2013-01-01 00:00:00.0000000</td><td>9999-12-31 23:59:59.9999999</td></tr>",
                            "<tr><td>6</td><td>Chartreuse</td><td>1</td><td>2013-01-01 00:00:00.0000000</td><td>9999-12-31 23:59:59.9999999</td></tr>",
                            "<tr><td>7</td><td>Cyan</td><td>1</td><td>2013-01-01 00:00:00.0000000</td><td>9999-12-31 23:59:59.9999999</td></tr>",
                            "<tr><td>8</td><td>Dark Brown</td><td>1</td><td>2013-01-01 00:00:00.0000000</td><td>9999-12-31 23:59:59.9999999</td></tr>",
                            "<tr><td>9</td><td>Dark Green</td><td>1</td><td>2013-01-01 00:00:00.0000000</td><td>9999-12-31 23:59:59.9999999</td></tr>",
                            "<tr><td>10</td><td>Fuchsia</td><td>1</td><td>2013-01-01 00:00:00.0000000</td><td>9999-12-31 23:59:59.9999999</td></tr>",
                            "<tr><td>11</td><td>Gold</td><td>1</td><td>2013-01-01 00:00:00.0000000</td><td>9999-12-31 23:59:59.9999999</td></tr>",
                            "<tr><td>12</td><td>Steel Gray</td><td>9</td><td>2016-01-01 16:00:00.0000000</td><td>9999-12-31 23:59:59.9999999</td></tr>",
                            "<tr><td>13</td><td>Hot Pink</td><td>1</td><td>2013-01-01 00:00:00.0000000</td><td>9999-12-31 23:59:59.9999999</td></tr>",
                            "<tr><td>14</td><td>Indigo</td><td>1</td><td>2013-01-01 00:00:00.0000000</td><td>9999-12-31 23:59:59.9999999</td></tr>",
                            "<tr><td>15</td><td>Ivory</td><td>1</td><td>2013-01-01 00:00:00.0000000</td><td>9999-12-31 23:59:59.9999999</td></tr>",
                            "<tr><td>16</td><td>Khaki</td><td>1</td><td>2013-01-01 00:00:00.0000000</td><td>9999-12-31 23:59:59.9999999</td></tr>",
                            "<tr><td>17</td><td>Lavender</td><td>1</td><td>2013-01-01 00:00:00.0000000</td><td>9999-12-31 23:59:59.9999999</td></tr>",
                            "<tr><td>18</td><td>Light Brown</td><td>1</td><td>2013-01-01 00:00:00.0000000</td><td>9999-12-31 23:59:59.9999999</td></tr>",
                            "<tr><td>19</td><td>Light Green</td><td>1</td><td>2013-01-01 00:00:00.0000000</td><td>9999-12-31 23:59:59.9999999</td></tr>",
                            "<tr><td>20</td><td>Maroon</td><td>1</td><td>2013-01-01 00:00:00.0000000</td><td>9999-12-31 23:59:59.9999999</td></tr>",
                            "<tr><td>21</td><td>Mauve</td><td>1</td><td>2013-01-01 00:00:00.0000000</td><td>9999-12-31 23:59:59.9999999</td></tr>",
                            "<tr><td>22</td><td>Navy Blue</td><td>1</td><td>2013-01-01 00:00:00.0000000</td><td>9999-12-31 23:59:59.9999999</td></tr>",
                            "<tr><td>23</td><td>Olive</td><td>1</td><td>2013-01-01 00:00:00.0000000</td><td>9999-12-31 23:59:59.9999999</td></tr>",
                            "<tr><td>24</td><td>Orange</td><td>1</td><td>2013-01-01 00:00:00.0000000</td><td>9999-12-31 23:59:59.9999999</td></tr>",
                            "<tr><td>25</td><td>Plum</td><td>1</td><td>2013-01-01 00:00:00.0000000</td><td>9999-12-31 23:59:59.9999999</td></tr>",
                            "<tr><td>26</td><td>Puce</td><td>1</td><td>2013-01-01 00:00:00.0000000</td><td>9999-12-31 23:59:59.9999999</td></tr>",
                            "<tr><td>27</td><td>Purple</td><td>1</td><td>2013-01-01 00:00:00.0000000</td><td>9999-12-31 23:59:59.9999999</td></tr>",
                            "<tr><td>28</td><td>Red</td><td>1</td><td>2013-01-01 00:00:00.0000000</td><td>9999-12-31 23:59:59.9999999</td></tr>",
                            "<tr><td>29</td><td>Royal Blue</td><td>1</td><td>2013-01-01 00:00:00.0000000</td><td>9999-12-31 23:59:59.9999999</td></tr>",
                            "<tr><td>30</td><td>Salmon</td><td>1</td><td>2013-01-01 00:00:00.0000000</td><td>9999-12-31 23:59:59.9999999</td></tr>",
                            "<tr><td>31</td><td>Silver</td><td>1</td><td>2013-01-01 00:00:00.0000000</td><td>9999-12-31 23:59:59.9999999</td></tr>",
                            "<tr><td>32</td><td>Tan</td><td>1</td><td>2013-01-01 00:00:00.0000000</td><td>9999-12-31 23:59:59.9999999</td></tr>",
                            "<tr><td>33</td><td>Teal</td><td>1</td><td>2013-01-01 00:00:00.0000000</td><td>9999-12-31 23:59:59.9999999</td></tr>",
                            "<tr><td>34</td><td>Wheat</td><td>1</td><td>2013-01-01 00:00:00.0000000</td><td>9999-12-31 23:59:59.9999999</td></tr>",
                            "<tr><td>35</td><td>White</td><td>1</td><td>2013-01-01 00:00:00.0000000</td><td>9999-12-31 23:59:59.9999999</td></tr>",
                            "<tr><td>36</td><td>Yellow</td><td>1</td><td>2013-01-01 00:00:00.0000000</td><td>9999-12-31 23:59:59.9999999</td></tr>",
                            "</table>"
                        ]
                    }
                }
            ],
            "execution_count": 142
        },
        {
            "cell_type": "code",
            "source": [
                "USE WideWorldImporters\n",
                "INSERT INTO Warehouse.colors(ColorID, ColorName, LastEditedBy)\n",
                "VALUES(37, N'Swamp Green',1)"
            ],
            "metadata": {
                "azdata_cell_guid": "1e150510-b62c-48f4-9bf6-c1b4d8f4685c",
                "language": "sql",
                "tags": []
            },
            "outputs": [
                {
                    "output_type": "display_data",
                    "data": {
                        "text/html": "(1 row affected)"
                    },
                    "metadata": {}
                },
                {
                    "output_type": "display_data",
                    "data": {
                        "text/html": "Total execution time: 00:00:00.010"
                    },
                    "metadata": {}
                }
            ],
            "execution_count": 128
        },
        {
            "cell_type": "markdown",
            "source": [
                "Proposition 5: Simple Deletion into warehouse.colors"
            ],
            "metadata": {
                "azdata_cell_guid": "a7c6e4a4-b70e-42fe-9cb4-ff51a9e8d09e"
            },
            "attachments": {}
        },
        {
            "cell_type": "code",
            "source": [
                "USE WideWorldImporters\n",
                "DELETE FROM Warehouse.Colors\n",
                "WHERE ColorID = 37"
            ],
            "metadata": {
                "azdata_cell_guid": "cefd9fac-768b-4976-b865-a83b0b1c8de4",
                "language": "sql",
                "tags": []
            },
            "outputs": [
                {
                    "output_type": "display_data",
                    "data": {
                        "text/html": "(1 row affected)"
                    },
                    "metadata": {}
                },
                {
                    "output_type": "display_data",
                    "data": {
                        "text/html": "Total execution time: 00:00:00.011"
                    },
                    "metadata": {}
                }
            ],
            "execution_count": 130
        },
        {
            "cell_type": "markdown",
            "source": [
                "Proposition 6: Create a dbo.colors table and populate it with warehouse.colors"
            ],
            "metadata": {
                "azdata_cell_guid": "fe3b8322-5667-4d2c-a88d-62a3775bfc7d"
            },
            "attachments": {}
        },
        {
            "cell_type": "code",
            "source": [
                "USE WideWorldImporters\n",
                "SELECT *\n",
                "FROM dbo.Colors"
            ],
            "metadata": {
                "azdata_cell_guid": "9af0ec98-04ac-428b-865c-99a2c17044f3",
                "language": "sql"
            },
            "outputs": [
                {
                    "output_type": "display_data",
                    "data": {
                        "text/html": "(27 rows affected)"
                    },
                    "metadata": {}
                },
                {
                    "output_type": "display_data",
                    "data": {
                        "text/html": "Total execution time: 00:00:00.007"
                    },
                    "metadata": {}
                },
                {
                    "output_type": "execute_result",
                    "metadata": {},
                    "execution_count": 147,
                    "data": {
                        "application/vnd.dataresource+json": {
                            "schema": {
                                "fields": [
                                    {
                                        "name": "ColorID"
                                    },
                                    {
                                        "name": "ColorName"
                                    },
                                    {
                                        "name": "LastEditedBy"
                                    },
                                    {
                                        "name": "Validfrom"
                                    },
                                    {
                                        "name": "Validto"
                                    }
                                ]
                            },
                            "data": [
                                {
                                    "ColorID": "1",
                                    "ColorName": "Azure",
                                    "LastEditedBy": "Manager",
                                    "Validfrom": "2024-10-29 03:1",
                                    "Validto": "9999-12-31 23:5"
                                },
                                {
                                    "ColorID": "2",
                                    "ColorName": "Beige",
                                    "LastEditedBy": "Manager",
                                    "Validfrom": "2013-01-01 00:0",
                                    "Validto": "9999-12-31 23:5"
                                },
                                {
                                    "ColorID": "3",
                                    "ColorName": "Black",
                                    "LastEditedBy": "Manager",
                                    "Validfrom": "2013-01-01 00:0",
                                    "Validto": "9999-12-31 23:5"
                                },
                                {
                                    "ColorID": "4",
                                    "ColorName": "Blue",
                                    "LastEditedBy": "Manager",
                                    "Validfrom": "2013-01-01 00:0",
                                    "Validto": "9999-12-31 23:5"
                                },
                                {
                                    "ColorID": "5",
                                    "ColorName": "Charcoal",
                                    "LastEditedBy": "Manager",
                                    "Validfrom": "2013-01-01 00:0",
                                    "Validto": "9999-12-31 23:5"
                                },
                                {
                                    "ColorID": "16",
                                    "ColorName": "Khaki",
                                    "LastEditedBy": "1",
                                    "Validfrom": "2013-01-01 00:0",
                                    "Validto": "9999-12-31 23:5"
                                },
                                {
                                    "ColorID": "17",
                                    "ColorName": "Lavender",
                                    "LastEditedBy": "1",
                                    "Validfrom": "2013-01-01 00:0",
                                    "Validto": "9999-12-31 23:5"
                                },
                                {
                                    "ColorID": "18",
                                    "ColorName": "Light Brown",
                                    "LastEditedBy": "1",
                                    "Validfrom": "2013-01-01 00:0",
                                    "Validto": "9999-12-31 23:5"
                                },
                                {
                                    "ColorID": "19",
                                    "ColorName": "Light Green",
                                    "LastEditedBy": "1",
                                    "Validfrom": "2013-01-01 00:0",
                                    "Validto": "9999-12-31 23:5"
                                },
                                {
                                    "ColorID": "20",
                                    "ColorName": "Maroon",
                                    "LastEditedBy": "1",
                                    "Validfrom": "2013-01-01 00:0",
                                    "Validto": "9999-12-31 23:5"
                                },
                                {
                                    "ColorID": "21",
                                    "ColorName": "Mauve",
                                    "LastEditedBy": "1",
                                    "Validfrom": "2013-01-01 00:0",
                                    "Validto": "9999-12-31 23:5"
                                },
                                {
                                    "ColorID": "22",
                                    "ColorName": "Deep Blue",
                                    "LastEditedBy": "1",
                                    "Validfrom": "2013-01-01 00:0",
                                    "Validto": "9999-12-31 23:5"
                                },
                                {
                                    "ColorID": "23",
                                    "ColorName": "Olive",
                                    "LastEditedBy": "1",
                                    "Validfrom": "2013-01-01 00:0",
                                    "Validto": "9999-12-31 23:5"
                                },
                                {
                                    "ColorID": "24",
                                    "ColorName": "Orange",
                                    "LastEditedBy": "1",
                                    "Validfrom": "2013-01-01 00:0",
                                    "Validto": "9999-12-31 23:5"
                                },
                                {
                                    "ColorID": "25",
                                    "ColorName": "Plum",
                                    "LastEditedBy": "1",
                                    "Validfrom": "2013-01-01 00:0",
                                    "Validto": "9999-12-31 23:5"
                                },
                                {
                                    "ColorID": "26",
                                    "ColorName": "Puce",
                                    "LastEditedBy": "1",
                                    "Validfrom": "2013-01-01 00:0",
                                    "Validto": "9999-12-31 23:5"
                                },
                                {
                                    "ColorID": "27",
                                    "ColorName": "Purple",
                                    "LastEditedBy": "1",
                                    "Validfrom": "2013-01-01 00:0",
                                    "Validto": "9999-12-31 23:5"
                                },
                                {
                                    "ColorID": "28",
                                    "ColorName": "Red",
                                    "LastEditedBy": "1",
                                    "Validfrom": "2013-01-01 00:0",
                                    "Validto": "9999-12-31 23:5"
                                },
                                {
                                    "ColorID": "29",
                                    "ColorName": "Royal Blue",
                                    "LastEditedBy": "1",
                                    "Validfrom": "2013-01-01 00:0",
                                    "Validto": "9999-12-31 23:5"
                                },
                                {
                                    "ColorID": "30",
                                    "ColorName": "Salmon",
                                    "LastEditedBy": "1",
                                    "Validfrom": "2013-01-01 00:0",
                                    "Validto": "9999-12-31 23:5"
                                },
                                {
                                    "ColorID": "31",
                                    "ColorName": "Silver",
                                    "LastEditedBy": "1",
                                    "Validfrom": "2013-01-01 00:0",
                                    "Validto": "9999-12-31 23:5"
                                },
                                {
                                    "ColorID": "32",
                                    "ColorName": "Tan",
                                    "LastEditedBy": "1",
                                    "Validfrom": "2013-01-01 00:0",
                                    "Validto": "9999-12-31 23:5"
                                },
                                {
                                    "ColorID": "33",
                                    "ColorName": "Teal",
                                    "LastEditedBy": "1",
                                    "Validfrom": "2013-01-01 00:0",
                                    "Validto": "9999-12-31 23:5"
                                },
                                {
                                    "ColorID": "34",
                                    "ColorName": "Wheat",
                                    "LastEditedBy": "1",
                                    "Validfrom": "2013-01-01 00:0",
                                    "Validto": "9999-12-31 23:5"
                                },
                                {
                                    "ColorID": "35",
                                    "ColorName": "White",
                                    "LastEditedBy": "1",
                                    "Validfrom": "2013-01-01 00:0",
                                    "Validto": "9999-12-31 23:5"
                                },
                                {
                                    "ColorID": "36",
                                    "ColorName": "Yellow",
                                    "LastEditedBy": "1",
                                    "Validfrom": "2013-01-01 00:0",
                                    "Validto": "9999-12-31 23:5"
                                },
                                {
                                    "ColorID": "102",
                                    "ColorName": "Emerald Green",
                                    "LastEditedBy": "Admin",
                                    "Validfrom": "2024-01-01",
                                    "Validto": "2025-01-01"
                                }
                            ]
                        },
                        "text/html": [
                            "<table>",
                            "<tr><th>ColorID</th><th>ColorName</th><th>LastEditedBy</th><th>Validfrom</th><th>Validto</th></tr>",
                            "<tr><td>1</td><td>Azure</td><td>Manager</td><td>2024-10-29 03:1</td><td>9999-12-31 23:5</td></tr>",
                            "<tr><td>2</td><td>Beige</td><td>Manager</td><td>2013-01-01 00:0</td><td>9999-12-31 23:5</td></tr>",
                            "<tr><td>3</td><td>Black</td><td>Manager</td><td>2013-01-01 00:0</td><td>9999-12-31 23:5</td></tr>",
                            "<tr><td>4</td><td>Blue</td><td>Manager</td><td>2013-01-01 00:0</td><td>9999-12-31 23:5</td></tr>",
                            "<tr><td>5</td><td>Charcoal</td><td>Manager</td><td>2013-01-01 00:0</td><td>9999-12-31 23:5</td></tr>",
                            "<tr><td>16</td><td>Khaki</td><td>1</td><td>2013-01-01 00:0</td><td>9999-12-31 23:5</td></tr>",
                            "<tr><td>17</td><td>Lavender</td><td>1</td><td>2013-01-01 00:0</td><td>9999-12-31 23:5</td></tr>",
                            "<tr><td>18</td><td>Light Brown</td><td>1</td><td>2013-01-01 00:0</td><td>9999-12-31 23:5</td></tr>",
                            "<tr><td>19</td><td>Light Green</td><td>1</td><td>2013-01-01 00:0</td><td>9999-12-31 23:5</td></tr>",
                            "<tr><td>20</td><td>Maroon</td><td>1</td><td>2013-01-01 00:0</td><td>9999-12-31 23:5</td></tr>",
                            "<tr><td>21</td><td>Mauve</td><td>1</td><td>2013-01-01 00:0</td><td>9999-12-31 23:5</td></tr>",
                            "<tr><td>22</td><td>Deep Blue</td><td>1</td><td>2013-01-01 00:0</td><td>9999-12-31 23:5</td></tr>",
                            "<tr><td>23</td><td>Olive</td><td>1</td><td>2013-01-01 00:0</td><td>9999-12-31 23:5</td></tr>",
                            "<tr><td>24</td><td>Orange</td><td>1</td><td>2013-01-01 00:0</td><td>9999-12-31 23:5</td></tr>",
                            "<tr><td>25</td><td>Plum</td><td>1</td><td>2013-01-01 00:0</td><td>9999-12-31 23:5</td></tr>",
                            "<tr><td>26</td><td>Puce</td><td>1</td><td>2013-01-01 00:0</td><td>9999-12-31 23:5</td></tr>",
                            "<tr><td>27</td><td>Purple</td><td>1</td><td>2013-01-01 00:0</td><td>9999-12-31 23:5</td></tr>",
                            "<tr><td>28</td><td>Red</td><td>1</td><td>2013-01-01 00:0</td><td>9999-12-31 23:5</td></tr>",
                            "<tr><td>29</td><td>Royal Blue</td><td>1</td><td>2013-01-01 00:0</td><td>9999-12-31 23:5</td></tr>",
                            "<tr><td>30</td><td>Salmon</td><td>1</td><td>2013-01-01 00:0</td><td>9999-12-31 23:5</td></tr>",
                            "<tr><td>31</td><td>Silver</td><td>1</td><td>2013-01-01 00:0</td><td>9999-12-31 23:5</td></tr>",
                            "<tr><td>32</td><td>Tan</td><td>1</td><td>2013-01-01 00:0</td><td>9999-12-31 23:5</td></tr>",
                            "<tr><td>33</td><td>Teal</td><td>1</td><td>2013-01-01 00:0</td><td>9999-12-31 23:5</td></tr>",
                            "<tr><td>34</td><td>Wheat</td><td>1</td><td>2013-01-01 00:0</td><td>9999-12-31 23:5</td></tr>",
                            "<tr><td>35</td><td>White</td><td>1</td><td>2013-01-01 00:0</td><td>9999-12-31 23:5</td></tr>",
                            "<tr><td>36</td><td>Yellow</td><td>1</td><td>2013-01-01 00:0</td><td>9999-12-31 23:5</td></tr>",
                            "<tr><td>102</td><td>Emerald Green</td><td>Admin</td><td>2024-01-01</td><td>2025-01-01</td></tr>",
                            "</table>"
                        ]
                    }
                }
            ],
            "execution_count": 147
        },
        {
            "cell_type": "code",
            "source": [
                "USE WideWorldImporters\n",
                "DROP TABLE IF EXISTS dbo.Colors\n",
                "CREATE TABLE dbo.Colors\n",
                "(\n",
                "ColorID INT NOT NULL PRIMARY KEY,\n",
                "ColorName NVARCHAR(40) NULL,\n",
                "LastEditedBy NVARCHAR(15) NULL,\n",
                "Validfrom NVARCHAR(15) NULL,\n",
                "Validto NVARCHAR(15) NULL\n",
                ");"
            ],
            "metadata": {
                "azdata_cell_guid": "addb6d30-0814-4fa6-be88-2d967c137274",
                "language": "sql",
                "tags": []
            },
            "outputs": [
                {
                    "output_type": "display_data",
                    "data": {
                        "text/html": "Commands completed successfully."
                    },
                    "metadata": {}
                },
                {
                    "output_type": "display_data",
                    "data": {
                        "text/html": "Total execution time: 00:00:00.064"
                    },
                    "metadata": {}
                }
            ],
            "execution_count": 134
        },
        {
            "cell_type": "code",
            "source": [
                "USE WideWorldImporters\n",
                "INSERT INTO dbo.Colors (ColorID, ColorName, LastEditedBy, Validfrom, Validto)\n",
                "SELECT ColorID, ColorName, LastEditedBy, Validfrom, Validto\n",
                "FROM Warehouse.Colors;"
            ],
            "metadata": {
                "azdata_cell_guid": "05e80d6a-bcaa-4cf2-b505-5eea07d21246",
                "language": "sql"
            },
            "outputs": [
                {
                    "output_type": "error",
                    "evalue": "Msg 2627, Level 14, State 1, Line 2\nViolation of PRIMARY KEY constraint 'PK__Colors__8DA7676DE3E3CEB9'. Cannot insert duplicate key in object 'dbo.Colors'. The duplicate key value is (1).",
                    "ename": "",
                    "traceback": []
                },
                {
                    "output_type": "display_data",
                    "data": {
                        "text/html": "The statement has been terminated."
                    },
                    "metadata": {}
                },
                {
                    "output_type": "display_data",
                    "data": {
                        "text/html": "Total execution time: 00:00:00.030"
                    },
                    "metadata": {}
                }
            ],
            "execution_count": 140
        },
        {
            "cell_type": "code",
            "source": [
                "TRUNCATE TABLE dbo.Colors;"
            ],
            "metadata": {
                "azdata_cell_guid": "8a629a79-0db4-4167-8de8-eac75e01f750",
                "language": "sql"
            },
            "outputs": [
                {
                    "output_type": "display_data",
                    "data": {
                        "text/html": "Commands completed successfully."
                    },
                    "metadata": {}
                },
                {
                    "output_type": "display_data",
                    "data": {
                        "text/html": "Total execution time: 00:00:00.027"
                    },
                    "metadata": {}
                }
            ],
            "execution_count": 132
        },
        {
            "cell_type": "markdown",
            "source": [
                "Proposition 7: Update statement to update one of the data."
            ],
            "metadata": {
                "azdata_cell_guid": "ec8236f4-9f75-4b22-b59c-b9f6a16bb34e"
            },
            "attachments": {}
        },
        {
            "cell_type": "code",
            "source": [
                "USE WideWorldImporters\n",
                "UPDATE dbo.Colors\n",
                "SET ColorName = 'Deep Blue'\n",
                "WHERE ColorID = 22;\n",
                ""
            ],
            "metadata": {
                "azdata_cell_guid": "94d8f3c5-c176-4568-88e8-4839ecaf28bd",
                "language": "sql"
            },
            "outputs": [
                {
                    "output_type": "display_data",
                    "data": {
                        "text/html": "(1 row affected)"
                    },
                    "metadata": {}
                },
                {
                    "output_type": "display_data",
                    "data": {
                        "text/html": "Total execution time: 00:00:00.044"
                    },
                    "metadata": {}
                }
            ],
            "execution_count": 137
        },
        {
            "cell_type": "markdown",
            "source": [
                "Proposition 8: Using OFFSET and FETCH NEXT and DELETION to delete specific rows of data."
            ],
            "metadata": {
                "azdata_cell_guid": "fe663258-e12e-4646-9ff6-05a43c8a5c55"
            },
            "attachments": {}
        },
        {
            "cell_type": "code",
            "source": [
                "USE WideWorldImporters\n",
                "DELETE FROM dbo.Colors\n",
                "WHERE ColorID IN (\n",
                "    SELECT ColorID\n",
                "    FROM dbo.Colors\n",
                "    ORDER BY ColorID\n",
                "    OFFSET 5 ROWS FETCH NEXT 10 ROWS ONLY\n",
                ");\n",
                ""
            ],
            "metadata": {
                "azdata_cell_guid": "7f864f01-7c60-4b44-930d-aafadb091f36",
                "language": "sql"
            },
            "outputs": [
                {
                    "output_type": "display_data",
                    "data": {
                        "text/html": "(10 rows affected)"
                    },
                    "metadata": {}
                },
                {
                    "output_type": "display_data",
                    "data": {
                        "text/html": "Total execution time: 00:00:00.111"
                    },
                    "metadata": {}
                }
            ],
            "execution_count": 141
        },
        {
            "cell_type": "markdown",
            "source": [
                "Proposition 9: Update and TOP to update multiple data at once"
            ],
            "metadata": {
                "azdata_cell_guid": "888bcb97-c83f-46b8-9a6f-b09ad49ed413"
            },
            "attachments": {}
        },
        {
            "cell_type": "code",
            "source": [
                "USE WideWorldImporters\n",
                "UPDATE TOP (5) dbo.Colors\n",
                "SET LastEditedBy = 'Manager'\n",
                "WHERE ColorID < 50;\n",
                ""
            ],
            "metadata": {
                "azdata_cell_guid": "1d27b7ea-063e-4ae6-a086-9c84862e7c67",
                "language": "sql"
            },
            "outputs": [
                {
                    "output_type": "display_data",
                    "data": {
                        "text/html": "(5 rows affected)"
                    },
                    "metadata": {}
                },
                {
                    "output_type": "display_data",
                    "data": {
                        "text/html": "Total execution time: 00:00:00.034"
                    },
                    "metadata": {}
                }
            ],
            "execution_count": 144
        },
        {
            "cell_type": "markdown",
            "source": [
                "Proposition 10: Using CTE to insert a new color"
            ],
            "metadata": {
                "azdata_cell_guid": "aa122765-61d7-4453-aff3-deca37a9df98"
            },
            "attachments": {}
        },
        {
            "cell_type": "code",
            "source": [
                "USE WideWorldImporters;\n",
                "WITH NewColor AS (\n",
                "    SELECT 102 AS ColorID, 'Emerald Green' AS ColorName, 'Admin' AS LastEditedBy, \n",
                "           '2024-01-01' AS Validfrom, '2025-01-01' AS Validto\n",
                ")\n",
                "INSERT INTO dbo.Colors (ColorID, ColorName, LastEditedBy, Validfrom, Validto)\n",
                "SELECT * FROM NewColor;\n",
                "\n",
                ""
            ],
            "metadata": {
                "azdata_cell_guid": "f1756623-aff2-4e75-b142-a835d9c21577",
                "language": "sql",
                "tags": []
            },
            "outputs": [
                {
                    "output_type": "display_data",
                    "data": {
                        "text/html": "(1 row affected)"
                    },
                    "metadata": {}
                },
                {
                    "output_type": "display_data",
                    "data": {
                        "text/html": "Total execution time: 00:00:00.052"
                    },
                    "metadata": {}
                }
            ],
            "execution_count": 146
        }
    ]
}
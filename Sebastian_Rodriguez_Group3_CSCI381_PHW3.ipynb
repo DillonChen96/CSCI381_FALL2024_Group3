{
    "metadata": {
        "kernelspec": {
            "name": "SQL",
            "display_name": "SQL",
            "language": "sql"
        },
        "language_info": {
            "name": "sql",
            "version": ""
        }
    },
    "nbformat_minor": 2,
    "nbformat": 4,
    "cells": [
        {
            "cell_type": "code",
            "source": [
                "SELECT PurchaseOrderID, SupplierID, OrderDate\r\n",
                "FROM Purchasing.PurchaseOrders\r\n",
                "WHERE SupplierID IN (SELECT CustomerID\r\n",
                "                     FROM Sales.CustomerTransactions\r\n",
                "                     WHERE IsFinalized = 1);"
            ],
            "metadata": {
                "azdata_cell_guid": "6de7526c-08bb-4c18-a528-f003af80e393",
                "language": "sql"
            },
            "outputs": [],
            "execution_count": null
        },
        {
            "cell_type": "markdown",
            "source": [
                "<span style=\"color: #008000;\">The inner query finds all the customer Ids with finalized transactions and</span>\n",
                "\n",
                "<span style=\"color: #008000;\">the outer query retrives purchases orders where the supplier ID is in the list of CustomerIds form the innner query</span>"
            ],
            "metadata": {
                "language": "sql",
                "azdata_cell_guid": "927cb5a6-9c3a-4a32-8057-bc1adf721023"
            },
            "attachments": {}
        },
        {
            "cell_type": "code",
            "source": [
                "SELECT CustomerTransactionID, CustomerID, TransactionDate, TransactionAmount\r\n",
                "FROM Sales.CustomerTransactions AS CT1\r\n",
                "WHERE EXISTS (SELECT 1\r\n",
                "              FROM Sales.CustomerTransactions AS CT2\r\n",
                "              WHERE CT1.CustomerID = CT2.CustomerID\r\n",
                "              AND CT1.TransactionDate = CT2.TransactionDate\r\n",
                "              AND CT1.CustomerTransactionID <> CT2.CustomerTransactionID);"
            ],
            "metadata": {
                "azdata_cell_guid": "58dae9f0-37e8-4c68-92ae-5cd3f28c4f70",
                "language": "sql"
            },
            "outputs": [],
            "execution_count": null
        },
        {
            "cell_type": "markdown",
            "source": [
                "<span style=\"color: #008000;\">This correlated subquery finds all the customers who made more than one tranaction on one day</span>\n",
                "\n",
                "<span style=\"color: #008000;\">the subquery checks whether there exists another transaction in the sub query</span>\n",
                "\n",
                "<span style=\"color: #008000;\">by the same customer in the outer query by comparing CT1 and CT2</span>"
            ],
            "metadata": {
                "language": "sql",
                "azdata_cell_guid": "9a0c724f-cc1f-4184-bd54-66ab7005b22a"
            },
            "attachments": {}
        },
        {
            "cell_type": "code",
            "source": [
                "SELECT CustomerTransactionID, CustomerID, TransactionAmount\r\n",
                "FROM Sales.CustomerTransactions\r\n",
                "WHERE TransactionAmount > (SELECT AVG(TransactionAmount) FROM Sales.CustomerTransactions);"
            ],
            "metadata": {
                "azdata_cell_guid": "537a7fb6-2600-4719-8284-7f913b811dcd",
                "language": "sql"
            },
            "outputs": [],
            "execution_count": null
        },
        {
            "cell_type": "markdown",
            "source": [
                "<span style=\"color: #008000;\">This subquery returns the transaction ammounts that are above the average</span>"
            ],
            "metadata": {
                "azdata_cell_guid": "b971041c-af5e-4901-b50d-e732359f96e7"
            },
            "attachments": {}
        },
        {
            "cell_type": "code",
            "source": [
                "SELECT PurchaseOrderID, SupplierID, OrderDate\r\n",
                "FROM [Purchasing].[PurchaseOrders]\r\n",
                "WHERE OrderDate > (SELECT MAX(TransactionDate) \r\n",
                "                   FROM [Sales].[CustomerTransactions]);"
            ],
            "metadata": {
                "azdata_cell_guid": "2c773b6e-5576-4771-99c7-9c181c52f3e8",
                "language": "sql"
            },
            "outputs": [],
            "execution_count": null
        },
        {
            "cell_type": "markdown",
            "source": [
                "<span style=\"color: #008000;\">The inner query gets the latest tranaction date and the outer</span>\n",
                "\n",
                "<span style=\"color: #008000;\">query gets all purchase orders with an OrderDate later than the max tranaction date</span>"
            ],
            "metadata": {
                "azdata_cell_guid": "b9320edb-c7af-4ec5-bd1c-f85b3f1bbddd"
            },
            "attachments": {}
        },
        {
            "cell_type": "code",
            "source": [
                "SELECT PurchaseOrderID, SupplierID, DeliveryMethodID\r\n",
                "FROM Purchasing.PurchaseOrders PO1\r\n",
                "WHERE DeliveryMethodID = (SELECT TOP 1 DeliveryMethodID \r\n",
                "                          FROM Purchasing.PurchaseOrders PO2\r\n",
                "                          WHERE PO1.SupplierID = PO2.SupplierID);"
            ],
            "metadata": {
                "azdata_cell_guid": "6580042d-dd68-4c9f-8f88-48239cfe70a1",
                "language": "sql"
            },
            "outputs": [],
            "execution_count": null
        },
        {
            "cell_type": "markdown",
            "source": [
                "<span style=\"color: #008000;\">Gets the delivery methodID of the same supplier for the inner query</span>\n",
                "\n",
                "<span style=\"color: #008000;\">does this by referencing PO1.SupplierID from outer query</span>"
            ],
            "metadata": {
                "azdata_cell_guid": "cb45d0ab-26ba-49e6-8790-d4520aa5fc0c"
            },
            "attachments": {}
        },
        {
            "cell_type": "code",
            "source": [
                "SELECT StockItemID, TotalStock, LastStocktakeQuantity\r\n",
                "FROM (\r\n",
                "    SELECT StockItemID, SUM(QuantityOnHand) AS TotalStock, LastStocktakeQuantity\r\n",
                "    FROM [Warehouse].[StockItemHoldings]\r\n",
                "    WHERE QuantityOnHand > 50\r\n",
                "    GROUP BY StockItemID, LastStocktakeQuantity\r\n",
                ") AS StockSummary;"
            ],
            "metadata": {
                "azdata_cell_guid": "a7cabfce-42cc-45f4-a96c-99f8af58517a",
                "language": "sql"
            },
            "outputs": [],
            "execution_count": null
        },
        {
            "cell_type": "markdown",
            "source": [
                "<span style=\"color: #008000;\">Gets the total stock on hand with a stock level above 50</span>"
            ],
            "metadata": {
                "azdata_cell_guid": "ed8a72ef-8379-4ca9-9b14-70b3ec9d3fa0"
            },
            "attachments": {}
        },
        {
            "cell_type": "code",
            "source": [
                "SELECT CustomerID, SUM(TaxAmount) AS TotalTax\r\n",
                "FROM [Sales].[CustomerTransactions]\r\n",
                "GROUP BY CustomerID\r\n",
                "HAVING SUM(TaxAmount) > 500;"
            ],
            "metadata": {
                "azdata_cell_guid": "5f145fe2-9b63-46b5-acce-c6a2ab2d0faa",
                "language": "sql"
            },
            "outputs": [],
            "execution_count": null
        },
        {
            "cell_type": "markdown",
            "source": [
                "<span style=\"color: #008000;\">Finds customers whose total tax amount for all transaction is above 500 dollars</span>"
            ],
            "metadata": {
                "azdata_cell_guid": "ef898ebe-9100-4fd6-b3d0-0e92882e95eb"
            },
            "attachments": {}
        },
        {
            "cell_type": "code",
            "source": [
                "WITH CustomerPaymentMethods AS (\r\n",
                "    SELECT CustomerID, COUNT(DISTINCT PaymentMethodID) AS PaymentMethodCount\r\n",
                "    FROM [Sales].[CustomerTransactions]\r\n",
                "    GROUP BY CustomerID\r\n",
                ")\r\n",
                "SELECT CustomerID\r\n",
                "FROM CustomerPaymentMethods\r\n",
                "WHERE PaymentMethodCount > 1;"
            ],
            "metadata": {
                "azdata_cell_guid": "bbbf894d-c38a-46d9-96c4-5f7eb43b03e4",
                "language": "sql"
            },
            "outputs": [],
            "execution_count": null
        },
        {
            "cell_type": "markdown",
            "source": [
                "<span style=\"color: #008000;\">Gets all customers who have used more than one payment</span>"
            ],
            "metadata": {
                "azdata_cell_guid": "cbf004c7-509e-4827-8ad5-53fd1e750cbb"
            },
            "attachments": {}
        },
        {
            "cell_type": "code",
            "source": [
                "WITH UnfinalizedTransactions AS (\r\n",
                "    SELECT InvoiceID, CustomerTransactionID, IsFinalized\r\n",
                "    FROM [Sales].[CustomerTransactions]\r\n",
                "    WHERE IsFinalized = 0\r\n",
                ")\r\n",
                "SELECT UT.InvoiceID, UT.CustomerTransactionID\r\n",
                "FROM UnfinalizedTransactions UT\r\n",
                "JOIN [Sales].[Invoices] I \r\n",
                "    ON UT.InvoiceID = I.InvoiceID;"
            ],
            "metadata": {
                "azdata_cell_guid": "ac624bdc-319d-43ab-ad36-4391a684f348",
                "language": "sql"
            },
            "outputs": [],
            "execution_count": null
        },
        {
            "cell_type": "markdown",
            "source": [
                "<span style=\"color: #008000;\">Gets all invoices of customer tranactions but are not finalized</span>"
            ],
            "metadata": {
                "azdata_cell_guid": "c6c55398-9d96-43c3-93a7-1e1d2c472d2b"
            },
            "attachments": {}
        },
        {
            "cell_type": "code",
            "source": [
                "WITH CustomerTransactionCounts AS (\r\n",
                "    SELECT CustomerID, COUNT(*) AS TransactionCount, AVG(TransactionAmount) AS AvgTransactionAmount\r\n",
                "    FROM [Sales].[CustomerTransactions]\r\n",
                "    WHERE IsFinalized = 1\r\n",
                "    GROUP BY CustomerID\r\n",
                ")\r\n",
                "SELECT CustomerID, TransactionCount, AvgTransactionAmount\r\n",
                "FROM CustomerTransactionCounts\r\n",
                "WHERE TransactionCount > 3\r\n",
                "ORDER BY AvgTransactionAmount DESC;"
            ],
            "metadata": {
                "azdata_cell_guid": "6596c677-b5bc-4614-aa16-5bea220cb09b",
                "language": "sql"
            },
            "outputs": [],
            "execution_count": null
        },
        {
            "cell_type": "markdown",
            "source": [
                "<span style=\"color: #008000;\">This query gets us the CTE or CustomerTransactionCount and retrieves each</span>\n",
                "\n",
                "<span style=\"color: #008000;\">customerID with finalized accounts and aver transaction amount over 3</span>"
            ],
            "metadata": {
                "azdata_cell_guid": "8c95be61-e503-4be1-ae50-5161834c479c"
            },
            "attachments": {}
        }
    ]
}
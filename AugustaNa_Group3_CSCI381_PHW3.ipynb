{
    "cells": [
        {
            "cell_type": "code",
            "execution_count": null,
            "metadata": {
                "azdata_cell_guid": "4b5f8a6d-fa10-40f7-8ba1-95861ad778f1",
                "language": "sql",
                "tags": [
                    "hide_input"
                ]
            },
            "outputs": [],
            "source": [
                "USE TSQLV4;\n",
                "GO\n",
                "WITH EOY AS (\n",
                "    SELECT *\n",
                "    , DATEFROMPARTS(YEAR(orderdate), 12, 31) AS endofyear\n",
                "    FROM Sales.Orders\n",
                ")\n",
                "SELECT orderid, orderdate, custid, empid, endofyear\n",
                "FROM EOY\n",
                "WHERE orderdate <> endofyear;\n"
            ]
        },
        {
            "attachments": {},
            "cell_type": "markdown",
            "metadata": {
                "azdata_cell_guid": "cc61fd27-9751-49b9-973f-d5d2093621ee"
            },
            "source": [
                "Proposition 1: Find average number of orders per customer using a subquarey then find those customers who have a lower than average order count.\n",
                "\n",
                "1. Using a CTE we get the order count by counting the repeating <mark>OrderID</mark>'s in <mark>Sales.Orders</mark> then group by <mark>CustomerID</mark>\n",
                "2. We find the case when the numbers we order counted is less than the average number of orders which we respectfully out put 'Less then avg' or 'Not less then avg'\n",
                "\n",
                "Use Case:\n",
                "\n",
                "> This is good to target customers who aren't ordering as many as the average and can be used for increasing overall sales."
            ]
        },
        {
            "cell_type": "code",
            "execution_count": null,
            "metadata": {
                "azdata_cell_guid": "4221bbe3-ce3a-4b51-b36b-c504db12ab61",
                "language": "sql",
                "tags": []
            },
            "outputs": [],
            "source": [
                "USE WideWorldImporters\n",
                "\n",
                "WITH NOO AS (\n",
                "    SELECT CustomerID, COUNT(OrderID) AS Numbers_of_orders\n",
                "    FROM Sales.Orders\n",
                "    GROUP BY CustomerID\n",
                ")\n",
                "SELECT CustomerID, Numbers_of_orders,\n",
                "       CASE WHEN Numbers_of_orders < (\n",
                "        SELECT AVG(Numbers_of_orders) \n",
                "        FROM NOO) \n",
                "        THEN 'Less then avg' \n",
                "        ELSE 'Not less then avg' \n",
                "        END AS LTA\n",
                "FROM NOO\n"
            ]
        },
        {
            "attachments": {},
            "cell_type": "markdown",
            "metadata": {
                "azdata_cell_guid": "f06b96d1-81c8-466a-8cc7-07a94c810b1e"
            },
            "source": [
                "Proposition 2: List products with price above the average price of all products\n",
                "\n",
                "1. Using a simple subquary we find the avg unit price and filter the ones above average.\n",
                "\n",
                "Use case: This information helps identify if we are targeting a high income house hold or a lower house hold while also being able to see and adjust the overall retail pricings."
            ]
        },
        {
            "cell_type": "code",
            "execution_count": null,
            "metadata": {
                "azdata_cell_guid": "af0bdd6b-54fe-4934-9b16-d7ab80a406e0",
                "language": "sql",
                "tags": []
            },
            "outputs": [],
            "source": [
                "USE WideWorldImporters\n",
                "\n",
                "SELECT StockItemID, StockItemName, UnitPrice\n",
                "FROM Warehouse.StockItems\n",
                "WHERE UnitPrice > (\n",
                "    SELECT AVG(UnitPrice) --Average is 44.16\n",
                "    FROM Warehouse.StockItems \n",
                ")"
            ]
        },
        {
            "attachments": {},
            "cell_type": "markdown",
            "metadata": {
                "azdata_cell_guid": "1be54a21-f839-4175-b9a4-e0e5ec7b4aae"
            },
            "source": [
                "Proposition 3: Find the latest order for each Customer\n",
                "\n",
                "1. Using the MAX(<mark>OrderDate</mark>) we are able to find the most recent date.\n",
                "2. Where clause to find only the <mark>OrderDate</mark>s IN the subquary \n",
                "3. Orderby DESC appropriately\n",
                "\n",
                "Use case: Good to see in detail how the customers are ordering."
            ]
        },
        {
            "cell_type": "code",
            "execution_count": null,
            "metadata": {
                "azdata_cell_guid": "174fa928-ebf1-49ae-bc52-2d7d90a3c816",
                "language": "sql"
            },
            "outputs": [],
            "source": [
                "USE WideWorldImporters\n",
                "\n",
                "SELECT \n",
                "    CustomerID, \n",
                "    OrderID, \n",
                "    OrderDate\n",
                "FROM Sales.Orders AS o\n",
                "WHERE OrderDate IN (\n",
                "    SELECT MAX(OrderDate)\n",
                "    FROM Sales.Orders\n",
                "    WHERE CustomerID = o.CustomerID\n",
                ")\n",
                "ORDER BY OrderDate DESC;"
            ]
        },
        {
            "attachments": {},
            "cell_type": "markdown",
            "metadata": {
                "azdata_cell_guid": "c44d31c9-4231-4ad0-a124-d9a59cccc29c"
            },
            "source": [
                "Proposition 4: List customers with their total number of orders using a CTE.\n",
                "\n",
                "1. Using CTE we count the <mark>TotalOrders</mark> and group by <mark>CustomerID</mark> appropriately \n",
                "2. Join Customers and Order tables to find the appropriate name that match their ID\n",
                "\n",
                "Use Case: The CTE is good globaly and can be used for other propositions."
            ]
        },
        {
            "cell_type": "code",
            "execution_count": null,
            "metadata": {
                "azdata_cell_guid": "e378cf49-3c42-4c74-b188-70608384b1a1",
                "language": "sql",
                "tags": []
            },
            "outputs": [],
            "source": [
                "USE WideWorldImporters;\n",
                "\n",
                "WITH CustomerOrders AS (\n",
                "    SELECT \n",
                "        CustomerID, \n",
                "        COUNT(OrderID) AS TotalOrders\n",
                "    FROM Sales.Orders\n",
                "    GROUP BY CustomerID\n",
                ")\n",
                "SELECT \n",
                "    c.CustomerID,\n",
                "    c.CustomerName,\n",
                "    co.TotalOrders\n",
                "FROM \n",
                "    Sales.Customers AS c\n",
                "JOIN\n",
                "    CustomerOrders AS co ON c.CustomerID = co.CustomerID"
            ]
        },
        {
            "attachments": {},
            "cell_type": "markdown",
            "metadata": {
                "azdata_cell_guid": "c25adb79-6238-4bf6-8605-588d9deecdf5"
            },
            "source": [
                "Propositon 5: Count of products supplied by each supplier using CTE\n",
                "\n",
                "1. Find the amount of products supplied by each supplier by counting their ID in the stockItems table.\n",
                "2. GroupBY SupplierID in the CTE\n",
                "\n",
                "Use Case: Finds out which supplier is doing the most in terms of quantity per unique item."
            ]
        },
        {
            "cell_type": "code",
            "execution_count": null,
            "metadata": {
                "azdata_cell_guid": "4d5db8cf-0a9e-48d6-8551-52ee8c621c82",
                "language": "sql"
            },
            "outputs": [],
            "source": [
                "USE WideWorldImporters;\n",
                "\n",
                "WITH SupplierCount AS (\n",
                "    SELECT \n",
                "        SupplierID,\n",
                "        COUNT(SupplierID) AS ProductCount\n",
                "    FROM \n",
                "        Warehouse.StockItems\n",
                "    GROUP BY \n",
                "        SupplierID\n",
                ")\n",
                "SELECT \n",
                "    SupplierID,\n",
                "    ProductCount\n",
                "FROM \n",
                "    SupplierCount;\n"
            ]
        },
        {
            "attachments": {},
            "cell_type": "markdown",
            "metadata": {
                "azdata_cell_guid": "80d88db1-0f70-48cc-9def-d4cb18963e78"
            },
            "source": [
                "Proposition 6: Find orders with more than the average number of orderlines\n",
                "\n",
                "1. count the orderlineID's as orderlinecount and group by orderid\n",
                "2. Use having instead of where because of the timing.\n",
                "3. We compare the orderlinecounts that are greater than the avg count\n",
                "\n",
                "Use Case: It is good to identify high volume orders"
            ]
        },
        {
            "cell_type": "code",
            "execution_count": null,
            "metadata": {
                "azdata_cell_guid": "6ea94b6f-2b52-4202-a126-d369b4ad8f98",
                "language": "sql"
            },
            "outputs": [],
            "source": [
                "USE WideWorldImporters;\n",
                "\n",
                "SELECT OrderID, COUNT(OrderLineID) AS OrderLineCount\n",
                "FROM Sales.OrderLines\n",
                "GROUP BY OrderID\n",
                "HAVING COUNT(OrderLineID) > (\n",
                "    SELECT AVG(OrderLineCount)\n",
                "    FROM (\n",
                "        SELECT COUNT(OrderLineID) AS OrderLineCount\n",
                "        FROM Sales.OrderLines\n",
                "        GROUP BY OrderID\n",
                "    ) AS AvgOrderLines\n",
                ");\n"
            ]
        },
        {
            "attachments": {},
            "cell_type": "markdown",
            "metadata": {
                "azdata_cell_guid": "f804d43b-2281-4c9b-932e-3d46ef80481c"
            },
            "source": [
                "Proposition 7: Find the most expensive product per supplier using CTE\n",
                "\n",
                "1. Find the most expensive item by the supplier grouping by supplierId\n",
                "2. Then join stockitems and maxprices finding specifically the items that are the most expensive\n",
                "\n",
                "Use Case: Finds the supplier that ships the most pricy item."
            ]
        },
        {
            "cell_type": "code",
            "execution_count": null,
            "metadata": {
                "azdata_cell_guid": "81acba17-d099-4083-8d54-70004b1416b4",
                "language": "sql"
            },
            "outputs": [],
            "source": [
                "USE WideWorldImporters;\n",
                "\n",
                "WITH MaxPrices AS (\n",
                "    SELECT \n",
                "        SupplierID,\n",
                "        MAX(UnitPrice) AS MaxUnitPrice\n",
                "    FROM \n",
                "        Warehouse.StockItems\n",
                "    GROUP BY \n",
                "        SupplierID\n",
                ")\n",
                "\n",
                "SELECT \n",
                "    si.SupplierID, \n",
                "    si.StockItemID, \n",
                "    si.UnitPrice\n",
                "FROM \n",
                "    Warehouse.StockItems AS si\n",
                "JOIN \n",
                "    MaxPrices AS mp ON si.SupplierID = mp.SupplierID AND si.UnitPrice = mp.MaxUnitPrice;\n"
            ]
        },
        {
            "attachments": {},
            "cell_type": "markdown",
            "metadata": {
                "azdata_cell_guid": "bc2ce2a1-171d-4446-a001-b715b6a57d74"
            },
            "source": [
                "Proposition 8: Find the total number of orders place by each customer\n",
                "\n",
                "1. The CTE calculates the total number of orders for each customers\n",
                "2. Left join the customers and orders to include all customers\n",
                "3. count order id and group by the customerid and name\n",
                "\n",
                "Use Case: The CTE is useful for other quary's and is good to know total number of orders per customer."
            ]
        },
        {
            "cell_type": "code",
            "execution_count": null,
            "metadata": {
                "azdata_cell_guid": "253d69e2-4600-4e63-ae32-5ae8ea7047a8",
                "language": "sql",
                "tags": []
            },
            "outputs": [],
            "source": [
                "USE WideWorldImporters;\n",
                "\n",
                "WITH CustomerOrderCounts AS (\n",
                "    SELECT \n",
                "        C.CustomerID, \n",
                "        C.CustomerName,\n",
                "        COUNT(O.OrderID) AS TotalOrders\n",
                "    FROM \n",
                "        Sales.Customers AS C\n",
                "    LEFT JOIN \n",
                "        Sales.Orders AS O ON C.CustomerID = O.CustomerID\n",
                "    GROUP BY \n",
                "        C.CustomerID, C.CustomerName\n",
                ")\n",
                "\n",
                "SELECT \n",
                "    CustomerID, \n",
                "    CustomerName, \n",
                "    TotalOrders\n",
                "FROM \n",
                "    CustomerOrderCounts\n",
                "\n"
            ]
        },
        {
            "attachments": {},
            "cell_type": "markdown",
            "metadata": {
                "azdata_cell_guid": "b1fd9476-1cc0-4616-af98-c7934c53dee4"
            },
            "source": [
                "<span style=\"font-family: -apple-system, BlinkMacSystemFont, sans-serif; color: var(--vscode-foreground);\">Proposition 9: List the orders by customers in the last month</span>  \n",
                "\n",
                "1.  inner quary joins both orderlines and order to access orderdate\n",
                "2. filters the result to include only yhoser orders where the orderdate is within the last month.\n",
                "\n",
                "Use case: Good to see what happened in the previous month"
            ]
        },
        {
            "cell_type": "code",
            "execution_count": null,
            "metadata": {
                "azdata_cell_guid": "d19f7037-130d-4b72-9fd3-b26644c3a16e",
                "language": "sql"
            },
            "outputs": [],
            "source": [
                "USE WideWorldImporters;\n",
                "\n",
                "SELECT \n",
                "    SI.StockItemID,\n",
                "    SI.StockItemName\n",
                "FROM \n",
                "    Warehouse.StockItems SI\n",
                "WHERE \n",
                "    SI.StockItemID IN (\n",
                "        SELECT OL.StockItemID\n",
                "        FROM Sales.OrderLines OL\n",
                "        JOIN Sales.Orders O ON OL.OrderID = O.OrderID\n",
                "        WHERE O.OrderDate >= DATEADD(MONTH, -1, 2013-01-01 ) --cannot use current date such as sysdate so a random date form the database was added\n",
                "    );\n"
            ]
        },
        {
            "attachments": {},
            "cell_type": "markdown",
            "metadata": {
                "azdata_cell_guid": "5fc18fb5-8329-47d0-bb3d-15d53a002ad3"
            },
            "source": [
                "Proposition 10: Retrive the avg order size for each customer\n",
                "\n",
                "1. Inside the cte find the total number of items for each order by sum(ol.quantity\n",
                "2. combine order and order line with join\n",
                "3. group by the cusomerid and orderid\n",
                "4. calculate the avg number of items ordered per customer\n",
                "\n",
                "Use case: good to have an idea of how many much people order"
            ]
        },
        {
            "cell_type": "code",
            "execution_count": null,
            "metadata": {
                "azdata_cell_guid": "e02aec56-902e-4cbc-b23f-13e438701dfa",
                "language": "sql"
            },
            "outputs": [],
            "source": [
                "USE WideWorldImporters;\n",
                "\n",
                "WITH OrderSizes AS (\n",
                "    SELECT \n",
                "        O.CustomerID,\n",
                "        O.OrderID,\n",
                "        SUM(OL.Quantity) AS TotalItems\n",
                "    FROM \n",
                "        Sales.Orders AS O\n",
                "    JOIN \n",
                "        Sales.OrderLines AS OL ON O.OrderID = OL.OrderID\n",
                "    GROUP BY \n",
                "        O.CustomerID, O.OrderID\n",
                ")\n",
                "\n",
                "SELECT \n",
                "    CustomerID,\n",
                "    AVG(TotalItems) AS AverageOrderSize\n",
                "FROM \n",
                "    OrderSizes\n",
                "GROUP BY \n",
                "    CustomerID;\n"
            ]
        }
    ],
    "metadata": {
        "kernelspec": {
            "display_name": "SQL",
            "language": "sql",
            "name": "SQL"
        },
        "language_info": {
            "name": "sql",
            "version": ""
        }
    },
    "nbformat": 4,
    "nbformat_minor": 2
}

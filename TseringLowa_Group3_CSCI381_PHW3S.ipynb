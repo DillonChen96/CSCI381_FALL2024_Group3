{
    "metadata": {
        "kernelspec": {
            "name": "SQL",
            "display_name": "SQL",
            "language": "sql"
        },
        "language_info": {
            "name": "sql",
            "version": ""
        }
    },
    "nbformat_minor": 2,
    "nbformat": 4,
    "cells": [
        {
            "cell_type": "markdown",
            "source": [
                "1. Retrieve all customers from the Sales.Customer table. Show customers who have placed orders from the Sales.SalesOrderHeader table and those who haven't."
            ],
            "metadata": {
                "azdata_cell_guid": "90490836-5f3f-4b24-a8dc-47ade20385ad"
            },
            "attachments": {}
        },
        {
            "cell_type": "code",
            "source": [
                "SELECT CustomerID FROM Sales.Customer\r\n",
                "INTERSECT\r\n",
                "SELECT CustomerID FROM Sales.SalesOrderHeader;\r\n",
                "\r\n",
                "SELECT CustomerID FROM Sales.Customer\r\n",
                "EXCEPT\r\n",
                "SELECT CustomerID FROM Sales.SalesOrderHeader;\r\n",
                ""
            ],
            "metadata": {
                "azdata_cell_guid": "adfb49b2-66f3-4b75-ad7c-566bf4fe9df6",
                "language": "sql"
            },
            "outputs": [],
            "execution_count": null
        }
    ]
}
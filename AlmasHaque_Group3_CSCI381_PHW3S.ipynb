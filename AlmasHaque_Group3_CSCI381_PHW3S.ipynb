{
    "metadata": {
        "kernelspec": {
            "name": "SQL",
            "display_name": "SQL",
            "language": "sql"
        },
        "language_info": {
            "name": "sql",
            "version": ""
        }
    },
    "nbformat_minor": 2,
    "nbformat": 4,
    "cells": [
        {
            "cell_type": "code",
            "source": [
                "SELECT EmailAddress\r\n",
                "FROM Person.EmailAddress ea\r\n",
                "JOIN Person.Person p ON ea.BusinessEntityID = p.BusinessEntityID\r\n",
                "JOIN HumanResources.Employee e ON p.BusinessEntityID = e.BusinessEntityID\r\n",
                "\r\n",
                "UNION ALL\r\n",
                "\r\n",
                "SELECT EmailAddress\r\n",
                "FROM Person.EmailAddress ea\r\n",
                "JOIN Person.Person p ON ea.BusinessEntityID = p.BusinessEntityID\r\n",
                "JOIN Sales.Customer c ON p.BusinessEntityID = c.PersonID;\r\n",
                ""
            ],
            "metadata": {
                "azdata_cell_guid": "4dee03a9-9aa2-40b2-9831-55494639f1d1",
                "language": "sql"
            },
            "outputs": [],
            "execution_count": null
        },
        {
            "cell_type": "markdown",
            "source": [
                "- **`SELECT EmailAddress`**: This retrieves the `EmailAddress` field from the result.\n",
                "- **`FROM Person.EmailAddress ea`**: This specifies that the data is coming from the `EmailAddress` table (aliased as `ea`).\n",
                "- **`JOIN Person.Person p ON ea.BusinessEntityID = p.BusinessEntityID`**: Joins the `Person` table to match the `BusinessEntityID` between the two tables.\n",
                "- **`JOIN HumanResources.Employee e ON p.BusinessEntityID = e.BusinessEntityID`**: Joins the `Employee` table to filter for employees.\n",
                "- **`UNION ALL`**: Combines this result with the next query, **allowing duplicates**.\n",
                "- **`SELECT EmailAddress`**: Selects the `EmailAddress` field again for customers.\n",
                "- **`FROM Person.EmailAddress ea`**: Specifies that the data comes from the `EmailAddress` table.\n",
                "- **`JOIN Person.Person p ON ea.BusinessEntityID = p.BusinessEntityID`**: Joins the `Person` table to match the `BusinessEntityID`.\n",
                "- **`JOIN Sales.Customer c ON p.BusinessEntityID = c.PersonID`**: Joins the `Customer` table to filter for customers."
            ],
            "metadata": {
                "language": "sql",
                "azdata_cell_guid": "366f2514-fe2e-43bb-90eb-14c7e30e3afd"
            },
            "attachments": {}
        },
        {
            "cell_type": "code",
            "source": [
                "SELECT PhoneNumber\r\n",
                "FROM Person.PersonPhone pp\r\n",
                "JOIN Person.Person p ON pp.BusinessEntityID = p.BusinessEntityID\r\n",
                "JOIN HumanResources.Employee e ON p.BusinessEntityID = e.BusinessEntityID\r\n",
                "\r\n",
                "UNION\r\n",
                "\r\n",
                "SELECT PhoneNumber\r\n",
                "FROM Person.PersonPhone pp\r\n",
                "JOIN Person.Person p ON pp.BusinessEntityID = p.BusinessEntityID\r\n",
                "JOIN Purchasing.Vendor v ON p.BusinessEntityID = v.BusinessEntityID;\r\n",
                ""
            ],
            "metadata": {
                "azdata_cell_guid": "cc2c8900-befb-41f2-864a-0e91cb48e674",
                "language": "sql"
            },
            "outputs": [],
            "execution_count": null
        },
        {
            "cell_type": "markdown",
            "source": [
                "- **`SELECT PhoneNumber`**: This retrieves the `PhoneNumber` field.\n",
                "- **`FROM Person.PersonPhone pp`**: Specifies that the data is coming from the `PersonPhone` table (aliased as `pp`).\n",
                "- **`JOIN Person.Person p ON pp.BusinessEntityID = p.BusinessEntityID`**: Joins the `Person` table to match the `BusinessEntityID`.\n",
                "- **`JOIN HumanResources.Employee e ON p.BusinessEntityID = e.BusinessEntityID`**: Joins the `Employee` table to filter for employees.\n",
                "- **`UNION`**: Combines this result with the next query and **removes duplicates**.\n",
                "- **`SELECT PhoneNumber`**: Selects the `PhoneNumber` field again.\n",
                "- **`FROM Person.PersonPhone pp`**: Specifies that the data comes from the `PersonPhone` table.\n",
                "- **`JOIN Person.Person p ON pp.BusinessEntityID = p.BusinessEntityID`**: Joins the `Person` table to match the `BusinessEntityID`.\n",
                "- **`JOIN Purchasing.Vendor v ON p.BusinessEntityID = v.BusinessEntityID`**: Joins the `Vendor` table to filter for vendors."
            ],
            "metadata": {
                "language": "sql",
                "azdata_cell_guid": "b2cafc61-3a16-4740-9fd1-96f43f0291f0"
            },
            "attachments": {}
        },
        {
            "cell_type": "code",
            "source": [
                "SELECT AddressID\r\n",
                "FROM Person.BusinessEntityAddress bea\r\n",
                "JOIN HumanResources.Employee e ON bea.BusinessEntityID = e.BusinessEntityID\r\n",
                "\r\n",
                "INTERSECT\r\n",
                "\r\n",
                "SELECT AddressID\r\n",
                "FROM Person.BusinessEntityAddress bea\r\n",
                "JOIN Sales.Customer c ON bea.BusinessEntityID = c.CustomerID;"
            ],
            "metadata": {
                "language": "sql",
                "azdata_cell_guid": "224fc525-7f04-4566-8662-3fed5c5f4cf2"
            },
            "outputs": [],
            "execution_count": null
        },
        {
            "cell_type": "markdown",
            "source": [
                "1. **`SELECT AddressID`**: This retrieves the `AddressID` field.\n",
                "2. **`FROM Person.BusinessEntityAddress bea`**: Specifies that the data is coming from the `BusinessEntityAddress` table (aliased as `bea`).\n",
                "3. **`JOIN HumanResources.Employee e ON bea.BusinessEntityID = e.BusinessEntityID`**: Joins the `Employee` table to filter for employee addresses.\n",
                "4. **`INTERSECT`**: Combines this result with the next query and returns **only the common addresses**.\n",
                "5. **`SELECT AddressID`**: Selects the `AddressID` field again.\n",
                "6. **`FROM Person.BusinessEntityAddress bea`**: Specifies that the data comes from the `BusinessEntityAddress` table.\n",
                "7. **`JOIN Sales.Customer c ON bea.BusinessEntityID = c.CustomerID`**: Joins the `Customer` table to filter for customer addresses."
            ],
            "metadata": {
                "language": "sql",
                "azdata_cell_guid": "3322dee5-4e13-4d5d-a655-33464720e275"
            },
            "attachments": {}
        },
        {
            "cell_type": "code",
            "source": [
                "SELECT BusinessEntityID\r\n",
                "FROM HumanResources.Employee\r\n",
                "\r\n",
                "EXCEPT\r\n",
                "\r\n",
                "SELECT BusinessEntityID\r\n",
                "FROM Sales.SalesPerson;\r\n",
                ""
            ],
            "metadata": {
                "language": "sql",
                "azdata_cell_guid": "e1ac795f-86f6-4c86-bde5-21decc176312"
            },
            "outputs": [],
            "execution_count": null
        },
        {
            "cell_type": "markdown",
            "source": [
                "- **`SELECT BusinessEntityID`**: This retrieves the `BusinessEntityID` field of employees.\n",
                "- **`FROM HumanResources.Employee`**: Specifies that the data is coming from the `Employee` table.\n",
                "- **`EXCEPT`**: Combines this result with the next query and **excludes** employees who are salespeople.\n",
                "- **`SELECT BusinessEntityID`**: Selects the `BusinessEntityID` field again.\n",
                "- **`FROM Sales.SalesPerson`**: Specifies that the data is coming from the `SalesPerson` table."
            ],
            "metadata": {
                "language": "sql",
                "azdata_cell_guid": "333be80a-303b-4f8d-8a6a-6501729e98c1"
            },
            "attachments": {}
        },
        {
            "cell_type": "code",
            "source": [
                "WITH Order1Products AS (\r\n",
                "    SELECT ProductID,\r\n",
                "           ROW_NUMBER() OVER(PARTITION BY ProductID ORDER BY (SELECT NULL)) AS rn\r\n",
                "    FROM Sales.SalesOrderDetail\r\n",
                "    WHERE SalesOrderID = 43659\r\n",
                "),\r\n",
                "Order2Products AS (\r\n",
                "    SELECT ProductID,\r\n",
                "           ROW_NUMBER() OVER(PARTITION BY ProductID ORDER BY (SELECT NULL)) AS rn\r\n",
                "    FROM Sales.SalesOrderDetail\r\n",
                "    WHERE SalesOrderID = 43660\r\n",
                "),\r\n",
                "ExceptAll AS (\r\n",
                "    SELECT ProductID, rn\r\n",
                "    FROM Order1Products\r\n",
                "\r\n",
                "    EXCEPT\r\n",
                "\r\n",
                "    SELECT ProductID, rn\r\n",
                "    FROM Order2Products\r\n",
                ")\r\n",
                "SELECT ProductID\r\n",
                "FROM ExceptAll\r\n",
                "ORDER BY ProductID;\r\n",
                ""
            ],
            "metadata": {
                "language": "sql",
                "azdata_cell_guid": "4539149a-072b-4d05-905f-7ace5d199554"
            },
            "outputs": [],
            "execution_count": null
        },
        {
            "cell_type": "markdown",
            "source": [
                "- **`WITH Order1Products AS`**: Starts a Common Table Expression (CTE) for products in the first order.\n",
                "- **`SELECT ProductID`**: Retrieves the `ProductID` field.\n",
                "- **`ROW_NUMBER() OVER(PARTITION BY ProductID ORDER BY (SELECT NULL)) AS rn`**: Generates a unique row number for each `ProductID`.\n",
                "- **`FROM Sales.SalesOrderDetail`**: Specifies the `SalesOrderDetail` table as the source.\n",
                "- **`WHERE SalesOrderID = 43659`**: Filters the data for the first sales order (ID = 43659).\n",
                "- **`WITH Order2Products AS`**: Starts another CTE for products in the second order.\n",
                "- **`SELECT ProductID`**: Retrieves the `ProductID` field again.\n",
                "- **`ROW_NUMBER() OVER(PARTITION BY ProductID ORDER BY (SELECT NULL)) AS rn`**: Generates a unique row number for each `ProductID`.\n",
                "- **`FROM Sales.SalesOrderDetail`**: Specifies the `SalesOrderDetail` table as the source.\n",
                "- **`WHERE SalesOrderID = 43660`**: Filters the data for the second sales order (ID = 43660).\n",
                "- **`SELECT ProductID, rn FROM Order1Products EXCEPT SELECT ProductID, rn FROM Order2Products`**: Compares the products from both orders and returns those in `Order1` but not in `Order2`.\n",
                "- **`SELECT ProductID FROM ExceptAll ORDER BY ProductID`**: Retrieves the `ProductID` field from the result and orders the output."
            ],
            "metadata": {
                "language": "sql",
                "azdata_cell_guid": "ba1d212a-38d4-4f05-9783-58775d42c7c1"
            },
            "attachments": {}
        },
        {
            "cell_type": "code",
            "source": [
                "SELECT BusinessEntityID\r\n",
                "FROM HumanResources.Employee\r\n",
                "WHERE JobTitle = 'Sales Representative'\r\n",
                "\r\n",
                "UNION\r\n",
                "\r\n",
                "SELECT BusinessEntityID\r\n",
                "FROM HumanResources.Employee\r\n",
                "WHERE JobTitle = 'Marketing Specialist'\r\n",
                "\r\n",
                "INTERSECT\r\n",
                "\r\n",
                "SELECT BusinessEntityID\r\n",
                "FROM Sales.SalesPerson;"
            ],
            "metadata": {
                "language": "sql",
                "azdata_cell_guid": "9615133f-7bad-4f99-b1b9-586e79d0ff45"
            },
            "outputs": [],
            "execution_count": null
        },
        {
            "cell_type": "markdown",
            "source": [
                "1. **`SELECT BusinessEntityID`**: Retrieves the `BusinessEntityID` of employees.\n",
                "2. **`FROM HumanResources.Employee`**: Specifies that the data is coming from the `Employee` table.\n",
                "3. **`WHERE JobTitle = 'Sales Representative'`**: Filters for employees whose job title is \"Sales Representative\".\n",
                "4. **`UNION`**: Combines the result with the next query and removes duplicates.\n",
                "5. **`SELECT BusinessEntityID`**: Selects the `BusinessEntityID` field again.\n",
                "6. **`FROM HumanResources.Employee`**: Specifies that the data is coming from the `Employee` table.\n",
                "7. **`WHERE JobTitle = 'Marketing Specialist'`**: Filters for employees whose job title is \"Marketing Specialist\".\n",
                "8. **`INTERSECT`**: Combines the result with the next query and returns only those who are also in the `SalesPerson` table.\n",
                "9. **`SELECT BusinessEntityID`**: Retrieves the `BusinessEntityID` again.\n",
                "10. **`FROM Sales.SalesPerson`**: Specifies that the data is coming from the `SalesPerson` table."
            ],
            "metadata": {
                "language": "sql",
                "azdata_cell_guid": "9590cb62-cf83-4c87-8d5e-abb580c0dbf1"
            },
            "attachments": {}
        },
        {
            "cell_type": "code",
            "source": [
                "SELECT ProductID\r\n",
                "FROM Sales.SalesOrderDetail\r\n",
                "\r\n",
                "INTERSECT\r\n",
                "\r\n",
                "SELECT ProductID\r\n",
                "FROM Purchasing.PurchaseOrderDetail;"
            ],
            "metadata": {
                "language": "sql",
                "azdata_cell_guid": "a6737f04-d701-42e1-90e3-9c7f42d99b24"
            },
            "outputs": [],
            "execution_count": null
        },
        {
            "cell_type": "markdown",
            "source": [
                "- **`SELECT ProductID`**: Retrieves the `ProductID` field from the result.\n",
                "- **`FROM Sales.SalesOrderDetail`**: Specifies that the data is coming from the `SalesOrderDetail` table, representing products sold.\n",
                "- **`INTERSECT`**: Combines this result with the next query and returns only the common products.\n",
                "- **`SELECT ProductID`**: Retrieves the `ProductID` field again.\n",
                "- **`FROM Purchasing.PurchaseOrderDetail`**: Specifies that the data is coming from the `PurchaseOrderDetail` table, representing products purchased."
            ],
            "metadata": {
                "language": "sql",
                "azdata_cell_guid": "10dd2d6d-0a3d-45f6-a999-7f4f9a916665"
            },
            "attachments": {}
        },
        {
            "cell_type": "code",
            "source": [
                "SELECT ProductID\r\n",
                "FROM Sales.SalesOrderDetail\r\n",
                "\r\n",
                "EXCEPT\r\n",
                "\r\n",
                "SELECT ProductID\r\n",
                "FROM Purchasing.PurchaseOrderDetail;"
            ],
            "metadata": {
                "language": "sql",
                "azdata_cell_guid": "7c431c5f-4621-4310-bb8f-667582d44fc3"
            },
            "outputs": [],
            "execution_count": null
        },
        {
            "cell_type": "markdown",
            "source": [
                "1. **`SELECT ProductID`**: Retrieves the `ProductID` field from the result.\n",
                "2. **`FROM Sales.SalesOrderDetail`**: Specifies that the data is coming from the `SalesOrderDetail` table, representing products sold.\n",
                "3. **`EXCEPT`**: Combines this result with the next query and **excludes** products purchased.\n",
                "4. **`SELECT ProductID`**: Retrieves the `ProductID` field again.\n",
                "5. **`FROM Purchasing.PurchaseOrderDetail`**: Specifies that the data is coming from the `PurchaseOrderDetail` table, representing products purchased."
            ],
            "metadata": {
                "language": "sql",
                "azdata_cell_guid": "566d4e69-06d7-4699-98ed-3210bd82ceef"
            },
            "attachments": {}
        },
        {
            "cell_type": "code",
            "source": [
                "WITH SoldProducts AS (\r\n",
                "    SELECT ProductID,\r\n",
                "           ROW_NUMBER() OVER(PARTITION BY ProductID ORDER BY (SELECT NULL)) AS rn\r\n",
                "    FROM Sales.SalesOrderDetail\r\n",
                "),\r\n",
                "PurchasedProducts AS (\r\n",
                "    SELECT ProductID,\r\n",
                "           ROW_NUMBER() OVER(PARTITION BY ProductID ORDER BY (SELECT NULL)) AS rn\r\n",
                "    FROM Purchasing.PurchaseOrderDetail\r\n",
                "),\r\n",
                "ExceptAll AS (\r\n",
                "    SELECT ProductID, rn\r\n",
                "    FROM SoldProducts\r\n",
                "\r\n",
                "    EXCEPT\r\n",
                "\r\n",
                "    SELECT ProductID, rn\r\n",
                "    FROM PurchasedProducts\r\n",
                ")\r\n",
                "SELECT ProductID\r\n",
                "FROM ExceptAll\r\n",
                "ORDER BY ProductID;"
            ],
            "metadata": {
                "azdata_cell_guid": "6d5cccaf-46f3-4d54-9e7f-ce5994619189",
                "language": "sql"
            },
            "outputs": [],
            "execution_count": null
        },
        {
            "cell_type": "markdown",
            "source": [
                "- `WITH SoldProducts AS` starts a Common Table Expression (CTE) called `SoldProducts`. This temporary result set will store the data for products that were sold.\n",
                "- `SELECT ProductID` selects the `ProductID` from the `SalesOrderDetail` table to list each product that was sold.\n",
                "- `ROW_NUMBER() OVER(PARTITION BY ProductID ORDER BY (SELECT NULL)) AS rn` uses the `ROW_NUMBER()` function to assign a unique row number (`rn`) to each `ProductID`, grouping them by product. The `PARTITION BY ProductID` ensures the numbering is specific to each product, and `ORDER BY (SELECT NULL)` ensures that there is no specific order, just creating a unique identifier for each product instance.\n",
                "- The `FROM Sales.SalesOrderDetail` specifies the source table containing the sales data.\n",
                "\n",
                "- `PurchasedProducts AS` starts another CTE called `PurchasedProducts`. This temporary result set will store data for products that were purchased.\n",
                "- `SELECT ProductID` selects the `ProductID` from the `PurchaseOrderDetail` table to list each product that was purchased.\n",
                "- `ROW_NUMBER() OVER(PARTITION BY ProductID ORDER BY (SELECT NULL)) AS rn` uses `ROW_NUMBER()` again to assign a unique row number (`rn`) for each `ProductID` in the purchases, partitioning by product to identify each instance uniquely.\n",
                "- The `FROM Purchasing.PurchaseOrderDetail` specifies the source table for the purchasing data.\n",
                "\n",
                "- `ExceptAll AS` starts the third CTE, which will compare the sold and purchased products.\n",
                "- `SELECT ProductID, rn` selects the `ProductID` and its row number (`rn`) from the `SoldProducts` CTE.\n",
                "- `EXCEPT` is used to return products that are in `SoldProducts` but **not in `PurchasedProducts`**. This essentially identifies products that have been sold but not purchased in equal quantities.\n",
                "- `SELECT ProductID, rn` from the `PurchasedProducts` CTE to be excluded from the sold products.\n",
                "\n",
                "- This `SELECT` retrieves the `ProductID` from the `ExceptAll` CTE, which now contains the products that were sold more than purchased.\n",
                "- `ORDER BY ProductID` orders the result set by the `ProductID` for a more organized output."
            ],
            "metadata": {
                "language": "sql",
                "azdata_cell_guid": "52704281-2707-45ae-b425-258a2d97f9e4"
            },
            "attachments": {}
        },
        {
            "cell_type": "code",
            "source": [
                "\r\n",
                "SELECT CustomerID, SalesOrderID, OrderDate\r\n",
                "FROM (\r\n",
                "    SELECT TOP 1 CustomerID, SalesOrderID, OrderDate\r\n",
                "    FROM Sales.SalesOrderHeader\r\n",
                "    WHERE CustomerID = 11000\r\n",
                "    ORDER BY OrderDate DESC\r\n",
                ") AS RecentOrder1\r\n",
                "\r\n",
                "UNION ALL\r\n",
                "\r\n",
                "SELECT CustomerID, SalesOrderID, OrderDate\r\n",
                "FROM (\r\n",
                "    SELECT TOP 1 CustomerID, SalesOrderID, OrderDate\r\n",
                "    FROM Sales.SalesOrderHeader\r\n",
                "    WHERE CustomerID = 11001\r\n",
                "    ORDER BY OrderDate DESC\r\n",
                ") AS RecentOrder2;"
            ],
            "metadata": {
                "language": "sql",
                "azdata_cell_guid": "24d9bcc7-27bb-48b4-9823-167fa8b9335b"
            },
            "outputs": [],
            "execution_count": null
        },
        {
            "cell_type": "markdown",
            "source": [
                "- **First Subquery (RecentOrder1)**:\n",
                "    \n",
                "    - **Goal**: Find the most recent order for the first customer (CustomerID = 11000).\n",
                "    - **How**:\n",
                "        - Retrieve the `CustomerID`, `SalesOrderID`, and `OrderDate` for this customer.\n",
                "        - Use `TOP 1` to get only the **most recent order** based on the `OrderDate`.\n",
                "        - Sort the results by `OrderDate` in **descending** order to ensure that the most recent order is at the top.\n",
                "- **Second Subquery (RecentOrder2)**:\n",
                "    \n",
                "    - **Goal**: Find the most recent order for the second customer (CustomerID = 11001).\n",
                "    - **How**:\n",
                "        - Similar to the first subquery, retrieve `CustomerID`, `SalesOrderID`, and `OrderDate` for this customer.\n",
                "        - Use `TOP 1` to select the **most recent order**.\n",
                "        - Sort the results by `OrderDate` in **descending** order to ensure that the latest order appears first.\n",
                "- **Combining Results**:\n",
                "    \n",
                "    - **Goal**: Combine the results from both subqueries.\n",
                "    - **How**:\n",
                "        - Use `UNION ALL` to combine the results from both subqueries.\n",
                "        - `UNION ALL` is used because we want to keep all rows, even if there are duplicates (though in this case, since the customer IDs differ, duplicates are unlikely)."
            ],
            "metadata": {
                "language": "sql",
                "azdata_cell_guid": "75fff577-f1a6-4729-9b2d-538a84dae754"
            },
            "attachments": {}
        }
    ]
}
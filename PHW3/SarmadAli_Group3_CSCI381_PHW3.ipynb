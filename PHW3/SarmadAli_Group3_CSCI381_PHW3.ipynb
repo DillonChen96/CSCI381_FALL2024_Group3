{
    "metadata": {
        "kernelspec": {
            "name": "SQL",
            "display_name": "SQL",
            "language": "sql"
        },
        "language_info": {
            "name": "sql",
            "version": ""
        }
    },
    "nbformat_minor": 2,
    "nbformat": 4,
    "cells": [
        {
            "cell_type": "markdown",
            "source": [
                "# Sarmad Ali \n",
                "# **10 custom queries**"
            ],
            "metadata": {
                "azdata_cell_guid": "3b4cf3c9-f9b1-4b5a-a44c-2b7e023b5cba"
            },
            "attachments": {}
        },
        {
            "cell_type": "markdown",
            "source": [
                "# Query Proposition 1\n",
                "\n",
                "This query retrieves customers who placed an order in the last six months by checking recent orders in the `Sales.Orders` table.\n",
                "\n",
                "## Use Case\n",
                "\n",
                "**Scenario**:  \n",
                "A marketing team wants to target customers who have made recent purchases. They run this query to identify customers who placed orders within the last six months.\n",
                "\n",
                "**Action**:  \n",
                "The query returns a list of `CustomerID` and `CustomerName`, which can be used for email campaigns or promotions.\n",
                "\n",
                "**Outcome**:  \n",
                "Focused marketing efforts on active customers, increasing the chances of repeat business.\n",
                "\n",
                "### Benefits:\n",
                "- **Targeted Marketing**: Engage only with recently active customers.\n",
                "- **Customer Retention**: Reach out to recent buyers to encourage loyalty.\n",
                "- **Timely Promotions**: Use recent activity data for time-sensitive campaigns.\n",
                ""
            ],
            "metadata": {
                "azdata_cell_guid": "4f5a5e84-6169-4678-aa8d-f97c716e4612"
            },
            "attachments": {}
        },
        {
            "cell_type": "code",
            "source": [
                "USE WideWorldImporters;\n",
                "GO\n",
                "\n",
                "SELECT \n",
                "    C.CustomerID, \n",
                "    C.CustomerName\n",
                "FROM \n",
                "    Sales.Customers AS C\n",
                "WHERE \n",
                "    C.CustomerID IN (\n",
                "        SELECT DISTINCT O.CustomerID\n",
                "        FROM Sales.Orders AS O\n",
                "        WHERE O.OrderDate >= DATEADD(MONTH, -6, GETDATE())\n",
                "    );\n",
                ""
            ],
            "metadata": {
                "azdata_cell_guid": "cdb10f31-e972-4daf-9180-ae438c54c9e1",
                "language": "sql"
            },
            "outputs": [],
            "execution_count": null
        },
        {
            "cell_type": "markdown",
            "source": [
                "# Query Proposition 2\n",
                "\n",
                "This query retrieves suppliers who offer more than 10 products by counting the number of stock items for each supplier.\n",
                "\n",
                "## Use Case\n",
                "\n",
                "**Scenario**:  \n",
                "A procurement team wants to identify suppliers with a substantial inventory. They run this query to focus on suppliers who can provide a wide range of products.\n",
                "\n",
                "**Action**:  \n",
                "The query returns a list of `SupplierID` and `ProductCount` for suppliers with more than 10 products.\n",
                "\n",
                "**Outcome**:  \n",
                "The team can make informed decisions about which suppliers to engage for bulk purchasing or strategic partnerships.\n",
                "\n",
                "### Benefits:\n",
                "\n",
                "- **Supplier Evaluation**: Identify reliable suppliers with a diverse product range.\n",
                "- **Inventory Management**: Focus on suppliers that can meet large order requirements.\n",
                "- **Strategic Partnerships**: Build relationships with suppliers that offer extensive product lines."
            ],
            "metadata": {
                "azdata_cell_guid": "21754c41-d653-4091-8612-edc4a9d4743c"
            },
            "attachments": {}
        },
        {
            "cell_type": "code",
            "source": [
                "USE WideWorldImporters;\n",
                "GO\n",
                "WITH SupplierProducts AS (\n",
                "    SELECT \n",
                "        SupplierID, \n",
                "        COUNT(StockItemID) AS ProductCount\n",
                "    FROM \n",
                "        Warehouse.StockItems\n",
                "    GROUP BY \n",
                "        SupplierID\n",
                ")\n",
                "SELECT \n",
                "    SupplierID, \n",
                "    ProductCount\n",
                "FROM \n",
                "    SupplierProducts\n",
                "WHERE \n",
                "    ProductCount > 10;"
            ],
            "metadata": {
                "azdata_cell_guid": "e74d407d-79f5-4fee-81de-dcdde58f44c3",
                "language": "sql"
            },
            "outputs": [],
            "execution_count": null
        },
        {
            "cell_type": "markdown",
            "source": [
                "# Query Proposition 3\n",
                "\n",
                "This query calculates the average order value for each customer by summing the total value of their orders.\n",
                "\n",
                "## Use Case\n",
                "\n",
                "**Scenario**:  \n",
                "A sales team wants to assess customer spending habits to tailor marketing strategies. They run this query to find out how much, on average, customers spend per order.\n",
                "\n",
                "**Action**:  \n",
                "The query returns a list of `CustomerID` and their corresponding `AverageOrderValue`.\n",
                "\n",
                "**Outcome**:  \n",
                "The sales team can identify high-value customers and develop targeted promotions or loyalty programs.\n",
                "\n",
                "### Benefits:\n",
                "\n",
                "- **Customer Insights**: Understand customer spending patterns to improve service.\n",
                "- **Targeted Marketing**: Create tailored campaigns for high-value customers.\n",
                "- **Sales Strategy**: Identify opportunities for upselling and cross-selling based on order values."
            ],
            "metadata": {
                "azdata_cell_guid": "7cef6561-aa33-4224-9ad5-09426b7af57c"
            },
            "attachments": {}
        },
        {
            "cell_type": "code",
            "source": [
                "USE WideWorldImporters;\n",
                "GO\n",
                "WITH OrderValues AS (\n",
                "    SELECT \n",
                "        O.CustomerID, \n",
                "        SUM(OL.Quantity * OL.UnitPrice) AS OrderValue\n",
                "    FROM \n",
                "        Sales.Orders O\n",
                "    JOIN \n",
                "        Sales.OrderLines OL ON O.OrderID = OL.OrderID\n",
                "    GROUP BY \n",
                "        O.CustomerID, O.OrderID\n",
                ")\n",
                "SELECT \n",
                "    CustomerID, \n",
                "    AVG(OrderValue) AS AverageOrderValue\n",
                "FROM \n",
                "    OrderValues\n",
                "GROUP BY \n",
                "    CustomerID;"
            ],
            "metadata": {
                "azdata_cell_guid": "ffd67e4d-744b-468a-850a-a172f75282ca",
                "language": "sql"
            },
            "outputs": [],
            "execution_count": null
        },
        {
            "cell_type": "markdown",
            "source": [
                "# Query Proposition 4\n",
                "\n",
                "This query retrieves the top 5 stock items with the highest maximum prices from the order lines.\n",
                "\n",
                "## Use Case\n",
                "\n",
                "**Scenario**:  \n",
                "A product management team wants to identify which stock items command the highest prices in orders. They run this query to analyze the top-performing products by price.\n",
                "\n",
                "**Action**:  \n",
                "The query returns a list of the top 5 `StockItemID`, `StockItemName`, and their corresponding `MaxPrice`.\n",
                "\n",
                "**Outcome**:  \n",
                "The product management team can focus on high-value items, assess pricing strategies, and make informed decisions on inventory management and marketing efforts.\n",
                "\n",
                "### Benefits:\n",
                "\n",
                "- **Market Analysis**: Understand which products are perceived as premium and priced higher.\n",
                "- **Pricing Strategy**: Adjust pricing based on market demand and competitive analysis.\n",
                "- **Inventory Management**: Identify and promote high-value stock items to boost sales."
            ],
            "metadata": {
                "azdata_cell_guid": "3cecd70c-2ce4-4a3b-8181-cd69db4a30fa"
            },
            "attachments": {}
        },
        {
            "cell_type": "code",
            "source": [
                "USE WideWorldImporters;\n",
                "GO\n",
                "SELECT TOP 5\n",
                "    SI.StockItemID, \n",
                "    SI.StockItemName, \n",
                "    MAX(OL.UnitPrice) AS MaxPrice\n",
                "FROM \n",
                "    Sales.OrderLines OL\n",
                "JOIN \n",
                "    Warehouse.StockItems SI ON OL.StockItemID = SI.StockItemID\n",
                "GROUP BY \n",
                "    SI.StockItemID, SI.StockItemName\n",
                "ORDER BY \n",
                "    MaxPrice DESC"
            ],
            "metadata": {
                "azdata_cell_guid": "f08fa16f-4208-4294-b08d-e8df6b993978",
                "language": "sql"
            },
            "outputs": [],
            "execution_count": null
        },
        {
            "cell_type": "markdown",
            "source": [
                "# Query Proposition 5\n",
                "\n",
                "This query retrieves a list of customers who have not placed any orders in the past year.\n",
                "\n",
                "## Use Case\n",
                "\n",
                "**Scenario**:  \n",
                "A marketing team wants to identify inactive customers who haven’t made any purchases in the last year. This information is essential for targeted re-engagement campaigns.\n",
                "\n",
                "**Action**:  \n",
                "The query returns `CustomerID` and `CustomerName` for customers that do not have any orders recorded in the last 12 months.\n",
                "\n",
                "**Outcome**:  \n",
                "The marketing team can use this data to develop strategies aimed at re-engaging these customers, such as sending promotional offers or personalized communications.\n",
                "\n",
                "### Benefits:\n",
                "\n",
                "- **Customer Retention**: Identify customers who may need re-engagement to prevent churn.\n",
                "- **Targeted Campaigns**: Develop tailored marketing campaigns to encourage lapsed customers to return.\n",
                "- **Sales Insights**: Gain insights into customer behavior and purchase patterns over the past year."
            ],
            "metadata": {
                "azdata_cell_guid": "3846c147-95b0-43c6-a5a8-af988308d8ff"
            },
            "attachments": {}
        },
        {
            "cell_type": "code",
            "source": [
                "USE WideWorldImporters;\n",
                "GO\n",
                "SELECT \n",
                "    C.CustomerID, \n",
                "    C.CustomerName\n",
                "FROM \n",
                "    Sales.Customers AS C\n",
                "WHERE \n",
                "    C.CustomerID NOT IN (\n",
                "        SELECT CustomerID\n",
                "        FROM Sales.Orders\n",
                "        WHERE OrderDate >= DATEADD(YEAR, -1, GETDATE())\n",
                "    );\n",
                ""
            ],
            "metadata": {
                "azdata_cell_guid": "cb99ebf2-86fb-43a8-b9df-fb649440eae7",
                "language": "sql"
            },
            "outputs": [],
            "execution_count": null
        },
        {
            "cell_type": "markdown",
            "source": [
                "# Query Proposition 6\n",
                "\n",
                "This query identifies products that have been ordered more than 100 times and retrieves their details.\n",
                "\n",
                "## Use Case\n",
                "\n",
                "**Scenario**:  \n",
                "A sales analysis team wants to focus on high-demand products in the inventory. By identifying these products, they can ensure adequate stock levels and plan for future procurement.\n",
                "\n",
                "**Action**:  \n",
                "The query retrieves `StockItemID`, `StockItemName`, and `OrderCount` for items that have been ordered over 100 times.\n",
                "\n",
                "**Outcome**:  \n",
                "The sales team can prioritize these high-selling products in their inventory management and promotional strategies.\n",
                "\n",
                "### Benefits:\n",
                "\n",
                "- **Inventory Management**: Helps maintain stock levels for popular items to meet customer demand.\n",
                "- **Sales Strategies**: Allows the sales team to create targeted promotions for high-demand products.\n",
                "- **Business Insights**: Provides insights into customer purchasing behavior and product popularity."
            ],
            "metadata": {
                "azdata_cell_guid": "167c11fc-f0d8-43ae-9606-f8d289d7ce4c"
            },
            "attachments": {}
        },
        {
            "cell_type": "code",
            "source": [
                "USE WideWorldImporters;\n",
                "GO\n",
                "WITH ProductOrders AS (\n",
                "    SELECT \n",
                "        StockItemID, \n",
                "        COUNT(OrderID) AS OrderCount\n",
                "    FROM \n",
                "        Sales.OrderLines\n",
                "    GROUP BY \n",
                "        StockItemID\n",
                ")\n",
                "SELECT \n",
                "    SI.StockItemID, \n",
                "    SI.StockItemName, \n",
                "    PO.OrderCount\n",
                "FROM \n",
                "    Warehouse.StockItems SI\n",
                "JOIN \n",
                "    ProductOrders PO ON SI.StockItemID = PO.StockItemID\n",
                "WHERE \n",
                "    PO.OrderCount > 100;"
            ],
            "metadata": {
                "azdata_cell_guid": "52fbf15c-603a-4d36-96df-b35c26409827",
                "language": "sql"
            },
            "outputs": [],
            "execution_count": null
        },
        {
            "cell_type": "markdown",
            "source": [
                "# Query Proposition 7\n",
                "\n",
                "This query calculates the total revenue generated from each customer and retrieves their details along with the revenue amounts.\n",
                "\n",
                "## Use Case\n",
                "\n",
                "**Scenario**:  \n",
                "A business wants to analyze its revenue contribution from different customers to identify high-value clients. Understanding customer revenue helps in strategizing marketing efforts and improving customer relationships.\n",
                "\n",
                "**Action**:  \n",
                "The query calculates the total revenue (`Revenue`) for each customer by summing the product of quantity and unit price from their orders. It then retrieves the `CustomerID`, `CustomerName`, and total `Revenue`, sorting the results in descending order.\n",
                "\n",
                "**Outcome**:  \n",
                "The business can identify top customers based on their revenue contribution, enabling targeted communication and personalized offers.\n",
                "\n",
                "### Benefits:\n",
                "\n",
                "- **Customer Segmentation**: Helps identify high-value customers for loyalty programs.\n",
                "- **Revenue Insights**: Provides a clear view of revenue distribution across the customer base.\n",
                "- **Strategic Planning**: Assists in aligning marketing and sales strategies based on customer value."
            ],
            "metadata": {
                "azdata_cell_guid": "3d9abdbc-2c29-404e-95b7-977e1afb7a7e"
            },
            "attachments": {}
        },
        {
            "cell_type": "code",
            "source": [
                "USE WideWorldImporters;\n",
                "GO\n",
                "WITH CustomerRevenue AS (\n",
                "    SELECT \n",
                "        O.CustomerID, \n",
                "        SUM(OL.Quantity * OL.UnitPrice) AS Revenue\n",
                "    FROM \n",
                "        Sales.Orders O\n",
                "    JOIN \n",
                "        Sales.OrderLines OL ON O.OrderID = OL.OrderID\n",
                "    GROUP BY \n",
                "        O.CustomerID\n",
                ")\n",
                "SELECT \n",
                "    C.CustomerID, \n",
                "    C.CustomerName, \n",
                "    CR.Revenue\n",
                "FROM \n",
                "    Sales.Customers C\n",
                "JOIN \n",
                "    CustomerRevenue CR ON C.CustomerID = CR.CustomerID\n",
                "ORDER BY \n",
                "    CR.Revenue DESC;"
            ],
            "metadata": {
                "azdata_cell_guid": "ea349ebe-4564-4612-abb9-cb01b4d9afa0",
                "language": "sql"
            },
            "outputs": [],
            "execution_count": null
        },
        {
            "cell_type": "markdown",
            "source": [
                "# Query Proposition 8\n",
                "\n",
                "This query retrieves the last order date for each stock item in the inventory, providing insight into the most recent sales activity for each product.\n",
                "\n",
                "## Use Case\n",
                "\n",
                "**Scenario**:  \n",
                "A retail manager wants to track the most recent sales for each stock item to monitor product performance and inventory turnover. Knowing when each item was last ordered can help in inventory management and restocking decisions.\n",
                "\n",
                "**Action**:  \n",
                "The query selects the `StockItemID` and `StockItemName` from the `Warehouse.StockItems` table. It uses a subquery to find the maximum `OrderDate` from the `Sales.OrderLines` and `Sales.Orders` tables, filtered by `StockItemID`. This gives the date of the last order for each stock item.\n",
                "\n",
                "**Outcome**:  \n",
                "The retail manager can quickly assess which items are actively being sold and which may need reordering or promotions to boost sales.\n",
                "\n",
                "### Benefits:\n",
                "\n",
                "- **Inventory Management**: Assists in identifying fast-moving and slow-moving items.\n",
                "- **Sales Insights**: Provides a clear view of recent sales trends for each product.\n",
                "- **Informed Decision-Making**: Enables better planning for inventory restocking and promotions."
            ],
            "metadata": {
                "azdata_cell_guid": "f89661dd-8660-4235-a508-578ff345697e"
            },
            "attachments": {}
        },
        {
            "cell_type": "code",
            "source": [
                "USE WideWorldImporters;\n",
                "GO\n",
                "SELECT \n",
                "    SI.StockItemID, \n",
                "    SI.StockItemName, \n",
                "    (SELECT MAX(O.OrderDate)\n",
                "     FROM Sales.OrderLines OL\n",
                "     JOIN Sales.Orders O ON OL.OrderID = O.OrderID\n",
                "     WHERE OL.StockItemID = SI.StockItemID\n",
                "    ) AS LastOrderDate\n",
                "FROM \n",
                "    Warehouse.StockItems SI;"
            ],
            "metadata": {
                "azdata_cell_guid": "869d3f3b-8129-4d6f-a382-e30dbb211e8d",
                "language": "sql"
            },
            "outputs": [],
            "execution_count": null
        },
        {
            "cell_type": "markdown",
            "source": [
                "# Query Proposition 9\n",
                "\n",
                "This query identifies suppliers who offer more than five products priced above the average unit price in the inventory.\n",
                "\n",
                "## Use Case\n",
                "\n",
                "**Scenario**:  \n",
                "A procurement manager wants to evaluate suppliers based on their product pricing to identify those who offer a substantial number of higher-priced items. This information can be useful for negotiating contracts and understanding supplier offerings.\n",
                "\n",
                "**Action**:  \n",
                "The query first calculates the average unit price of all stock items in the `Warehouse.StockItems` table. It then counts the number of products for each supplier where the unit price exceeds this average. Finally, it filters the results to include only those suppliers with more than five above-average products.\n",
                "\n",
                "**Outcome**:  \n",
                "The procurement manager can quickly pinpoint which suppliers have a significant portfolio of higher-priced items, helping in supplier evaluation and negotiation strategies.\n",
                "\n",
                "### Benefits:\n",
                "\n",
                "- **Supplier Evaluation**: Helps assess suppliers based on their range of higher-value products.\n",
                "- **Cost Analysis**: Provides insights into pricing strategies across different suppliers.\n",
                "- **Informed Decision-Making**: Aids in selecting suppliers that align with the company's pricing and product strategies."
            ],
            "metadata": {
                "azdata_cell_guid": "1efb7f80-6aaf-4e0e-84ba-952b468b2e48"
            },
            "attachments": {}
        },
        {
            "cell_type": "code",
            "source": [
                "USE WideWorldImporters;\n",
                "GO\n",
                "WITH AboveAverageProducts AS (\n",
                "    SELECT \n",
                "        SupplierID, \n",
                "        COUNT(StockItemID) AS ProductCount\n",
                "    FROM \n",
                "        Warehouse.StockItems\n",
                "    WHERE \n",
                "        UnitPrice > (SELECT AVG(UnitPrice) FROM Warehouse.StockItems)\n",
                "    GROUP BY \n",
                "        SupplierID\n",
                ")\n",
                "SELECT \n",
                "    SupplierID, \n",
                "    ProductCount\n",
                "FROM \n",
                "    AboveAverageProducts\n",
                "WHERE \n",
                "    ProductCount > 5;"
            ],
            "metadata": {
                "azdata_cell_guid": "2747ba73-4565-462e-99f7-1a8929a74c36",
                "language": "sql"
            },
            "outputs": [],
            "execution_count": null
        },
        {
            "cell_type": "markdown",
            "source": [
                "# Query Proposition 10\n",
                "\n",
                "This query retrieves orders that contain more than five distinct products, providing insights into larger purchases made by customers.\n",
                "\n",
                "## Use Case\n",
                "\n",
                "**Scenario**:  \n",
                "A sales manager wants to identify customer orders with a substantial number of products. This information can help in analyzing customer buying patterns and may assist in targeted marketing strategies.\n",
                "\n",
                "**Action**:  \n",
                "The query calculates the count of distinct products associated with each order by grouping records from the `Sales.OrderLines` table. It then joins this count with the corresponding order details from the `Sales.Orders` table, filtering to show only those orders where the product count exceeds five.\n",
                "\n",
                "**Outcome**:  \n",
                "The sales manager can identify high-volume orders, which could indicate bulk purchasing behavior, allowing for tailored follow-up actions or promotional offers.\n",
                "\n",
                "### Benefits:\n",
                "\n",
                "- **Customer Insights**: Helps understand customer purchasing behavior based on order size.\n",
                "- **Targeted Marketing**: Enables focused marketing efforts toward customers with high-volume orders.\n",
                "- **Sales Strategy**: Aids in evaluating which products are frequently purchased together, potentially guiding inventory and sales strategies."
            ],
            "metadata": {
                "azdata_cell_guid": "a4311894-06a7-43d6-a27a-37f826764e50"
            },
            "attachments": {}
        },
        {
            "cell_type": "code",
            "source": [
                "USE WideWorldImporters;\n",
                "GO\n",
                "WITH OrderProductCount AS (\n",
                "    SELECT \n",
                "        OrderID, \n",
                "        COUNT(DISTINCT StockItemID) AS ProductCount\n",
                "    FROM \n",
                "        Sales.OrderLines\n",
                "    GROUP BY \n",
                "        OrderID\n",
                ")\n",
                "SELECT \n",
                "    O.OrderID, \n",
                "    O.OrderDate, \n",
                "    OPC.ProductCount\n",
                "FROM \n",
                "    Sales.Orders O\n",
                "JOIN \n",
                "    OrderProductCount OPC ON O.OrderID = OPC.OrderID\n",
                "WHERE \n",
                "    OPC.ProductCount > 5;"
            ],
            "metadata": {
                "azdata_cell_guid": "639ab8fe-8e68-4fd5-8ceb-bb67c36af64f",
                "language": "sql"
            },
            "outputs": [],
            "execution_count": null
        }
    ]
}

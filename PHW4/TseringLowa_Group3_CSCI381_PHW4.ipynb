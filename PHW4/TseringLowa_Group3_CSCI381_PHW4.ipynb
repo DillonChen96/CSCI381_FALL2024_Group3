{
    "metadata": {
        "kernelspec": {
            "name": "SQL",
            "display_name": "SQL",
            "language": "sql"
        },
        "language_info": {
            "name": "sql",
            "version": ""
        }
    },
    "nbformat_minor": 2,
    "nbformat": 4,
    "cells": [
        {
            "cell_type": "markdown",
            "source": [
                "Insert a new record into the Warehouse.VehicleTemperature table."
            ],
            "metadata": {
                "azdata_cell_guid": "189df2f5-2c7b-4ed5-ab4c-9dd65f72828b"
            },
            "attachments": {}
        },
        {
            "cell_type": "code",
            "source": [
                "use WideWorldImporters\r\n",
                "INSERT INTO Warehouse.VehicleTemperatures (VehicleRegistration,ChillerSensorNumber,RecordedWhen,Temperature,FullSensorData,IsCompressed)\r\n",
                "VALUES ('ABCDE',12313,'2024-10-22',10.4,'FullSensorData',1);\r\n",
                ""
            ],
            "metadata": {
                "azdata_cell_guid": "ef81502e-1b7a-429e-a05b-c8d86dcdb34d",
                "language": "sql"
            },
            "outputs": [],
            "execution_count": null
        },
        {
            "cell_type": "markdown",
            "source": [
                "Remove a record from the <span style=\"color: rgb(33, 33, 33); font-family: Consolas, &quot;Courier New&quot;, monospace; font-size: 12px; white-space: pre;\">Warehouse.VehicleTemperatures</span> <span style=\"color: var(--vscode-foreground);\">&nbsp;table</span>"
            ],
            "metadata": {
                "azdata_cell_guid": "00d3d32b-c829-4c7f-8827-08e1753f15fc"
            },
            "attachments": {}
        },
        {
            "cell_type": "code",
            "source": [
                "use WideWorldImporters\r\n",
                "DELETE FROM Warehouse.VehicleTemperatures\r\n",
                "WHERE VehicleRegistration = 'ABCDE'; "
            ],
            "metadata": {
                "azdata_cell_guid": "1d5e1541-bb76-4bdc-bc6c-60d61880c424",
                "language": "sql"
            },
            "outputs": [],
            "execution_count": null
        },
        {
            "cell_type": "markdown",
            "source": [
                "Use the SELECT INTO statement to create a new table called CorporateCustomer in the WideWorldImporters database. This new table will contain records selected from the Sales.Customers table based on a specific condition"
            ],
            "metadata": {
                "language": "sql",
                "azdata_cell_guid": "68661093-c753-4528-822f-0547fbf8ac93"
            },
            "attachments": {}
        },
        {
            "cell_type": "code",
            "source": [
                "use WideWorldImporters\r\n",
                "SELECT * INTO CorporateCustomer\r\n",
                "FROM Sales.Customers\r\n",
                "WHERE CustomerCategoryID = (SELECT CustomerCategoryID FROM Sales.CustomerCategories WHERE CustomerCategoryName = 'Corporate');\r\n",
                ""
            ],
            "metadata": {
                "azdata_cell_guid": "559ae8e4-5dd9-405d-8d2e-85d465f427b8",
                "language": "sql"
            },
            "outputs": [],
            "execution_count": null
        },
        {
            "cell_type": "markdown",
            "source": [
                "Use the TRUNCATE TABLE statement to remove all records from the CorporateCustomer table"
            ],
            "metadata": {
                "language": "sql",
                "azdata_cell_guid": "bdd5348b-ac2a-46d3-aebb-117c297baa0e"
            },
            "attachments": {}
        },
        {
            "cell_type": "code",
            "source": [
                "use WideWorldImporters\r\n",
                "\r\n",
                "TRUNCATE TABLE CorporateCustomer"
            ],
            "metadata": {
                "azdata_cell_guid": "50808398-0932-48da-bf77-229200aac143",
                "language": "sql"
            },
            "outputs": [],
            "execution_count": null
        },
        {
            "cell_type": "markdown",
            "source": [
                "Delete all customers in the Sales.Customers table who do not have any corresponding entries in the Sales.Orders table (i.e., those who have never placed an order) from the Sales.Customers table."
            ],
            "metadata": {
                "language": "sql",
                "azdata_cell_guid": "6306f48b-1133-4934-9435-fb5ac6822041"
            },
            "attachments": {}
        },
        {
            "cell_type": "code",
            "source": [
                "use WideWorldImporters\r\n",
                "\r\n",
                "DELETE c\r\n",
                "FROM Sales.Customers c\r\n",
                "LEFT JOIN Sales.Orders o ON c.CustomerID = o.CustomerID\r\n",
                "WHERE o.OrderID IS NULL;\r\n",
                ""
            ],
            "metadata": {
                "azdata_cell_guid": "7d0bc864-6758-4256-b820-8cc3889a7b2e",
                "language": "sql"
            },
            "outputs": [],
            "execution_count": null
        },
        {
            "cell_type": "markdown",
            "source": [
                "Update the DeliveryAddressLine1 for the customer whose CustomerID is 61 in the Sales.Customers table  to '3242 89 st'"
            ],
            "metadata": {
                "language": "sql",
                "azdata_cell_guid": "38de5e49-2d25-4123-8e80-b2422d38ae3e"
            },
            "attachments": {}
        },
        {
            "cell_type": "code",
            "source": [
                "use WideWorldImporters\r\n",
                "\r\n",
                "UPDATE Sales.Customers\r\n",
                "SET DeliveryAddressLine1 = '3242 89 st'\r\n",
                "WHERE CustomerID = 61;  -- Replace 10 with the specific CustomerID\r\n",
                ""
            ],
            "metadata": {
                "azdata_cell_guid": "9ff405c4-d0aa-421f-9d59-d6035f066b34",
                "language": "sql"
            },
            "outputs": [],
            "execution_count": null
        },
        {
            "cell_type": "markdown",
            "source": [
                "All customers in the Sales.Customers table with a CustomerCategoryID of 1 will have their DeliveryCityId updated to 11369.\r\n",
                "The CustomerID and CustomerName of the updated customers will be stored in the @UpdatedCustomers table variable.\r\n",
                "The SELECT statement will return the list of updated customers, showing their CustomerID and CustomerName."
            ],
            "metadata": {
                "language": "sql",
                "azdata_cell_guid": "0487bc5c-ae2d-4950-9d62-b384fe8c8ecd"
            },
            "attachments": {}
        },
        {
            "cell_type": "code",
            "source": [
                "use WideWorldImporters\r\n",
                "DECLARE @UpdatedCustomers TABLE (CustomerID INT, CustomerName NVARCHAR(100));\r\n",
                "\r\n",
                "UPDATE Sales.Customers\r\n",
                "SET DeliveryCityId = 11369\r\n",
                "OUTPUT INSERTED.CustomerID, INSERTED.CustomerName INTO @UpdatedCustomers\r\n",
                "WHERE CustomerCategoryID = 1;  -- Update customers in a specific category\r\n",
                "\r\n",
                "SELECT * FROM @UpdatedCustomers;  -- View the updated customer records\r\n",
                ""
            ],
            "metadata": {
                "language": "sql",
                "azdata_cell_guid": "803dd6fd-b18a-4952-81d6-7f3c489ac263"
            },
            "outputs": [],
            "execution_count": null
        },
        {
            "cell_type": "markdown",
            "source": [
                "Create new table named CustomersWithOrders in the WideWorldImporters database.\r\n",
                "This new table will be populated with the names, customer category IDs, and delivery city IDs of customers who have placed orders (as determined by the join with the Sales.Orders table)."
            ],
            "metadata": {
                "language": "sql",
                "azdata_cell_guid": "af8e82ec-7aa1-47aa-810e-dba7edf83775"
            },
            "attachments": {}
        },
        {
            "cell_type": "code",
            "source": [
                "use WideWorldImporters\r\n",
                "SELECT c.CustomerName, c.CustomerCategoryID, c.DeliveryCityId\r\n",
                "INTO CustomersWithOrders\r\n",
                "FROM Sales.Customers c\r\n",
                "JOIN Sales.Orders o ON c.CustomerID = o.CustomerID;\r\n",
                ""
            ],
            "metadata": {
                "azdata_cell_guid": "79139df0-0294-47bb-9dff-b74528327a4c",
                "language": "sql"
            },
            "outputs": [],
            "execution_count": null
        },
        {
            "cell_type": "markdown",
            "source": [
                "Increase the DeliveryCityId by 1 for all customers in the Sales.Customers table with a CustomerCategoryID of 3."
            ],
            "metadata": {
                "language": "sql",
                "azdata_cell_guid": "64b9dc02-2ec1-4d54-a8a8-c7782823d9dd"
            },
            "attachments": {}
        },
        {
            "cell_type": "code",
            "source": [
                "USE WideWorldImporters\r\n",
                "\r\n",
                "UPDATE Sales.Customers\r\n",
                "SET DeliveryCityId = DeliveryCityId + 1\r\n",
                "WHERE CustomerCategoryID = 3;  -- Example category\r\n",
                "\r\n",
                ""
            ],
            "metadata": {
                "language": "sql",
                "azdata_cell_guid": "695c16dd-8beb-473e-8b67-ce4e03589fb1"
            },
            "outputs": [],
            "execution_count": null
        },
        {
            "cell_type": "markdown",
            "source": [
                "Delete all customers in the `Sales.Customers` table who have **not** placed any orders in the last year."
            ],
            "metadata": {
                "language": "sql",
                "azdata_cell_guid": "883f3890-4cfc-4de7-a981-272d03df1f15"
            }
        },
        {
            "cell_type": "code",
            "source": [
                "use WideWorldImporters\r\n",
                "DELETE FROM Sales.Customers\r\n",
                "WHERE CustomerID NOT IN (\r\n",
                "    SELECT DISTINCT CustomerID\r\n",
                "    FROM Sales.Orders\r\n",
                "    WHERE OrderDate >= DATEADD(YEAR, -1, GETDATE())\r\n",
                ");\r\n",
                ""
            ],
            "metadata": {
                "azdata_cell_guid": "a61c5128-0b8c-4b7e-bf35-3c6cddf25a65",
                "language": "sql"
            },
            "outputs": [],
            "execution_count": null
        }
    ]
}

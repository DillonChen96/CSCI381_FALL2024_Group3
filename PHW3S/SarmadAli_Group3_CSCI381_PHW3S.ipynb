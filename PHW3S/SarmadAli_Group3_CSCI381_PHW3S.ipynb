{
    "metadata": {
        "kernelspec": {
            "name": "SQL",
            "display_name": "SQL",
            "language": "sql"
        },
        "language_info": {
            "name": "sql",
            "version": ""
        }
    },
    "nbformat_minor": 2,
    "nbformat": 4,
    "cells": [
        {
            "cell_type": "markdown",
            "source": [
                "# Sarmad Ali \n",
                "# 10 Proposition using Set Operators"
            ],
            "metadata": {
                "azdata_cell_guid": "1377e780-dca0-428a-bf3b-0cbfa54e744f"
            },
            "attachments": {}
        },
        {
            "cell_type": "markdown",
            "source": [
                "# Query Proposition 1\n",
                "\n",
                "This query retrieves a distinct list of product names and product category names from the `Production.Product` and `Production.ProductCategory` tables using the `UNION` set operator.\n",
                "\n",
                "## Use Case\n",
                "\n",
                "**Scenario**:  \n",
                "The product management team is conducting an inventory analysis and wants to compile a complete list of all product names along with their corresponding categories. This query is executed to aggregate the names from both relevant tables.\n",
                "\n",
                "**Action**:  \n",
                "The query returns a unified list of distinct `Name` entries from both `Production.Product` and `Production.ProductCategory`, ensuring that each name appears only once.\n",
                "\n",
                "**Outcome**:  \n",
                "This consolidated list provides insights into the available products and categories, aiding in inventory tracking and management decisions.\n",
                "\n",
                "### Benefits:\n",
                "\n",
                "- **Holistic View**: Obtain a complete overview of products and categories without duplicates.\n",
                "- **Enhanced Reporting**: Utilize the list for creating detailed reports on product offerings and inventory.\n",
                "- **Informed Product Strategy**: Use the data to identify trends and gaps in the product lineup for better strategic planning."
            ],
            "metadata": {
                "azdata_cell_guid": "ab1aa713-7a8f-478a-8536-75c05bd8e67a"
            },
            "attachments": {}
        },
        {
            "cell_type": "code",
            "source": [
                "USE Adventureworks2019\n",
                "GO\n",
                "SELECT DISTINCT Name FROM Production.Product\n",
                "UNION\n",
                "SELECT DISTINCT Name FROM Production.ProductCategory;"
            ],
            "metadata": {
                "azdata_cell_guid": "816ce54f-bfbc-47fd-b601-6b5099bdc4b6",
                "language": "sql",
                "tags": []
            },
            "outputs": [],
            "execution_count": null
        },
        {
            "cell_type": "markdown",
            "source": [
                "# Query Proposition 2\n",
                "\n",
                "This query retrieves error log IDs and database log IDs from the `dbo.ErrorLog` and `dbo.DatabaseLog` tables, using the `UNION ALL` set operator.\n",
                "\n",
                "## Use Case\n",
                "\n",
                "**Scenario**:  \n",
                "The database administration team needs to analyze log entries for troubleshooting purposes. They execute this query to compile a comprehensive list of all log IDs, including potential duplicates, from both log tables.\n",
                "\n",
                "**Action**:  \n",
                "The query returns a combined list of `ErrorLogID` from the `dbo.ErrorLog` table and `DatabaseLogID` from the `dbo.DatabaseLog` table.\n",
                "\n",
                "**Outcome**:  \n",
                "This combined log ID list aids in identifying and addressing issues, as well as auditing the database’s operational history.\n",
                "\n",
                "### Benefits:\n",
                "\n",
                "- **Comprehensive Log Analysis**: Access a complete list of log IDs for thorough troubleshooting.\n",
                "- **Data Integrity**: By using `UNION ALL`, duplicates are retained, ensuring no log entries are overlooked.\n",
                "- **Efficient Auditing**: Facilitates easier tracking of events that might have caused database errors or transactions."
            ],
            "metadata": {
                "azdata_cell_guid": "3136634b-8347-4b0e-a5bf-85c86037bac1"
            },
            "attachments": {}
        },
        {
            "cell_type": "code",
            "source": [
                "USE Adventureworks2019\n",
                "GO\n",
                "SELECT ErrorLogID FROM dbo.ErrorLog\n",
                "UNION ALL\n",
                "SELECT DatabaseLogID FROM dbo.DatabaseLog;"
            ],
            "metadata": {
                "azdata_cell_guid": "1c5a9155-cd0c-49ec-a218-1bda22b5d205",
                "language": "sql",
                "tags": []
            },
            "outputs": [],
            "execution_count": null
        },
        {
            "cell_type": "markdown",
            "source": [
                "# Query Proposition 3\n",
                "\n",
                "This query retrieves error numbers from the `dbo.ErrorLog` table and events as error numbers from the `dbo.DatabaseLog` table, using the `UNION` set operator.\n",
                "\n",
                "## Use Case\n",
                "\n",
                "**Scenario**:  \n",
                "The database administration team is conducting a review of error occurrences and events in the system. They run this query to gather a unified list of error numbers from both the error log and the database log.\n",
                "\n",
                "**Action**:  \n",
                "The query returns a combined list of `ErrorNumber` from the `dbo.ErrorLog` table and `Event` from the `dbo.DatabaseLog` table, both represented as `ErrorNumber`.\n",
                "\n",
                "**Outcome**:  \n",
                "This consolidated list helps in analyzing error patterns and events that may have affected the database operations.\n",
                "\n",
                "### Benefits:\n",
                "\n",
                "- **Unified Error Analysis**: Access a single list of error numbers from different sources for comprehensive analysis.\n",
                "- **Enhanced Troubleshooting**: Identify recurring issues by analyzing the combined error data.\n",
                "- **Improved Reporting**: Simplifies reporting on system performance and reliability by providing a holistic view of errors and events."
            ],
            "metadata": {
                "azdata_cell_guid": "586e7f94-20c2-49b7-9232-496e09d0d217"
            },
            "attachments": {}
        },
        {
            "cell_type": "code",
            "source": [
                "USE Adventureworks2019\n",
                "GO\n",
                "SELECT ErrorNumber FROM dbo.ErrorLog\n",
                "UNION\n",
                "SELECT Event AS ErrorNumber FROM dbo.DatabaseLog;"
            ],
            "metadata": {
                "azdata_cell_guid": "a35b0d40-0d9d-4422-bacd-4882b13197d2",
                "language": "sql"
            },
            "outputs": [],
            "execution_count": null
        },
        {
            "cell_type": "markdown",
            "source": [
                "# Query Proposition 4\n",
                "\n",
                "This query retrieves the common `CurrencyCode` values present in both the `Sales.Currency` table and the `Sales.CountryRegionCurrency` table using the `INTERSECT` set operator.\n",
                "\n",
                "## Use Case\n",
                "\n",
                "**Scenario**:  \n",
                "The finance team wants to identify which currency codes are recognized in both the currency reference and the country-region currency mapping. They execute this query to find the intersection of currencies utilized in the sales database.\n",
                "\n",
                "**Action**:  \n",
                "The query returns a list of `CurrencyCode` that exist in both the `Sales.Currency` table and the `Sales.CountryRegionCurrency` table.\n",
                "\n",
                "**Outcome**:  \n",
                "This allows the finance team to ensure that their currency data is consistent and identify which currencies are relevant for transactions across various country regions.\n",
                "\n",
                "### Benefits:\n",
                "\n",
                "- **Data Consistency**: Helps in ensuring that only valid currency codes are used in financial transactions.\n",
                "- **Accurate Reporting**: Supports accurate financial reporting by aligning currency information across different tables.\n",
                "- **Streamlined Currency Management**: Facilitates better management of currency data in the context of international sales and transactions."
            ],
            "metadata": {
                "azdata_cell_guid": "6218aed7-8f08-458f-b82a-9911d0c8f286"
            },
            "attachments": {}
        },
        {
            "cell_type": "code",
            "source": [
                "USE Adventureworks2019\n",
                "GO\n",
                "SELECT CurrencyCode FROM Sales.Currency\n",
                "INTERSECT\n",
                "SELECT CurrencyCode FROM Sales.CountryRegionCurrency;"
            ],
            "metadata": {
                "azdata_cell_guid": "b8eb95b9-2596-413f-86a5-4f80927d8fd2",
                "language": "sql"
            },
            "outputs": [],
            "execution_count": null
        },
        {
            "cell_type": "markdown",
            "source": [
                "# Query Proposition 5\n",
                "\n",
                "This query retrieves `ProductID` values from the `Production.ProductInventory` table that do not exist in the `Production.Product` table using the `EXCEPT` set operator.\n",
                "\n",
                "## Use Case\n",
                "\n",
                "**Scenario**:  \n",
                "The inventory management team needs to identify any product IDs in the inventory that are not registered in the main product catalog. This can happen due to data entry errors or discrepancies between inventory records and product listings.\n",
                "\n",
                "**Action**:  \n",
                "The query returns a list of `ProductID`s that are present in the `Production.ProductInventory` but absent from the `Production.Product` table.\n",
                "\n",
                "**Outcome**:  \n",
                "By identifying these discrepancies, the team can investigate further to ensure all inventory items correspond to valid products in the system.\n",
                "\n",
                "### Benefits:\n",
                "\n",
                "- **Data Validation**: Helps maintain integrity by identifying orphaned inventory records.\n",
                "- **Inventory Management**: Ensures that all items in inventory have a corresponding product entry, enhancing tracking and reporting.\n",
                "- **Error Correction**: Aids in identifying and rectifying potential data entry errors or inconsistencies in the product catalog."
            ],
            "metadata": {
                "azdata_cell_guid": "a0b81c99-b5e6-44c6-8984-d83d58f4807b"
            },
            "attachments": {}
        },
        {
            "cell_type": "code",
            "source": [
                "USE Adventureworks2019\n",
                "GO\n",
                "SELECT ProductID FROM Production.ProductInventory\n",
                "EXCEPT\n",
                "SELECT ProductID FROM Production.Product;"
            ],
            "metadata": {
                "azdata_cell_guid": "4d6cebdb-e168-4a63-824d-83f4c18caf6c",
                "language": "sql"
            },
            "outputs": [],
            "execution_count": null
        },
        {
            "cell_type": "markdown",
            "source": [
                "# Query Proposition 6\n",
                "\n",
                "This query retrieves distinct usernames from both the `dbo.ErrorLog` and `dbo.DatabaseLog` tables by using the `UNION` operator to combine the results.\n",
                "\n",
                "## Use Case\n",
                "\n",
                "**Scenario**:  \n",
                "The database administration team wants to analyze user activity related to errors and events logged in the system. They run this query to compile a comprehensive list of unique usernames involved in both error logging and database events.\n",
                "\n",
                "**Action**:  \n",
                "The query returns a unified list of `Username`s from the `dbo.ErrorLog` (aliased from `UserName`) and `dbo.DatabaseLog` (aliased from `DatabaseUser`).\n",
                "\n",
                "**Outcome**:  \n",
                "This information can be used for auditing user activity, identifying patterns of errors associated with specific users, and enhancing user support.\n",
                "\n",
                "### Benefits:\n",
                "\n",
                "- **User Activity Analysis**: Provides insights into which users are generating errors or events in the database.\n",
                "- **Enhanced Support**: Assists the support team in targeting users who may need assistance based on their activity logs.\n",
                "- **Auditing and Compliance**: Facilitates auditing processes by offering a clear record of user interactions with the system."
            ],
            "metadata": {
                "azdata_cell_guid": "9f1eb605-576a-4a01-8631-620bb08861c3"
            },
            "attachments": {}
        },
        {
            "cell_type": "code",
            "source": [
                "USE Adventureworks2019\n",
                "GO\n",
                "SELECT DISTINCT UserName AS Username\n",
                "FROM dbo.ErrorLog\n",
                "UNION\n",
                "SELECT DISTINCT DatabaseUser AS Username\n",
                "FROM dbo.DatabaseLog;"
            ],
            "metadata": {
                "azdata_cell_guid": "3ab30dbb-9370-4ebd-8b3c-46290c19bc30",
                "language": "sql",
                "tags": []
            },
            "outputs": [],
            "execution_count": null
        },
        {
            "cell_type": "markdown",
            "source": [
                "# Query Proposition 7\n",
                "\n",
                "This query retrieves distinct `ContactTypeID`s from both the `Person.BusinessEntityContact` and `Person.ContactType` tables by using the `UNION` operator to combine the results.\n",
                "\n",
                "## Use Case\n",
                "\n",
                "**Scenario**:  \n",
                "The customer relationship management (CRM) team wants to understand the different types of contact relationships recorded in the system. They run this query to gather a unique list of contact types that exist across various business entities.\n",
                "\n",
                "**Action**:  \n",
                "The query returns a unified list of `ContactTypeID`s from the `Person.BusinessEntityContact` and `Person.ContactType` tables.\n",
                "\n",
                "**Outcome**:  \n",
                "This information can help in categorizing and analyzing the types of contacts that exist within the database, allowing for better management of relationships.\n",
                "\n",
                "### Benefits:\n",
                "\n",
                "- **Comprehensive Overview**: Provides a complete view of all contact types associated with business entities.\n",
                "- **Data Quality Improvement**: Assists in identifying any inconsistencies or gaps in contact type data.\n",
                "- **Enhanced Reporting**: Facilitates reporting on contact relationships, leading to improved strategies in customer engagement."
            ],
            "metadata": {
                "azdata_cell_guid": "8e94c46e-a60f-4206-a26c-f37b45a27763"
            },
            "attachments": {}
        },
        {
            "cell_type": "code",
            "source": [
                "USE Adventureworks2019\n",
                "GO\n",
                "SELECT DISTINCT ContactTypeID\n",
                "FROM Person.BusinessEntityContact\n",
                "UNION\n",
                "SELECT DISTINCT ContactTypeID\n",
                "FROM Person.ContactType;\n",
                ""
            ],
            "metadata": {
                "azdata_cell_guid": "7faddb59-3813-4352-a22a-a558e7907f36",
                "language": "sql"
            },
            "outputs": [],
            "execution_count": null
        },
        {
            "cell_type": "markdown",
            "source": [
                "# Query Proposition 8\n",
                "\n",
                "This query identifies `DepartmentID`s that are present in the `HumanResources.Department` table but are absent from the `HumanResources.EmployeeDepartmentHistory` table. It utilizes the `EXCEPT` operator to find this difference.\n",
                "\n",
                "## Use Case\n",
                "\n",
                "**Scenario**:  \n",
                "The human resources team is interested in identifying departments that currently exist in the company but do not have any associated employee history. They run this query to pinpoint these departments for potential follow-up or analysis.\n",
                "\n",
                "**Action**:  \n",
                "The query returns a list of `DepartmentID`s that are part of the overall organizational structure but lack records of employee involvement or history in those departments.\n",
                "\n",
                "**Outcome**:  \n",
                "This information can be used to assess department activity and determine if any departments need staffing or strategic focus.\n",
                "\n",
                "### Benefits:\n",
                "- **Resource Allocation**: Helps identify underutilized departments that may need more attention or resources.\n",
                "- **Organizational Assessment**: Assists in evaluating the structure and effectiveness of various departments within the company.\n",
                "- **Strategic Planning**: Provides insights that can inform decisions related to hiring, training, or restructuring within the organization.\n",
                ""
            ],
            "metadata": {
                "azdata_cell_guid": "15bbd95e-8a73-463f-b1c4-e56b6145542f"
            },
            "attachments": {}
        },
        {
            "cell_type": "code",
            "source": [
                "USE Adventureworks2019\n",
                "GO\n",
                "SELECT DepartmentID\n",
                "FROM HumanResources.Department\n",
                "EXCEPT\n",
                "SELECT DISTINCT DepartmentID\n",
                "FROM HumanResources.EmployeeDepartmentHistory;"
            ],
            "metadata": {
                "azdata_cell_guid": "882b23f5-2015-49d4-ab97-f22d4ea694d2",
                "language": "sql"
            },
            "outputs": [],
            "execution_count": null
        },
        {
            "cell_type": "markdown",
            "source": [
                "# Query Proposition 9\n",
                "\n",
                "This query retrieves distinct error messages from two different logs: the `ErrorLog` and the `DatabaseLog`. It uses the `UNION` operator to combine the unique messages from both sources.\n",
                "\n",
                "## Use Case\n",
                "\n",
                "**Scenario**:  \n",
                "The IT support team wants to compile a comprehensive list of error messages encountered within the system. They run this query to gather insights from both the `ErrorLog` and `DatabaseLog` to facilitate troubleshooting and improve system reliability.\n",
                "\n",
                "**Action**:  \n",
                "The query returns a combined list of distinct `ErrorMessage`s from both logs, enabling the team to analyze common issues and potential system vulnerabilities.\n",
                "\n",
                "**Outcome**:  \n",
                "By having a unified view of error messages, the support team can prioritize issues, streamline response efforts, and enhance overall system performance.\n",
                "\n",
                "### Benefits:\n",
                "- **Holistic Overview**: Provides a comprehensive understanding of errors occurring across different system logs.\n",
                "- **Improved Troubleshooting**: Helps in quickly identifying recurring issues that need immediate attention.\n",
                "- **Enhanced System Reliability**: Facilitates proactive measures to reduce the frequency of critical errors, leading to better system stability.\n",
                ""
            ],
            "metadata": {
                "azdata_cell_guid": "05ea6dd0-0ba8-4347-a4a2-ed393c9e3ba3"
            },
            "attachments": {}
        },
        {
            "cell_type": "code",
            "source": [
                "USE Adventureworks2019\n",
                "GO\n",
                "SELECT DISTINCT ErrorMessage\n",
                "FROM dbo.ErrorLog\n",
                "UNION\n",
                "SELECT DISTINCT Event AS ErrorMessage\n",
                "FROM dbo.DatabaseLog; "
            ],
            "metadata": {
                "azdata_cell_guid": "d3d8bf9d-5c61-411b-b46a-b4ae446c01d0",
                "language": "sql"
            },
            "outputs": [],
            "execution_count": null
        },
        {
            "cell_type": "markdown",
            "source": [
                "# Query Proposition 10\n",
                "\n",
                "This query retrieves the `DepartmentID`s that are present in both the `HumanResources.Department` and `HumanResources.EmployeeDepartmentHistory` tables. It uses the `INTERSECT` operator to find common department identifiers.\n",
                "\n",
                "## Use Case\n",
                "\n",
                "**Scenario**:  \n",
                "The Human Resources department wants to identify which departments have active employee associations based on historical employment data. They run this query to cross-reference current departments with those that have had employees in the past.\n",
                "\n",
                "**Action**:  \n",
                "The query returns a list of `DepartmentID`s that are active in the `Department` table and have been associated with employees in the `EmployeeDepartmentHistory`, helping HR to track departmental continuity.\n",
                "\n",
                "**Outcome**:  \n",
                "This information assists HR in managing resources, planning for departmental changes, and ensuring that employee records are aligned with the current departmental structure.\n",
                "\n",
                "### Benefits:\n",
                "- **Departmental Insights**: Provides clarity on which departments are still relevant based on employee history.\n",
                "- **Resource Allocation**: Helps HR make informed decisions about resource allocation and departmental needs.\n",
                "- **Data Integrity**: Ensures that the department structure is accurately reflected in employee history records.\n",
                ""
            ],
            "metadata": {
                "azdata_cell_guid": "20b8e1cb-bcd7-46a7-b80c-08a091cc3d25"
            },
            "attachments": {}
        },
        {
            "cell_type": "code",
            "source": [
                "USE Adventureworks2019\n",
                "GO\n",
                "SELECT DepartmentID FROM HumanResources.Department\n",
                "INTERSECT\n",
                "SELECT DepartmentID FROM HumanResources.EmployeeDepartmentHistory;"
            ],
            "metadata": {
                "azdata_cell_guid": "8217c52e-221e-4f91-8473-d12aba448f75",
                "language": "sql"
            },
            "outputs": [],
            "execution_count": null
        }
    ]
}

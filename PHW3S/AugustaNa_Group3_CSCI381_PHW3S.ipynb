{
    "metadata": {
        "kernelspec": {
            "name": "SQL",
            "display_name": "SQL",
            "language": "sql"
        },
        "language_info": {
            "name": "sql",
            "version": ""
        }
    },
    "nbformat_minor": 2,
    "nbformat": 4,
    "cells": [
        {
            "cell_type": "markdown",
            "source": [
                "Proposition 1: \n",
                "\n",
                "Find all products that are classified as bikes or have a list price greater than $1000 but not both.\n",
                "\n",
                "1. Find products that has the word bike in it using Like and %\n",
                "2. Find the products that are over 1000\n",
                "3. Use union to find both results\n",
                "4. Use Except, Where, AND to remove products that have the word bike AND is above the 1000$ price range.\n",
                "\n",
                "This fits with a specific demand.\n",
                "\n",
                "When searching for a transportation system willing to only spend lower than a 1000 for a bike OR spending the extra for another vehicle."
            ],
            "metadata": {
                "azdata_cell_guid": "2c5d7252-0176-46c4-8830-a5266ca68436"
            },
            "attachments": {}
        },
        {
            "cell_type": "code",
            "source": [
                "USE AdventureWorks2017\n",
                "\n",
                "SELECT ProductID, Name, ListPrice \n",
                "FROM Production.Product \n",
                "WHERE ProductSubcategoryID IN \n",
                "(SELECT ProductSubcategoryID FROM Production.ProductSubcategory WHERE Name LIKE '%Bike%')\n",
                "\n",
                "UNION\n",
                "\n",
                "SELECT ProductID, Name, ListPrice  \n",
                "FROM Production.Product \n",
                "WHERE ListPrice > 1000\n",
                "\n",
                "EXCEPT\n",
                "\n",
                "SELECT ProductID, Name, ListPrice  \n",
                "FROM Production.Product \n",
                "WHERE ProductSubcategoryID IN \n",
                "(SELECT ProductSubcategoryID FROM Production.ProductSubcategory WHERE Name LIKE '%Bike%') \n",
                "AND ListPrice > 1000;\n",
                ""
            ],
            "metadata": {
                "azdata_cell_guid": "56389456-33f6-4d95-826b-45e1b7e14098",
                "language": "sql"
            },
            "outputs": [],
            "execution_count": null
        },
        {
            "cell_type": "markdown",
            "source": [
                "Proposition 2:\n",
                "\n",
                "Find the productsID and name that has been sold.\n",
                "\n",
                "1. Find all .products INTERSECT with .purchaseorderdetail\n",
                "2. SELECT productID which will only fetch products that have been sold\n",
                "3. JOIN the subquary and .products with the same product ID enabling us to find the name\n",
                "\n",
                "Finds what item is not populor."
            ],
            "metadata": {
                "azdata_cell_guid": "aaba14b9-6d68-489c-a4c8-024625cb035f"
            },
            "attachments": {}
        },
        {
            "cell_type": "code",
            "source": [
                "USE AdventureWorks2017;\n",
                "\n",
                "WITH PurchasedProducts AS (\n",
                "Select ProductID\n",
                "FROM purchasing.PurchaseOrderDetail\n",
                "\n",
                "INTERSECT\n",
                "\n",
                "SELECT ProductID FROM Production.Product)\n",
                "\n",
                "SELECT PP.ProductID, P.Name\n",
                "FROM PurchasedProducts AS PP\n",
                "JOIN Production.Product AS P\n",
                "ON PP.ProductID = P.ProductID;\n",
                ""
            ],
            "metadata": {
                "azdata_cell_guid": "6cbe3183-eff9-4d11-a3a4-af82286f6b71",
                "language": "sql",
                "tags": []
            },
            "outputs": [],
            "execution_count": null
        },
        {
            "cell_type": "markdown",
            "source": [
                "Proposition 3: \n",
                "\n",
                "Find all customers from Canada or Mexico but not both.\n",
                "\n",
                "1. Select the customers id's from sales.customer where there terriroty ID is 'CA' or 'MX'\n",
                "\n",
                "Easy way to find customers from both regions."
            ],
            "metadata": {
                "azdata_cell_guid": "905b8a44-6f60-4714-b27d-66d443496261"
            },
            "attachments": {}
        },
        {
            "cell_type": "code",
            "source": [
                "USE AdventureWorks2017\n",
                "SELECT CustomerID FROM Sales.Customer WHERE TerritoryID = \n",
                "(SELECT TerritoryID FROM Sales.SalesTerritory WHERE CountryRegionCode = 'CA')\n",
                "UNION\n",
                "SELECT CustomerID FROM Sales.Customer WHERE TerritoryID = \n",
                "(SELECT TerritoryID FROM Sales.SalesTerritory WHERE CountryRegionCode = 'MX')\n",
                ""
            ],
            "metadata": {
                "azdata_cell_guid": "8594319a-5e6c-473e-8553-061cf4062c22",
                "language": "sql",
                "tags": []
            },
            "outputs": [],
            "execution_count": null
        },
        {
            "cell_type": "markdown",
            "source": [
                "Proposition 4:   \n",
                "\n",
                "  \n",
                "\n",
                "Find all products that are not categorized as helmets.  \n",
                "\n",
                "  \n",
                "\n",
                "1. Using a with clause find all the products EXCEPT the ones where there subcatagoryID from the productsubcatagory is helmets\n",
                "2. Find the products name seperatly using a join because it would be a problem with except and get the name to confirm there are only id's for non helments.\n",
                "\n",
                "Good for visual and common search."
            ],
            "metadata": {
                "azdata_cell_guid": "879c7aa8-749e-42c6-8bcf-078c1e639505"
            },
            "attachments": {}
        },
        {
            "cell_type": "code",
            "source": [
                "USE AdventureWorks2017;\n",
                "WITH NotHelmet AS (\n",
                "SELECT ProductID FROM Production.Product\n",
                "EXCEPT\n",
                "SELECT ProductID FROM Production.Product WHERE ProductSubcategoryID = \n",
                "(SELECT ProductSubcategoryID FROM Production.ProductSubcategory WHERE Name = 'Helmets')\n",
                ")\n",
                "\n",
                "SELECT NH.ProductID, P.Name\n",
                "FROM NotHelmet AS NH \n",
                "JOIN Production.Product AS P ON P.ProductID = NH.productID\n",
                "\n",
                ""
            ],
            "metadata": {
                "azdata_cell_guid": "df809561-8b23-4442-8521-7981fa7010c0",
                "language": "sql",
                "tags": []
            },
            "outputs": [],
            "execution_count": null
        },
        {
            "cell_type": "markdown",
            "source": [
                "Proposition 5: <span style=\"font-family: -apple-system, BlinkMacSystemFont, sans-serif; color: var(--vscode-foreground);\">Find all customers who made purchases in 2012 but not in 2013.</span>\n",
                "\n",
                "1. <span style=\"font-family: -apple-system, BlinkMacSystemFont, sans-serif; color: var(--vscode-foreground);\">Simple EXCEPT clause using the year() function to easily compare in the where clause</span>\n",
                "\n",
                "Good information on the sales forcast"
            ],
            "metadata": {
                "azdata_cell_guid": "84ffe512-c71b-4bf0-92ff-8aef90ea27e9"
            },
            "attachments": {}
        },
        {
            "cell_type": "code",
            "source": [
                "USE AdventureWorks2017\n",
                "SELECT CustomerID FROM Sales.SalesOrderHeader WHERE YEAR(OrderDate) = 2012\n",
                "EXCEPT\n",
                "SELECT CustomerID FROM Sales.SalesOrderHeader WHERE YEAR(OrderDate) = 2013;\n",
                ""
            ],
            "metadata": {
                "azdata_cell_guid": "51451cfe-7d94-48cb-95d4-f78373cd5e32",
                "language": "sql",
                "tags": []
            },
            "outputs": [],
            "execution_count": null
        },
        {
            "cell_type": "markdown",
            "source": [
                "Proposition 6: <span style=\"font-family: -apple-system, BlinkMacSystemFont, sans-serif; color: var(--vscode-foreground);\">Find all products that are either black or Silver.</span>\n",
                "\n",
                "1.   <span style=\"font-family: -apple-system, BlinkMacSystemFont, sans-serif; color: var(--vscode-foreground);\">&nbsp;SELECTS distinctly black and white colors using the union.</span> \n",
                "2. <span style=\"font-family: -apple-system, BlinkMacSystemFont, sans-serif; color: var(--vscode-foreground);\">All packaged in the blackorsilver then seperatly getting the BOS table we created and join it with product to find the name of the color.</span>\n",
                "\n",
                "Good for categorising and easy to see visually"
            ],
            "metadata": {
                "azdata_cell_guid": "9a5aff00-3a22-4df5-8428-8c53bef1b3d2"
            },
            "attachments": {}
        },
        {
            "cell_type": "code",
            "source": [
                "USE AdventureWorks2017;\n",
                "WITH BlackOrSilver AS (\n",
                "SELECT ProductID FROM Production.Product WHERE Color = 'Black'\n",
                "UNION \n",
                "SELECT ProductID FROM Production.Product WHERE Color = 'Silver'\n",
                "\n",
                ")\n",
                "SELECT BOS.ProductID, Color\n",
                "FROM BlackOrSilver AS BOS\n",
                "JOIN Production.Product AS P ON P.ProductID = BOS.ProductID\n",
                "\n",
                ""
            ],
            "metadata": {
                "azdata_cell_guid": "a3ee6ef5-5c31-44ce-9e36-48416880be8b",
                "language": "sql"
            },
            "outputs": [],
            "execution_count": null
        },
        {
            "cell_type": "markdown",
            "source": [
                "Proposition 7: \n",
                "\n",
                "<span style=\"font-family: -apple-system, BlinkMacSystemFont, sans-serif; color: var(--vscode-foreground);\">Find all customers who made purchases in both 2012 and 2013.</span>\n",
                "\n",
                "1. <span style=\"font-family: -apple-system, BlinkMacSystemFont, sans-serif; color: var(--vscode-foreground);\">Uses Interesect and Where clause and year function to find the appropoiate data.</span>\n",
                "\n",
                "Very fast way to find the sales for both eyars combine"
            ],
            "metadata": {
                "azdata_cell_guid": "00f3257d-c953-4374-8a58-558eea698b16"
            },
            "attachments": {}
        },
        {
            "cell_type": "code",
            "source": [
                "USE AdventureWorks2017;\n",
                "\n",
                "SELECT CustomerID FROM Sales.SalesOrderHeader WHERE YEAR(OrderDate) = 2012\n",
                "INTERSECT\n",
                "SELECT CustomerID FROM Sales.SalesOrderHeader WHERE YEAR(OrderDate) = 2013;\n",
                ""
            ],
            "metadata": {
                "azdata_cell_guid": "71ea2487-d774-4121-8c0c-dbfa015d3ed0",
                "language": "sql"
            },
            "outputs": [],
            "execution_count": null
        },
        {
            "cell_type": "markdown",
            "source": [
                "Proposition 8:\n",
                "\n",
                "Find the Product IDs of all products that are currently in stock but were never sold\n",
                "\n",
                "1. Find the makerFlag that = 1 which determines if its in stock or not\n",
                "2. use except orderdetail which is a table with only products that have been sold\n",
                "\n",
                "good to know specifically which item has never been touched"
            ],
            "metadata": {
                "azdata_cell_guid": "84eb09e2-4d96-4849-a3a7-69422388e950"
            },
            "attachments": {}
        },
        {
            "cell_type": "code",
            "source": [
                "USE AdventureWorks2017;\n",
                "\n",
                "SELECT ProductID\n",
                "FROM Production.Product\n",
                "WHERE MakeFlag = 1\n",
                "\n",
                "EXCEPT\n",
                "\n",
                "SELECT ProductID\n",
                "FROM Sales.SalesOrderDetail\n",
                ""
            ],
            "metadata": {
                "azdata_cell_guid": "e83c1378-5d35-42ce-94e8-c2144c1f4bfb",
                "language": "sql"
            },
            "outputs": [],
            "execution_count": null
        },
        {
            "cell_type": "markdown",
            "source": [
                "Proposition 9:\n",
                "\n",
                "Find products with no orders in 2012 or 2013 but are still in stock\n",
                "\n",
                "1.  Using with clause we make instock1213 find all the products that are instock but were not sold in 2012 and 2013\n",
                "2. by joining detail header and product and by joining it with header we check the sales date for 2012 and 2013\n",
                "3. Then select the name and product id outside\n",
                "\n",
                "nice to find whats not selling well in given years"
            ],
            "metadata": {
                "azdata_cell_guid": "db46423c-6ab7-4560-8e7f-120b5f782256"
            },
            "attachments": {}
        },
        {
            "cell_type": "code",
            "source": [
                "USE AdventureWorks2017;\n",
                "\n",
                "WITH InStock1213 AS (\n",
                "SELECT ProductID, Name\n",
                "FROM Production.Product\n",
                "WHERE MakeFlag = 1\n",
                "\n",
                "EXCEPT\n",
                "\n",
                "\n",
                "SELECT DISTINCT P.ProductID, P.Name\n",
                "FROM Production.Product AS P\n",
                "\n",
                "JOIN Sales.SalesOrderDetail AS SOD \n",
                "ON P.ProductID = SOD.ProductID\n",
                "\n",
                "JOIN Sales.SalesOrderHeader AS SOH \n",
                "ON SOD.SalesOrderID = SOH.SalesOrderID\n",
                "\n",
                "WHERE YEAR(SOH.OrderDate) = 2012 OR YEAR(SOH.OrderDate) = 2013)\n",
                "\n",
                "SELECT IS1213.ProductID, P.Name, P.MakeFlag\n",
                "FROM InStock1213 AS IS1213\n",
                "JOIN production.product AS P ON P.productID = IS1213.productID"
            ],
            "metadata": {
                "azdata_cell_guid": "04a3cae0-8d59-454f-ae3c-db2891c5a082",
                "language": "sql"
            },
            "outputs": [],
            "execution_count": null
        },
        {
            "cell_type": "markdown",
            "source": [
                "Proposition 10:\n",
                "\n",
                "The proposition of this query is to find customers who purchased helmets in 2013 but did not purchase helmets in 2012.\n",
                "\n",
                "1. Using the with make both helemetcustomer2012 and 2013 both finds the products by joining the header detail and product and in the header we find the sales from the year and making a sub quarie we find the product id for helemet.\n",
                "2. We use except to find the helemets that were only purchased 2013"
            ],
            "metadata": {
                "azdata_cell_guid": "627c78f0-04f7-4895-b8ee-1b89ac7a61df"
            },
            "attachments": {}
        },
        {
            "cell_type": "code",
            "source": [
                "use AdventureWorks2017;\n",
                "\n",
                "WITH HelmetCustomers2012 AS (\n",
                "    SELECT DISTINCT SOH.CustomerID\n",
                "    FROM Sales.SalesOrderHeader AS SOH\n",
                "    JOIN Sales.SalesOrderDetail AS SOD ON SOH.SalesOrderID = SOD.SalesOrderID\n",
                "    JOIN Production.Product AS P ON SOD.ProductID = P.ProductID\n",
                "    WHERE YEAR(SOH.OrderDate) = 2013\n",
                "      AND P.ProductSubcategoryID = (\n",
                "          SELECT ProductSubcategoryID\n",
                "          FROM Production.ProductSubcategory\n",
                "          WHERE Name = 'Helmets'\n",
                "      )\n",
                "),\n",
                "\n",
                "HelmetCustomers2013 AS (\n",
                "    SELECT DISTINCT SOH.CustomerID\n",
                "    FROM Sales.SalesOrderHeader AS SOH\n",
                "    JOIN Sales.SalesOrderDetail AS SOD ON SOH.SalesOrderID = SOD.SalesOrderID\n",
                "    JOIN Production.Product AS P ON SOD.ProductID = P.ProductID\n",
                "    WHERE YEAR(SOH.OrderDate) = 2012\n",
                "      AND P.ProductSubcategoryID = (\n",
                "          SELECT ProductSubcategoryID\n",
                "          FROM Production.ProductSubcategory\n",
                "          WHERE Name = 'Helmets'\n",
                "      )\n",
                ")\n",
                "\n",
                "SELECT CustomerID\n",
                "FROM HelmetCustomers2013\n",
                "EXCEPT\n",
                "SELECT CustomerID\n",
                "FROM HelmetCustomers2012\n",
                ""
            ],
            "metadata": {
                "azdata_cell_guid": "5a4f16c5-9451-4c7b-8915-f4cc0fe49385",
                "language": "sql"
            },
            "outputs": [
                {
                    "output_type": "display_data",
                    "data": {
                        "text/html": "(67 rows affected)"
                    },
                    "metadata": {}
                },
                {
                    "output_type": "display_data",
                    "data": {
                        "text/html": "Total execution time: 00:00:00.109"
                    },
                    "metadata": {}
                },
                {
                    "output_type": "execute_result",
                    "metadata": {},
                    "execution_count": 86,
                    "data": {
                        "application/vnd.dataresource+json": {
                            "schema": {
                                "fields": [
                                    {
                                        "name": "CustomerID"
                                    }
                                ]
                            },
                            "data": [
                                {
                                    "CustomerID": "29493"
                                },
                                {
                                    "CustomerID": "29508"
                                },
                                {
                                    "CustomerID": "29510"
                                },
                                {
                                    "CustomerID": "29511"
                                },
                                {
                                    "CustomerID": "29513"
                                },
                                {
                                    "CustomerID": "29525"
                                },
                                {
                                    "CustomerID": "29531"
                                },
                                {
                                    "CustomerID": "29562"
                                },
                                {
                                    "CustomerID": "29569"
                                },
                                {
                                    "CustomerID": "29573"
                                },
                                {
                                    "CustomerID": "29581"
                                },
                                {
                                    "CustomerID": "29582"
                                },
                                {
                                    "CustomerID": "29593"
                                },
                                {
                                    "CustomerID": "29613"
                                },
                                {
                                    "CustomerID": "29624"
                                },
                                {
                                    "CustomerID": "29659"
                                },
                                {
                                    "CustomerID": "29661"
                                },
                                {
                                    "CustomerID": "29667"
                                },
                                {
                                    "CustomerID": "29674"
                                },
                                {
                                    "CustomerID": "29683"
                                },
                                {
                                    "CustomerID": "29684"
                                },
                                {
                                    "CustomerID": "29708"
                                },
                                {
                                    "CustomerID": "29731"
                                },
                                {
                                    "CustomerID": "29740"
                                },
                                {
                                    "CustomerID": "29742"
                                },
                                {
                                    "CustomerID": "29749"
                                },
                                {
                                    "CustomerID": "29765"
                                },
                                {
                                    "CustomerID": "29771"
                                },
                                {
                                    "CustomerID": "29773"
                                },
                                {
                                    "CustomerID": "29774"
                                },
                                {
                                    "CustomerID": "29778"
                                },
                                {
                                    "CustomerID": "29782"
                                },
                                {
                                    "CustomerID": "29791"
                                },
                                {
                                    "CustomerID": "29815"
                                },
                                {
                                    "CustomerID": "29819"
                                },
                                {
                                    "CustomerID": "29824"
                                },
                                {
                                    "CustomerID": "29828"
                                },
                                {
                                    "CustomerID": "29834"
                                },
                                {
                                    "CustomerID": "29835"
                                },
                                {
                                    "CustomerID": "29846"
                                },
                                {
                                    "CustomerID": "29861"
                                },
                                {
                                    "CustomerID": "29879"
                                },
                                {
                                    "CustomerID": "29885"
                                },
                                {
                                    "CustomerID": "29888"
                                },
                                {
                                    "CustomerID": "29892"
                                },
                                {
                                    "CustomerID": "29896"
                                },
                                {
                                    "CustomerID": "29901"
                                },
                                {
                                    "CustomerID": "29921"
                                },
                                {
                                    "CustomerID": "29925"
                                },
                                {
                                    "CustomerID": "29938"
                                },
                                {
                                    "CustomerID": "29963"
                                },
                                {
                                    "CustomerID": "29967"
                                },
                                {
                                    "CustomerID": "30017"
                                },
                                {
                                    "CustomerID": "30019"
                                },
                                {
                                    "CustomerID": "30028"
                                },
                                {
                                    "CustomerID": "30037"
                                },
                                {
                                    "CustomerID": "30041"
                                },
                                {
                                    "CustomerID": "30046"
                                },
                                {
                                    "CustomerID": "30049"
                                },
                                {
                                    "CustomerID": "30076"
                                },
                                {
                                    "CustomerID": "30088"
                                },
                                {
                                    "CustomerID": "30090"
                                },
                                {
                                    "CustomerID": "30094"
                                },
                                {
                                    "CustomerID": "30100"
                                },
                                {
                                    "CustomerID": "30104"
                                },
                                {
                                    "CustomerID": "30106"
                                },
                                {
                                    "CustomerID": "30111"
                                }
                            ]
                        },
                        "text/html": [
                            "<table>",
                            "<tr><th>CustomerID</th></tr>",
                            "<tr><td>29493</td></tr>",
                            "<tr><td>29508</td></tr>",
                            "<tr><td>29510</td></tr>",
                            "<tr><td>29511</td></tr>",
                            "<tr><td>29513</td></tr>",
                            "<tr><td>29525</td></tr>",
                            "<tr><td>29531</td></tr>",
                            "<tr><td>29562</td></tr>",
                            "<tr><td>29569</td></tr>",
                            "<tr><td>29573</td></tr>",
                            "<tr><td>29581</td></tr>",
                            "<tr><td>29582</td></tr>",
                            "<tr><td>29593</td></tr>",
                            "<tr><td>29613</td></tr>",
                            "<tr><td>29624</td></tr>",
                            "<tr><td>29659</td></tr>",
                            "<tr><td>29661</td></tr>",
                            "<tr><td>29667</td></tr>",
                            "<tr><td>29674</td></tr>",
                            "<tr><td>29683</td></tr>",
                            "<tr><td>29684</td></tr>",
                            "<tr><td>29708</td></tr>",
                            "<tr><td>29731</td></tr>",
                            "<tr><td>29740</td></tr>",
                            "<tr><td>29742</td></tr>",
                            "<tr><td>29749</td></tr>",
                            "<tr><td>29765</td></tr>",
                            "<tr><td>29771</td></tr>",
                            "<tr><td>29773</td></tr>",
                            "<tr><td>29774</td></tr>",
                            "<tr><td>29778</td></tr>",
                            "<tr><td>29782</td></tr>",
                            "<tr><td>29791</td></tr>",
                            "<tr><td>29815</td></tr>",
                            "<tr><td>29819</td></tr>",
                            "<tr><td>29824</td></tr>",
                            "<tr><td>29828</td></tr>",
                            "<tr><td>29834</td></tr>",
                            "<tr><td>29835</td></tr>",
                            "<tr><td>29846</td></tr>",
                            "<tr><td>29861</td></tr>",
                            "<tr><td>29879</td></tr>",
                            "<tr><td>29885</td></tr>",
                            "<tr><td>29888</td></tr>",
                            "<tr><td>29892</td></tr>",
                            "<tr><td>29896</td></tr>",
                            "<tr><td>29901</td></tr>",
                            "<tr><td>29921</td></tr>",
                            "<tr><td>29925</td></tr>",
                            "<tr><td>29938</td></tr>",
                            "<tr><td>29963</td></tr>",
                            "<tr><td>29967</td></tr>",
                            "<tr><td>30017</td></tr>",
                            "<tr><td>30019</td></tr>",
                            "<tr><td>30028</td></tr>",
                            "<tr><td>30037</td></tr>",
                            "<tr><td>30041</td></tr>",
                            "<tr><td>30046</td></tr>",
                            "<tr><td>30049</td></tr>",
                            "<tr><td>30076</td></tr>",
                            "<tr><td>30088</td></tr>",
                            "<tr><td>30090</td></tr>",
                            "<tr><td>30094</td></tr>",
                            "<tr><td>30100</td></tr>",
                            "<tr><td>30104</td></tr>",
                            "<tr><td>30106</td></tr>",
                            "<tr><td>30111</td></tr>",
                            "</table>"
                        ]
                    }
                }
            ],
            "execution_count": 86
        }
    ]
}

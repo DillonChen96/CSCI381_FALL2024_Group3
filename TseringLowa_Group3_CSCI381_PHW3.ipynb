{
    "metadata": {
        "kernelspec": {
            "name": "SQL",
            "display_name": "SQL",
            "language": "sql"
        },
        "language_info": {
            "name": "sql",
            "version": ""
        }
    },
    "nbformat_minor": 2,
    "nbformat": 4,
    "cells": [
        {
            "cell_type": "markdown",
            "source": [
                "1: The query retrieves all suppliers who have a `PaymentDays` value greater than the minimum `PaymentDays` in the `Purchasing.Suppliers` table (if it is less than 30) or greater than 30 (if the minimum is 30 or more).\r\n",
                ""
            ],
            "metadata": {
                "azdata_cell_guid": "de8d5eb1-8f84-478d-8724-5880ba4b7775"
            },
            "attachments": {}
        },
        {
            "cell_type": "code",
            "source": [
                "use WideWorldImporters\r\n",
                "\r\n",
                "SELECT SupplierName, PaymentDays \r\n",
                "FROM Purchasing.Suppliers \r\n",
                "WHERE PaymentDays > (\r\n",
                "    SELECT CASE \r\n",
                "        WHEN MIN(PaymentDays) < 30 THEN MIN(PaymentDays) \r\n",
                "        ELSE 30 \r\n",
                "    END \r\n",
                "    FROM Purchasing.Suppliers \r\n",
                "    WHERE PaymentDays IS NOT NULL\r\n",
                ");\r\n",
                ""
            ],
            "metadata": {
                "azdata_cell_guid": "e782e5e9-a236-4b1c-bea0-77e3caf92503",
                "language": "sql"
            },
            "outputs": [],
            "execution_count": null
        },
        {
            "cell_type": "markdown",
            "source": [
                "2: **Scalar Subquery to Find Most Expensive Product per Order** :\r\n",
                "This query uses a self-contained scalar subquery to find the most expensive product in each order. The subquery calculates the maximum UnitPrice for each OrderID in the Sales.OrderLines table, returning it as a new column in the main query."
            ],
            "metadata": {
                "azdata_cell_guid": "a2b790ef-39ce-4e48-b8d8-586124081c44"
            },
            "attachments": {}
        },
        {
            "cell_type": "code",
            "source": [
                "USE WideWorldImporters;\r\n",
                "\r\n",
                "SELECT \r\n",
                "    O.OrderID, \r\n",
                "    (SELECT MAX(UnitPrice) \r\n",
                "     FROM Sales.OrderLines OL \r\n",
                "     WHERE OL.OrderID = O.OrderID) AS MostExpensiveProduct\r\n",
                "FROM \r\n",
                "    Sales.Orders O;\r\n",
                ""
            ],
            "metadata": {
                "azdata_cell_guid": "6079798a-57b2-446a-857f-7b78f40c5733",
                "language": "sql"
            },
            "outputs": [],
            "execution_count": null
        },
        {
            "cell_type": "markdown",
            "source": [
                "3: **Multivalued Subquery to Find Customers with Multiple Order**s : This self-contained multivalued subquery retrieves customers who have placed more than one order. The subquery groups the Orders table by CustomerID, counting the number of orders for each customer and returning only those with multiple orders."
            ],
            "metadata": {
                "azdata_cell_guid": "06c2a580-e267-4eda-8b9d-65c830b85c42"
            },
            "attachments": {}
        },
        {
            "cell_type": "code",
            "source": [
                "USE WideWorldImporters;\r\n",
                "\r\n",
                "SELECT \r\n",
                "    CustomerName\r\n",
                "FROM \r\n",
                "    Sales.Customers\r\n",
                "WHERE \r\n",
                "    CustomerID IN (\r\n",
                "        SELECT CustomerID \r\n",
                "        FROM Sales.Orders \r\n",
                "        GROUP BY CustomerID \r\n",
                "        HAVING COUNT(OrderID) > 1\r\n",
                "    );\r\n",
                ""
            ],
            "metadata": {
                "azdata_cell_guid": "a3238360-d0ef-4186-aa09-55ec3345eb74",
                "language": "sql"
            },
            "outputs": [],
            "execution_count": null
        },
        {
            "cell_type": "markdown",
            "source": [
                "4: **Common Table Expression (CTE) for Top Selling Products :** This query uses a **Common Table Expression (CTE)** named `TopProducts` to calculate the total quantity sold for each product. The main query then joins this CTE with the `Warehouse.StockItems` table to retrieve product names and display them in descending order of quantity sold."
            ],
            "metadata": {
                "azdata_cell_guid": "c13cac04-317b-460c-9486-aabd1d251458"
            },
            "attachments": {}
        },
        {
            "cell_type": "code",
            "source": [
                "USE WideWorldImporters;\r\n",
                "\r\n",
                "WITH TopProducts AS (\r\n",
                "    SELECT StockItemID, SUM(Quantity) AS TotalSold\r\n",
                "    FROM Sales.OrderLines\r\n",
                "    GROUP BY StockItemID\r\n",
                ")\r\n",
                "\r\n",
                "SELECT \r\n",
                "    SI.StockItemName, \r\n",
                "    TP.TotalSold\r\n",
                "FROM \r\n",
                "    Warehouse.StockItems SI\r\n",
                "JOIN \r\n",
                "    TopProducts TP ON SI.StockItemID = TP.StockItemID\r\n",
                "ORDER BY \r\n",
                "    TP.TotalSold DESC;\r\n",
                ""
            ],
            "metadata": {
                "azdata_cell_guid": "ca7f48df-9190-417c-9a2b-2e1cbd3e3dca",
                "language": "sql"
            },
            "outputs": [],
            "execution_count": null
        },
        {
            "cell_type": "markdown",
            "source": [
                "5: **Correlated Subquery to Retrieve Previous Order Date for Each Customer :** This query uses a **correlated subquery** to retrieve the previous order date for each customer. For each order in the `Sales.Orders` table, the subquery searches for the most recent earlier order by the same customer."
            ],
            "metadata": {
                "azdata_cell_guid": "d44af9aa-5a78-44af-93a3-5be1798813c5"
            },
            "attachments": {}
        },
        {
            "cell_type": "code",
            "source": [
                "USE WideWorldImporters;\r\n",
                "\r\n",
                "SELECT \r\n",
                "    O.CustomerID, \r\n",
                "    O.OrderID, \r\n",
                "    O.OrderDate,\r\n",
                "    (SELECT MAX(O2.OrderDate) \r\n",
                "     FROM Sales.Orders O2 \r\n",
                "     WHERE O2.CustomerID = O.CustomerID \r\n",
                "     AND O2.OrderDate < O.OrderDate) AS PreviousOrderDate\r\n",
                "FROM \r\n",
                "    Sales.Orders O;\r\n",
                ""
            ],
            "metadata": {
                "azdata_cell_guid": "62687c99-a285-4ed1-a56d-b30da9410506",
                "language": "sql"
            },
            "outputs": [],
            "execution_count": null
        },
        {
            "cell_type": "markdown",
            "source": [
                "6: **Using Running Aggregates to Calculate Running Total of Sales** : This query uses a window function inside a Common Table Expression (CTE) to calculate the running total of sales. It adds the total order value cumulatively as the query progresses through the result set, based on OrderDate."
            ],
            "metadata": {
                "azdata_cell_guid": "0beb550f-7e3f-478d-8341-14bcfd3d1c7e"
            },
            "attachments": {}
        },
        {
            "cell_type": "code",
            "source": [
                "USE WideWorldImporters;\r\n",
                "\r\n",
                "WITH RunningTotals AS (\r\n",
                "    SELECT \r\n",
                "        O.OrderID, \r\n",
                "        O.OrderDate, \r\n",
                "        SUM(Quantity * UnitPrice) OVER (ORDER BY O.OrderDate ROWS BETWEEN UNBOUNDED PRECEDING AND CURRENT ROW) AS RunningTotal\r\n",
                "    FROM \r\n",
                "        Sales.Orders O\r\n",
                "    JOIN \r\n",
                "        Sales.OrderLines OL ON O.OrderID = OL.OrderID\r\n",
                ")\r\n",
                "\r\n",
                "SELECT \r\n",
                "    OrderID, \r\n",
                "    OrderDate, \r\n",
                "    RunningTotal\r\n",
                "FROM \r\n",
                "    RunningTotals;\r\n",
                ""
            ],
            "metadata": {
                "azdata_cell_guid": "c9ecb549-3c7f-42c2-9c1d-db141f19f67f",
                "language": "sql"
            },
            "outputs": [],
            "execution_count": null
        },
        {
            "cell_type": "markdown",
            "source": [
                "7: **Derived Table with Aggregate to Find Orders with High Quantities :** This query uses a **derived table** to calculate the total quantity for each order. The main query filters the results to show only those orders where the total quantity exceeds 100 units."
            ],
            "metadata": {
                "azdata_cell_guid": "6032c385-800b-4f3a-bacb-efeb2b9fddbb"
            },
            "attachments": {}
        },
        {
            "cell_type": "code",
            "source": [
                "USE WideWorldImporters;\r\n",
                "\r\n",
                "SELECT \r\n",
                "    O.OrderID, \r\n",
                "    OT.TotalQuantity\r\n",
                "FROM \r\n",
                "    Sales.Orders O\r\n",
                "JOIN \r\n",
                "    (SELECT OrderID, SUM(Quantity) AS TotalQuantity\r\n",
                "     FROM Sales.OrderLines\r\n",
                "     GROUP BY OrderID) OT\r\n",
                "ON \r\n",
                "    O.OrderID = OT.OrderID\r\n",
                "WHERE \r\n",
                "    OT.TotalQuantity > 100;\r\n",
                ""
            ],
            "metadata": {
                "azdata_cell_guid": "55719dca-f8e9-47f4-9b4c-3be5220c0233",
                "language": "sql"
            },
            "outputs": [],
            "execution_count": null
        },
        {
            "cell_type": "markdown",
            "source": [
                "8: **Using the APPLY Operator to Retrieve Most Recent Order for Each Customer :** This query uses the **CROSS APPLY** operator to retrieve the most recent order for each customer. The subquery inside the `APPLY` operator returns the most recent `OrderID` and `OrderDate` for each customer, ordered by `OrderDate` in descending order."
            ],
            "metadata": {
                "azdata_cell_guid": "c2f17f5f-f878-42a1-81a7-ee79e131f921"
            },
            "attachments": {}
        },
        {
            "cell_type": "code",
            "source": [
                "USE WideWorldImporters;\r\n",
                "\r\n",
                "SELECT \r\n",
                "    C.CustomerName, \r\n",
                "    O.OrderID, \r\n",
                "    O.OrderDate\r\n",
                "FROM \r\n",
                "    Sales.Customers C\r\n",
                "CROSS APPLY (\r\n",
                "    SELECT TOP 1 OrderID, OrderDate\r\n",
                "    FROM Sales.Orders O \r\n",
                "    WHERE O.CustomerID = C.CustomerID\r\n",
                "    ORDER BY O.OrderDate DESC\r\n",
                ") O;\r\n",
                ""
            ],
            "metadata": {
                "azdata_cell_guid": "6d361e3e-0fb7-46fe-b652-c39214af8270",
                "language": "sql"
            },
            "outputs": [],
            "execution_count": null
        },
        {
            "cell_type": "markdown",
            "source": [
                "9: **Recursive CTE to Generate a Sequence of Numbers :** This query uses a **recursive CTE** to generate a sequence of numbers from 1 to 10. The recursive CTE starts with `1` and repeatedly increments the value by `1` until it reaches `10`. This kind of query is useful for generating sequences or hierarchies."
            ],
            "metadata": {
                "azdata_cell_guid": "b5b51c71-3c0e-49f9-97b0-888a2695709f"
            },
            "attachments": {}
        },
        {
            "cell_type": "code",
            "source": [
                "USE WideWorldImporters;\r\n",
                "\r\n",
                "WITH NumberSequence AS (\r\n",
                "    SELECT 1 AS Number\r\n",
                "    UNION ALL\r\n",
                "    SELECT Number + 1 \r\n",
                "    FROM NumberSequence\r\n",
                "    WHERE Number < 10\r\n",
                ")\r\n",
                "\r\n",
                "SELECT \r\n",
                "    Number\r\n",
                "FROM \r\n",
                "    NumberSequence;\r\n",
                ""
            ],
            "metadata": {
                "azdata_cell_guid": "65e124cf-fe6c-4a15-943e-9ebae0f5116b",
                "language": "sql"
            },
            "outputs": [],
            "execution_count": null
        },
        {
            "cell_type": "markdown",
            "source": [
                "10: **Common Table Expression (CTE) for Monthly Sales Summary :** This query uses a **CTE** to calculate the total sales per month. The `MonthlySales` CTE groups orders by the month in which they were placed and calculates the total sales. The main query retrieves and orders this summary."
            ],
            "metadata": {
                "azdata_cell_guid": "34b66267-14d1-49e2-8a82-a7c4ed6245dc"
            },
            "attachments": {}
        },
        {
            "cell_type": "code",
            "source": [
                "USE WideWorldImporters;\r\n",
                "\r\n",
                "WITH MonthlySales AS (\r\n",
                "    SELECT \r\n",
                "        DATEPART(MONTH, OrderDate) AS OrderMonth, \r\n",
                "        SUM(Quantity * UnitPrice) AS TotalSales\r\n",
                "    FROM \r\n",
                "        Sales.OrderLines OL\r\n",
                "    JOIN \r\n",
                "        Sales.Orders O ON OL.OrderID = O.OrderID\r\n",
                "    GROUP BY \r\n",
                "        DATEPART(MONTH, OrderDate)\r\n",
                ")\r\n",
                "\r\n",
                "SELECT \r\n",
                "    OrderMonth, \r\n",
                "    TotalSales\r\n",
                "FROM \r\n",
                "    MonthlySales\r\n",
                "ORDER BY \r\n",
                "    OrderMonth;\r\n",
                ""
            ],
            "metadata": {
                "azdata_cell_guid": "f49b7149-cbed-4d5c-b9e3-d3829811164c",
                "language": "sql"
            },
            "outputs": [],
            "execution_count": null
        }
    ]
}